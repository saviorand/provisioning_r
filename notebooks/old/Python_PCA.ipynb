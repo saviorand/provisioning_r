{
  "cells": [
    {
      "attachments": {},
      "cell_type": "markdown",
      "metadata": {
        "colab_type": "text",
        "id": "_dhYUDq9u6lY"
      },
      "source": [
        "# **Machine Learning in Python: Performing Principal Component Analysis (PCA)**\n",
        "\n",
        "Chanin Nantasenamat\n",
        "\n",
        "<i>Data Professor YouTube channel, http://youtube.com/dataprofessor </i>\n",
        "\n",
        "In this Jupyter notebook, we will be performing Principal Component Analysis (PCA) using the Iris data set as an example."
      ]
    },
    {
      "attachments": {},
      "cell_type": "markdown",
      "metadata": {
        "colab_type": "text",
        "id": "06FKTxWKxhS3"
      },
      "source": [
        "---"
      ]
    },
    {
      "attachments": {},
      "cell_type": "markdown",
      "metadata": {
        "colab_type": "text",
        "id": "zIEVV6ilwmd-"
      },
      "source": [
        "## **PCA analysis**"
      ]
    },
    {
      "attachments": {},
      "cell_type": "markdown",
      "metadata": {
        "colab_type": "text",
        "id": "ZKTWaerqP9Fn"
      },
      "source": [
        "### 2.1. Load library"
      ]
    },
    {
      "cell_type": "code",
      "execution_count": 2,
      "metadata": {
        "colab": {},
        "colab_type": "code",
        "id": "VsYGSVAqyEfd"
      },
      "outputs": [],
      "source": [
        "from sklearn.preprocessing import scale # Data scaling\n",
        "from sklearn import decomposition #PCA\n",
        "from sklearn.preprocessing import StandardScaler\n",
        "from sklearn.impute import SimpleImputer\n",
        "import pandas as pd # pandas\n",
        "import numpy as np"
      ]
    },
    {
      "attachments": {},
      "cell_type": "markdown",
      "metadata": {
        "colab_type": "text",
        "id": "-NgIE0Vaaw80"
      },
      "source": [
        "### 2.2. Data scaling"
      ]
    },
    {
      "cell_type": "code",
      "execution_count": 3,
      "metadata": {
        "colab": {},
        "colab_type": "code",
        "id": "gwG7MVqWazvO"
      },
      "outputs": [],
      "source": [
        "wbAndGender = pd.read_csv(\"./Static/wbAndGender.csv\")"
      ]
    },
    {
      "cell_type": "code",
      "execution_count": 4,
      "metadata": {},
      "outputs": [],
      "source": [
        "withoutNaNs = wbAndGender.replace(\"..\", np.nan)\n",
        "for column in withoutNaNs.columns:\n",
        "    if withoutNaNs.columns.get_loc(column) > 3 and withoutNaNs[column].dtype == 'object':\n",
        "        withoutNaNs[column] = withoutNaNs[column].astype('float64')"
      ]
    },
    {
      "cell_type": "code",
      "execution_count": 5,
      "metadata": {},
      "outputs": [],
      "source": [
        "withoutNaNs_filtered = withoutNaNs[withoutNaNs['Year'] == 2015]\n",
        "withoutNaNs_filtered_notEmpty = withoutNaNs_filtered[withoutNaNs_filtered['Country.Name'].notnull()]\n",
        "withoutNaNsNumeric = withoutNaNs_filtered_notEmpty.iloc[:,4:38]"
      ]
    },
    {
      "attachments": {},
      "cell_type": "markdown",
      "metadata": {
        "colab_type": "text",
        "id": "e459eMWpQA5Y"
      },
      "source": [
        "### 2.3. Perform PCA analysis"
      ]
    },
    {
      "attachments": {},
      "cell_type": "markdown",
      "metadata": {
        "colab_type": "text",
        "id": "ljxH8Hclbhpv"
      },
      "source": [
        "Here we define the number of PC to use as 3"
      ]
    },
    {
      "cell_type": "code",
      "execution_count": 6,
      "metadata": {},
      "outputs": [],
      "source": [
        "imp = SimpleImputer(missing_values=np.nan, strategy='mean', keep_empty_features=True)\n",
        "withoutNaNsimputed = imp.fit_transform(withoutNaNsNumeric)"
      ]
    },
    {
      "cell_type": "code",
      "execution_count": 7,
      "metadata": {},
      "outputs": [
        {
          "data": {
            "text/plain": [
              "(-2.2716084006155277e-16, 0.9701425001453319)"
            ]
          },
          "execution_count": 7,
          "metadata": {},
          "output_type": "execute_result"
        }
      ],
      "source": [
        "scaled =  StandardScaler().fit_transform(withoutNaNsimputed)\n",
        "#ss = StandardScaler()\n",
        "#scaled = pd.DataFrame(ss.fit_transform(withoutNaNsimputed),columns = withoutNaNsimputed.columns)\n",
        "np.mean(scaled), np.std(scaled)"
      ]
    },
    {
      "cell_type": "code",
      "execution_count": 8,
      "metadata": {
        "colab": {
          "base_uri": "https://localhost:8080/",
          "height": 51
        },
        "colab_type": "code",
        "id": "xc4axaaBQJVh",
        "outputId": "b98c8a79-5577-4982-fdf1-1672da43359a"
      },
      "outputs": [],
      "source": [
        "pca = decomposition.PCA(n_components=4)\n",
        "principalComponents_scaled = pca.fit_transform(scaled)\n"
      ]
    },
    {
      "attachments": {},
      "cell_type": "markdown",
      "metadata": {
        "colab_type": "text",
        "id": "b6-MMWHVbmoW"
      },
      "source": [
        "#### 2.4. Compute and retrieve the **scores** values"
      ]
    },
    {
      "cell_type": "code",
      "execution_count": 9,
      "metadata": {
        "colab": {
          "base_uri": "https://localhost:8080/",
          "height": 419
        },
        "colab_type": "code",
        "id": "LECV1kDAQcdG",
        "outputId": "751b7451-f56e-4541-d143-038d9b5cbef9"
      },
      "outputs": [],
      "source": [
        "principal_scaled_Df = pd.DataFrame(data=principalComponents_scaled, columns=['PC1', 'PC2', 'PC3', 'PC4'])"
      ]
    },
    {
      "cell_type": "code",
      "execution_count": 10,
      "metadata": {
        "colab": {},
        "colab_type": "code",
        "id": "7eFmcxcPQWgI"
      },
      "outputs": [],
      "source": [
        "countryYears = withoutNaNs_filtered_notEmpty.iloc[:,1:4]"
      ]
    },
    {
      "cell_type": "code",
      "execution_count": 11,
      "metadata": {
        "colab": {},
        "colab_type": "code",
        "id": "z7NGBibTSdP2"
      },
      "outputs": [],
      "source": [
        "#df_scores = pd.concat([countryYears, principal_scaled_Df], axis=1)\n",
        "df_scores = pd.concat([countryYears.reset_index(drop=True), principal_scaled_Df.reset_index(drop=True)], axis=1)"
      ]
    },
    {
      "cell_type": "code",
      "execution_count": 12,
      "metadata": {},
      "outputs": [],
      "source": [
        "import matplotlib.pyplot as plt "
      ]
    },
    {
      "cell_type": "code",
      "execution_count": 13,
      "metadata": {},
      "outputs": [
        {
          "data": {
            "image/png": "[encoded data removed]",
            "text/plain": [
              "<Figure size 640x480 with 1 Axes>"
            ]
          },
          "metadata": {},
          "output_type": "display_data"
        }
      ],
      "source": [
        "def myplot(score,coeff,labels=None):\n",
        "    xs = score[:,0]\n",
        "    ys = score[:,1]\n",
        "    n = coeff.shape[0]\n",
        "    scalex = 1.0/(xs.max() - xs.min())\n",
        "    scaley = 1.0/(ys.max() - ys.min())\n",
        "    plt.scatter(xs * scalex,ys * scaley,s=5)\n",
        "    for i in range(n):\n",
        "        plt.arrow(0, 0, coeff[i,0], coeff[i,1],color = 'r',alpha = 0.5)\n",
        "        if labels is None:\n",
        "            plt.text(coeff[i,0]* 1.15, coeff[i,1] * 1.15, \"Var\"+str(i+1), color = 'green', ha = 'center', va = 'center')\n",
        "        else:\n",
        "            if i < len(labels):  # Check if 'i' is a valid index for 'labels'\n",
        "                plt.text(coeff[i,0]* 1.15, coeff[i,1] * 1.15, labels[i], color = 'g', ha = 'center', va = 'center')\n",
        "            else:\n",
        "                plt.text(coeff[i,0]* 1.15, coeff[i,1] * 1.15, \"Var\"+str(i+1), color = 'green', ha = 'center', va = 'center')\n",
        " \n",
        "    plt.xlabel(\"PC{}\".format(1))\n",
        "    plt.ylabel(\"PC{}\".format(2))\n",
        "    plt.grid()\n",
        "\n",
        "myplot(principalComponents_scaled[:,0:2],np.transpose(pca.components_[0:2, :]),list(principal_scaled_Df.columns))\n",
        "plt.show()\n"
      ]
    },
    {
      "attachments": {},
      "cell_type": "markdown",
      "metadata": {
        "colab_type": "text",
        "id": "hI6HiOUgbrbn"
      },
      "source": [
        "#### 2.5. Retrieve the **loadings** values"
      ]
    },
    {
      "cell_type": "code",
      "execution_count": 14,
      "metadata": {
        "colab": {
          "base_uri": "https://localhost:8080/",
          "height": 173
        },
        "colab_type": "code",
        "id": "rmm75irIbdlD",
        "outputId": "c077889c-0678-4767-dbd8-f8a9edbb2572"
      },
      "outputs": [],
      "source": [
        "loadings = pca.components_.T\n",
        "column_names = withoutNaNsNumeric.columns.tolist()\n",
        "df_loadings = pd.DataFrame(loadings, columns=['PC1', 'PC2','PC3', 'PC4'], index=column_names)\n",
        "#df_loadings"
      ]
    },
    {
      "attachments": {},
      "cell_type": "markdown",
      "metadata": {
        "colab_type": "text",
        "id": "ltOVa090b7EN"
      },
      "source": [
        "#### 2.6. **Explained variance** for each PC"
      ]
    },
    {
      "cell_type": "code",
      "execution_count": 15,
      "metadata": {
        "colab": {
          "base_uri": "https://localhost:8080/",
          "height": 34
        },
        "colab_type": "code",
        "id": "tWpnfz3qY6Ip",
        "outputId": "467d31e2-60b3-47cc-a04d-a4ae97d0bfb1"
      },
      "outputs": [
        {
          "data": {
            "text/plain": [
              "array([0.30934535, 0.08546345, 0.06106588, 0.06073264])"
            ]
          },
          "execution_count": 15,
          "metadata": {},
          "output_type": "execute_result"
        }
      ],
      "source": [
        "explained_variance = pca.explained_variance_ratio_\n",
        "explained_variance"
      ]
    },
    {
      "attachments": {},
      "cell_type": "markdown",
      "metadata": {
        "colab_type": "text",
        "id": "epeccObO2_mi"
      },
      "source": [
        "## **3. Scree Plot**"
      ]
    },
    {
      "attachments": {},
      "cell_type": "markdown",
      "metadata": {
        "colab_type": "text",
        "id": "b2MBGLQW79MO"
      },
      "source": [
        "### 3.1. Import library"
      ]
    },
    {
      "cell_type": "code",
      "execution_count": 16,
      "metadata": {
        "colab": {},
        "colab_type": "code",
        "id": "6437d-bE75HO"
      },
      "outputs": [],
      "source": [
        "import numpy as np\n",
        "import plotly.express as px"
      ]
    },
    {
      "attachments": {},
      "cell_type": "markdown",
      "metadata": {
        "colab_type": "text",
        "id": "AnjyJVWQ8GOd"
      },
      "source": [
        "### 3.2. Preparing explained variance and cumulative variance"
      ]
    },
    {
      "attachments": {},
      "cell_type": "markdown",
      "metadata": {
        "colab_type": "text",
        "id": "v-D9U-xmoA1D"
      },
      "source": [
        "#### 3.2.1. Preparing the explained variance data"
      ]
    },
    {
      "cell_type": "code",
      "execution_count": 17,
      "metadata": {
        "colab": {
          "base_uri": "https://localhost:8080/",
          "height": 34
        },
        "colab_type": "code",
        "id": "JX9Pw88l336w",
        "outputId": "4d239ce6-5eb8-434b-8b44-6e0228c8bed0"
      },
      "outputs": [
        {
          "data": {
            "text/plain": [
              "array([0.30934535, 0.08546345, 0.06106588, 0.06073264])"
            ]
          },
          "execution_count": 17,
          "metadata": {},
          "output_type": "execute_result"
        }
      ],
      "source": [
        "explained_variance"
      ]
    },
    {
      "cell_type": "code",
      "execution_count": 18,
      "metadata": {
        "colab": {},
        "colab_type": "code",
        "id": "uBDTjyQad7Qv"
      },
      "outputs": [],
      "source": [
        "explained_variance = np.insert(explained_variance, 0, 0)"
      ]
    },
    {
      "attachments": {},
      "cell_type": "markdown",
      "metadata": {
        "colab_type": "text",
        "id": "DArGTefqoGJb"
      },
      "source": [
        "#### 3.2.2. Preparing the cumulative variance data"
      ]
    },
    {
      "cell_type": "code",
      "execution_count": 19,
      "metadata": {
        "colab": {},
        "colab_type": "code",
        "id": "0XRQQBxD71aS"
      },
      "outputs": [],
      "source": [
        "cumulative_variance = np.cumsum(np.round(explained_variance, decimals=3))"
      ]
    },
    {
      "attachments": {},
      "cell_type": "markdown",
      "metadata": {
        "colab_type": "text",
        "id": "RJeJEaVxoI-F"
      },
      "source": [
        "#### 3.2.3. Combining the dataframe"
      ]
    },
    {
      "cell_type": "code",
      "execution_count": 20,
      "metadata": {
        "colab": {},
        "colab_type": "code",
        "id": "9jiI53l44kd2"
      },
      "outputs": [],
      "source": [
        "pc_df = pd.DataFrame(['','PC1', 'PC2', 'PC3', 'PC4'], columns=['PC'])\n",
        "explained_variance_df = pd.DataFrame(explained_variance, columns=['Explained Variance'])\n",
        "cumulative_variance_df = pd.DataFrame(cumulative_variance, columns=['Cumulative Variance'])"
      ]
    },
    {
      "cell_type": "code",
      "execution_count": 21,
      "metadata": {
        "colab": {
          "base_uri": "https://localhost:8080/",
          "height": 173
        },
        "colab_type": "code",
        "id": "L6LUZkeo6S5C",
        "outputId": "3abacee2-a2d3-4c27-d37a-3be2b200eca9"
      },
      "outputs": [
        {
          "data": {
            "text/html": [
              "<div>\n",
              "<style scoped>\n",
              "    .dataframe tbody tr th:only-of-type {\n",
              "        vertical-align: middle;\n",
              "    }\n",
              "\n",
              "    .dataframe tbody tr th {\n",
              "        vertical-align: top;\n",
              "    }\n",
              "\n",
              "    .dataframe thead th {\n",
              "        text-align: right;\n",
              "    }\n",
              "</style>\n",
              "<table border=\"1\" class=\"dataframe\">\n",
              "  <thead>\n",
              "    <tr style=\"text-align: right;\">\n",
              "      <th></th>\n",
              "      <th>PC</th>\n",
              "      <th>Explained Variance</th>\n",
              "      <th>Cumulative Variance</th>\n",
              "    </tr>\n",
              "  </thead>\n",
              "  <tbody>\n",
              "    <tr>\n",
              "      <th>0</th>\n",
              "      <td></td>\n",
              "      <td>0.000000</td>\n",
              "      <td>0.000</td>\n",
              "    </tr>\n",
              "    <tr>\n",
              "      <th>1</th>\n",
              "      <td>PC1</td>\n",
              "      <td>0.309345</td>\n",
              "      <td>0.309</td>\n",
              "    </tr>\n",
              "    <tr>\n",
              "      <th>2</th>\n",
              "      <td>PC2</td>\n",
              "      <td>0.085463</td>\n",
              "      <td>0.394</td>\n",
              "    </tr>\n",
              "    <tr>\n",
              "      <th>3</th>\n",
              "      <td>PC3</td>\n",
              "      <td>0.061066</td>\n",
              "      <td>0.455</td>\n",
              "    </tr>\n",
              "    <tr>\n",
              "      <th>4</th>\n",
              "      <td>PC4</td>\n",
              "      <td>0.060733</td>\n",
              "      <td>0.516</td>\n",
              "    </tr>\n",
              "  </tbody>\n",
              "</table>\n",
              "</div>"
            ],
            "text/plain": [
              "    PC  Explained Variance  Cumulative Variance\n",
              "0                 0.000000                0.000\n",
              "1  PC1            0.309345                0.309\n",
              "2  PC2            0.085463                0.394\n",
              "3  PC3            0.061066                0.455\n",
              "4  PC4            0.060733                0.516"
            ]
          },
          "execution_count": 21,
          "metadata": {},
          "output_type": "execute_result"
        }
      ],
      "source": [
        "df_explained_variance = pd.concat([pc_df, explained_variance_df, cumulative_variance_df], axis=1)\n",
        "df_explained_variance"
      ]
    },
    {
      "attachments": {},
      "cell_type": "markdown",
      "metadata": {
        "colab_type": "text",
        "id": "zH-g7oLwoayT"
      },
      "source": [
        "#### 3.2.4. Making the scree plot"
      ]
    },
    {
      "attachments": {},
      "cell_type": "markdown",
      "metadata": {
        "colab_type": "text",
        "id": "0ZLF0ShyojlD"
      },
      "source": [
        "##### 3.2.4.1. Explained Variance"
      ]
    },
    {
      "cell_type": "code",
      "execution_count": 22,
      "metadata": {
        "colab": {
          "base_uri": "https://localhost:8080/",
          "height": 542
        },
        "colab_type": "code",
        "id": "07omP_Un3Qjk",
        "outputId": "c54722d5-d931-4f6d-db36-286c7563a20a"
      },
      "outputs": [
        {
          "data": {
            "application/vnd.plotly.v1+json": {
              "config": {
                "plotlyServerURL": "https://plot.ly"
              },
              "data": [
                {
                  "alignmentgroup": "True",
                  "hovertemplate": "PC=%{x}<br>Explained Variance=%{text}<extra></extra>",
                  "legendgroup": "",
                  "marker": {
                    "color": "#636efa",
                    "pattern": {
                      "shape": ""
                    }
                  },
                  "name": "",
                  "offsetgroup": "",
                  "orientation": "v",
                  "showlegend": false,
                  "text": [
                    0,
                    0.30934535345277986,
                    0.08546345176364185,
                    0.06106587815474727,
                    0.06073263560053373
                  ],
                  "textposition": "outside",
                  "texttemplate": "%{text:.3f}",
                  "type": "bar",
                  "x": [
                    "",
                    "PC1",
                    "PC2",
                    "PC3",
                    "PC4"
                  ],
                  "xaxis": "x",
                  "y": [
                    0,
                    0.30934535345277986,
                    0.08546345176364185,
                    0.06106587815474727,
                    0.06073263560053373
                  ],
                  "yaxis": "y"
                }
              ],
              "layout": {
                "barmode": "relative",
                "legend": {
                  "tracegroupgap": 0
                },
                "margin": {
                  "t": 60
                },
                "template": {
                  "data": {
                    "bar": [
                      {
                        "error_x": {
                          "color": "#2a3f5f"
                        },
                        "error_y": {
                          "color": "#2a3f5f"
                        },
                        "marker": {
                          "line": {
                            "color": "#E5ECF6",
                            "width": 0.5
                          },
                          "pattern": {
                            "fillmode": "overlay",
                            "size": 10,
                            "solidity": 0.2
                          }
                        },
                        "type": "bar"
                      }
                    ],
                    "barpolar": [
                      {
                        "marker": {
                          "line": {
                            "color": "#E5ECF6",
                            "width": 0.5
                          },
                          "pattern": {
                            "fillmode": "overlay",
                            "size": 10,
                            "solidity": 0.2
                          }
                        },
                        "type": "barpolar"
                      }
                    ],
                    "carpet": [
                      {
                        "aaxis": {
                          "endlinecolor": "#2a3f5f",
                          "gridcolor": "white",
                          "linecolor": "white",
                          "minorgridcolor": "white",
                          "startlinecolor": "#2a3f5f"
                        },
                        "baxis": {
                          "endlinecolor": "#2a3f5f",
                          "gridcolor": "white",
                          "linecolor": "white",
                          "minorgridcolor": "white",
                          "startlinecolor": "#2a3f5f"
                        },
                        "type": "carpet"
                      }
                    ],
                    "choropleth": [
                      {
                        "colorbar": {
                          "outlinewidth": 0,
                          "ticks": ""
                        },
                        "type": "choropleth"
                      }
                    ],
                    "contour": [
                      {
                        "colorbar": {
                          "outlinewidth": 0,
                          "ticks": ""
                        },
                        "colorscale": [
                          [
                            0,
                            "#0d0887"
                          ],
                          [
                            0.1111111111111111,
                            "#46039f"
                          ],
                          [
                            0.2222222222222222,
                            "#7201a8"
                          ],
                          [
                            0.3333333333333333,
                            "#9c179e"
                          ],
                          [
                            0.4444444444444444,
                            "#bd3786"
                          ],
                          [
                            0.5555555555555556,
                            "#d8576b"
                          ],
                          [
                            0.6666666666666666,
                            "#ed7953"
                          ],
                          [
                            0.7777777777777778,
                            "#fb9f3a"
                          ],
                          [
                            0.8888888888888888,
                            "#fdca26"
                          ],
                          [
                            1,
                            "#f0f921"
                          ]
                        ],
                        "type": "contour"
                      }
                    ],
                    "contourcarpet": [
                      {
                        "colorbar": {
                          "outlinewidth": 0,
                          "ticks": ""
                        },
                        "type": "contourcarpet"
                      }
                    ],
                    "heatmap": [
                      {
                        "colorbar": {
                          "outlinewidth": 0,
                          "ticks": ""
                        },
                        "colorscale": [
                          [
                            0,
                            "#0d0887"
                          ],
                          [
                            0.1111111111111111,
                            "#46039f"
                          ],
                          [
                            0.2222222222222222,
                            "#7201a8"
                          ],
                          [
                            0.3333333333333333,
                            "#9c179e"
                          ],
                          [
                            0.4444444444444444,
                            "#bd3786"
                          ],
                          [
                            0.5555555555555556,
                            "#d8576b"
                          ],
                          [
                            0.6666666666666666,
                            "#ed7953"
                          ],
                          [
                            0.7777777777777778,
                            "#fb9f3a"
                          ],
                          [
                            0.8888888888888888,
                            "#fdca26"
                          ],
                          [
                            1,
                            "#f0f921"
                          ]
                        ],
                        "type": "heatmap"
                      }
                    ],
                    "heatmapgl": [
                      {
                        "colorbar": {
                          "outlinewidth": 0,
                          "ticks": ""
                        },
                        "colorscale": [
                          [
                            0,
                            "#0d0887"
                          ],
                          [
                            0.1111111111111111,
                            "#46039f"
                          ],
                          [
                            0.2222222222222222,
                            "#7201a8"
                          ],
                          [
                            0.3333333333333333,
                            "#9c179e"
                          ],
                          [
                            0.4444444444444444,
                            "#bd3786"
                          ],
                          [
                            0.5555555555555556,
                            "#d8576b"
                          ],
                          [
                            0.6666666666666666,
                            "#ed7953"
                          ],
                          [
                            0.7777777777777778,
                            "#fb9f3a"
                          ],
                          [
                            0.8888888888888888,
                            "#fdca26"
                          ],
                          [
                            1,
                            "#f0f921"
                          ]
                        ],
                        "type": "heatmapgl"
                      }
                    ],
                    "histogram": [
                      {
                        "marker": {
                          "pattern": {
                            "fillmode": "overlay",
                            "size": 10,
                            "solidity": 0.2
                          }
                        },
                        "type": "histogram"
                      }
                    ],
                    "histogram2d": [
                      {
                        "colorbar": {
                          "outlinewidth": 0,
                          "ticks": ""
                        },
                        "colorscale": [
                          [
                            0,
                            "#0d0887"
                          ],
                          [
                            0.1111111111111111,
                            "#46039f"
                          ],
                          [
                            0.2222222222222222,
                            "#7201a8"
                          ],
                          [
                            0.3333333333333333,
                            "#9c179e"
                          ],
                          [
                            0.4444444444444444,
                            "#bd3786"
                          ],
                          [
                            0.5555555555555556,
                            "#d8576b"
                          ],
                          [
                            0.6666666666666666,
                            "#ed7953"
                          ],
                          [
                            0.7777777777777778,
                            "#fb9f3a"
                          ],
                          [
                            0.8888888888888888,
                            "#fdca26"
                          ],
                          [
                            1,
                            "#f0f921"
                          ]
                        ],
                        "type": "histogram2d"
                      }
                    ],
                    "histogram2dcontour": [
                      {
                        "colorbar": {
                          "outlinewidth": 0,
                          "ticks": ""
                        },
                        "colorscale": [
                          [
                            0,
                            "#0d0887"
                          ],
                          [
                            0.1111111111111111,
                            "#46039f"
                          ],
                          [
                            0.2222222222222222,
                            "#7201a8"
                          ],
                          [
                            0.3333333333333333,
                            "#9c179e"
                          ],
                          [
                            0.4444444444444444,
                            "#bd3786"
                          ],
                          [
                            0.5555555555555556,
                            "#d8576b"
                          ],
                          [
                            0.6666666666666666,
                            "#ed7953"
                          ],
                          [
                            0.7777777777777778,
                            "#fb9f3a"
                          ],
                          [
                            0.8888888888888888,
                            "#fdca26"
                          ],
                          [
                            1,
                            "#f0f921"
                          ]
                        ],
                        "type": "histogram2dcontour"
                      }
                    ],
                    "mesh3d": [
                      {
                        "colorbar": {
                          "outlinewidth": 0,
                          "ticks": ""
                        },
                        "type": "mesh3d"
                      }
                    ],
                    "parcoords": [
                      {
                        "line": {
                          "colorbar": {
                            "outlinewidth": 0,
                            "ticks": ""
                          }
                        },
                        "type": "parcoords"
                      }
                    ],
                    "pie": [
                      {
                        "automargin": true,
                        "type": "pie"
                      }
                    ],
                    "scatter": [
                      {
                        "fillpattern": {
                          "fillmode": "overlay",
                          "size": 10,
                          "solidity": 0.2
                        },
                        "type": "scatter"
                      }
                    ],
                    "scatter3d": [
                      {
                        "line": {
                          "colorbar": {
                            "outlinewidth": 0,
                            "ticks": ""
                          }
                        },
                        "marker": {
                          "colorbar": {
                            "outlinewidth": 0,
                            "ticks": ""
                          }
                        },
                        "type": "scatter3d"
                      }
                    ],
                    "scattercarpet": [
                      {
                        "marker": {
                          "colorbar": {
                            "outlinewidth": 0,
                            "ticks": ""
                          }
                        },
                        "type": "scattercarpet"
                      }
                    ],
                    "scattergeo": [
                      {
                        "marker": {
                          "colorbar": {
                            "outlinewidth": 0,
                            "ticks": ""
                          }
                        },
                        "type": "scattergeo"
                      }
                    ],
                    "scattergl": [
                      {
                        "marker": {
                          "colorbar": {
                            "outlinewidth": 0,
                            "ticks": ""
                          }
                        },
                        "type": "scattergl"
                      }
                    ],
                    "scattermapbox": [
                      {
                        "marker": {
                          "colorbar": {
                            "outlinewidth": 0,
                            "ticks": ""
                          }
                        },
                        "type": "scattermapbox"
                      }
                    ],
                    "scatterpolar": [
                      {
                        "marker": {
                          "colorbar": {
                            "outlinewidth": 0,
                            "ticks": ""
                          }
                        },
                        "type": "scatterpolar"
                      }
                    ],
                    "scatterpolargl": [
                      {
                        "marker": {
                          "colorbar": {
                            "outlinewidth": 0,
                            "ticks": ""
                          }
                        },
                        "type": "scatterpolargl"
                      }
                    ],
                    "scatterternary": [
                      {
                        "marker": {
                          "colorbar": {
                            "outlinewidth": 0,
                            "ticks": ""
                          }
                        },
                        "type": "scatterternary"
                      }
                    ],
                    "surface": [
                      {
                        "colorbar": {
                          "outlinewidth": 0,
                          "ticks": ""
                        },
                        "colorscale": [
                          [
                            0,
                            "#0d0887"
                          ],
                          [
                            0.1111111111111111,
                            "#46039f"
                          ],
                          [
                            0.2222222222222222,
                            "#7201a8"
                          ],
                          [
                            0.3333333333333333,
                            "#9c179e"
                          ],
                          [
                            0.4444444444444444,
                            "#bd3786"
                          ],
                          [
                            0.5555555555555556,
                            "#d8576b"
                          ],
                          [
                            0.6666666666666666,
                            "#ed7953"
                          ],
                          [
                            0.7777777777777778,
                            "#fb9f3a"
                          ],
                          [
                            0.8888888888888888,
                            "#fdca26"
                          ],
                          [
                            1,
                            "#f0f921"
                          ]
                        ],
                        "type": "surface"
                      }
                    ],
                    "table": [
                      {
                        "cells": {
                          "fill": {
                            "color": "#EBF0F8"
                          },
                          "line": {
                            "color": "white"
                          }
                        },
                        "header": {
                          "fill": {
                            "color": "#C8D4E3"
                          },
                          "line": {
                            "color": "white"
                          }
                        },
                        "type": "table"
                      }
                    ]
                  },
                  "layout": {
                    "annotationdefaults": {
                      "arrowcolor": "#2a3f5f",
                      "arrowhead": 0,
                      "arrowwidth": 1
                    },
                    "autotypenumbers": "strict",
                    "coloraxis": {
                      "colorbar": {
                        "outlinewidth": 0,
                        "ticks": ""
                      }
                    },
                    "colorscale": {
                      "diverging": [
                        [
                          0,
                          "#8e0152"
                        ],
                        [
                          0.1,
                          "#c51b7d"
                        ],
                        [
                          0.2,
                          "#de77ae"
                        ],
                        [
                          0.3,
                          "#f1b6da"
                        ],
                        [
                          0.4,
                          "#fde0ef"
                        ],
                        [
                          0.5,
                          "#f7f7f7"
                        ],
                        [
                          0.6,
                          "#e6f5d0"
                        ],
                        [
                          0.7,
                          "#b8e186"
                        ],
                        [
                          0.8,
                          "#7fbc41"
                        ],
                        [
                          0.9,
                          "#4d9221"
                        ],
                        [
                          1,
                          "#276419"
                        ]
                      ],
                      "sequential": [
                        [
                          0,
                          "#0d0887"
                        ],
                        [
                          0.1111111111111111,
                          "#46039f"
                        ],
                        [
                          0.2222222222222222,
                          "#7201a8"
                        ],
                        [
                          0.3333333333333333,
                          "#9c179e"
                        ],
                        [
                          0.4444444444444444,
                          "#bd3786"
                        ],
                        [
                          0.5555555555555556,
                          "#d8576b"
                        ],
                        [
                          0.6666666666666666,
                          "#ed7953"
                        ],
                        [
                          0.7777777777777778,
                          "#fb9f3a"
                        ],
                        [
                          0.8888888888888888,
                          "#fdca26"
                        ],
                        [
                          1,
                          "#f0f921"
                        ]
                      ],
                      "sequentialminus": [
                        [
                          0,
                          "#0d0887"
                        ],
                        [
                          0.1111111111111111,
                          "#46039f"
                        ],
                        [
                          0.2222222222222222,
                          "#7201a8"
                        ],
                        [
                          0.3333333333333333,
                          "#9c179e"
                        ],
                        [
                          0.4444444444444444,
                          "#bd3786"
                        ],
                        [
                          0.5555555555555556,
                          "#d8576b"
                        ],
                        [
                          0.6666666666666666,
                          "#ed7953"
                        ],
                        [
                          0.7777777777777778,
                          "#fb9f3a"
                        ],
                        [
                          0.8888888888888888,
                          "#fdca26"
                        ],
                        [
                          1,
                          "#f0f921"
                        ]
                      ]
                    },
                    "colorway": [
                      "#636efa",
                      "#EF553B",
                      "#00cc96",
                      "#ab63fa",
                      "#FFA15A",
                      "#19d3f3",
                      "#FF6692",
                      "#B6E880",
                      "#FF97FF",
                      "#FECB52"
                    ],
                    "font": {
                      "color": "#2a3f5f"
                    },
                    "geo": {
                      "bgcolor": "white",
                      "lakecolor": "white",
                      "landcolor": "#E5ECF6",
                      "showlakes": true,
                      "showland": true,
                      "subunitcolor": "white"
                    },
                    "hoverlabel": {
                      "align": "left"
                    },
                    "hovermode": "closest",
                    "mapbox": {
                      "style": "light"
                    },
                    "paper_bgcolor": "white",
                    "plot_bgcolor": "#E5ECF6",
                    "polar": {
                      "angularaxis": {
                        "gridcolor": "white",
                        "linecolor": "white",
                        "ticks": ""
                      },
                      "bgcolor": "#E5ECF6",
                      "radialaxis": {
                        "gridcolor": "white",
                        "linecolor": "white",
                        "ticks": ""
                      }
                    },
                    "scene": {
                      "xaxis": {
                        "backgroundcolor": "#E5ECF6",
                        "gridcolor": "white",
                        "gridwidth": 2,
                        "linecolor": "white",
                        "showbackground": true,
                        "ticks": "",
                        "zerolinecolor": "white"
                      },
                      "yaxis": {
                        "backgroundcolor": "#E5ECF6",
                        "gridcolor": "white",
                        "gridwidth": 2,
                        "linecolor": "white",
                        "showbackground": true,
                        "ticks": "",
                        "zerolinecolor": "white"
                      },
                      "zaxis": {
                        "backgroundcolor": "#E5ECF6",
                        "gridcolor": "white",
                        "gridwidth": 2,
                        "linecolor": "white",
                        "showbackground": true,
                        "ticks": "",
                        "zerolinecolor": "white"
                      }
                    },
                    "shapedefaults": {
                      "line": {
                        "color": "#2a3f5f"
                      }
                    },
                    "ternary": {
                      "aaxis": {
                        "gridcolor": "white",
                        "linecolor": "white",
                        "ticks": ""
                      },
                      "baxis": {
                        "gridcolor": "white",
                        "linecolor": "white",
                        "ticks": ""
                      },
                      "bgcolor": "#E5ECF6",
                      "caxis": {
                        "gridcolor": "white",
                        "linecolor": "white",
                        "ticks": ""
                      }
                    },
                    "title": {
                      "x": 0.05
                    },
                    "xaxis": {
                      "automargin": true,
                      "gridcolor": "white",
                      "linecolor": "white",
                      "ticks": "",
                      "title": {
                        "standoff": 15
                      },
                      "zerolinecolor": "white",
                      "zerolinewidth": 2
                    },
                    "yaxis": {
                      "automargin": true,
                      "gridcolor": "white",
                      "linecolor": "white",
                      "ticks": "",
                      "title": {
                        "standoff": 15
                      },
                      "zerolinecolor": "white",
                      "zerolinewidth": 2
                    }
                  }
                },
                "width": 800,
                "xaxis": {
                  "anchor": "y",
                  "domain": [
                    0,
                    1
                  ],
                  "title": {
                    "text": "PC"
                  }
                },
                "yaxis": {
                  "anchor": "x",
                  "domain": [
                    0,
                    1
                  ],
                  "title": {
                    "text": "Explained Variance"
                  }
                }
              }
            }
          },
          "metadata": {},
          "output_type": "display_data"
        }
      ],
      "source": [
        "# https://plotly.com/python/bar-charts/\n",
        "\n",
        "fig = px.bar(df_explained_variance, \n",
        "             x='PC', y='Explained Variance',\n",
        "             text='Explained Variance',\n",
        "             width=800)\n",
        "\n",
        "fig.update_traces(texttemplate='%{text:.3f}', textposition='outside')\n",
        "fig.show()"
      ]
    },
    {
      "attachments": {},
      "cell_type": "markdown",
      "metadata": {
        "colab_type": "text",
        "id": "0ur58j9ZosQy"
      },
      "source": [
        "##### 3.2.4.2. Explained Variance + Cumulative Variance"
      ]
    },
    {
      "cell_type": "code",
      "execution_count": 23,
      "metadata": {
        "colab": {
          "base_uri": "https://localhost:8080/",
          "height": 542
        },
        "colab_type": "code",
        "id": "9zzGeB2J-NJk",
        "outputId": "98656f05-c601-40f3-c2dd-ebcf5b480242"
      },
      "outputs": [
        {
          "data": {
            "application/vnd.plotly.v1+json": {
              "config": {
                "plotlyServerURL": "https://plot.ly"
              },
              "data": [
                {
                  "marker": {
                    "color": "LightSeaGreen",
                    "size": 15
                  },
                  "type": "scatter",
                  "x": [
                    "",
                    "PC1",
                    "PC2",
                    "PC3",
                    "PC4"
                  ],
                  "y": [
                    0,
                    0.309,
                    0.394,
                    0.455,
                    0.516
                  ]
                },
                {
                  "marker": {
                    "color": "RoyalBlue"
                  },
                  "type": "bar",
                  "x": [
                    "",
                    "PC1",
                    "PC2",
                    "PC3",
                    "PC4"
                  ],
                  "y": [
                    0,
                    0.30934535345277986,
                    0.08546345176364185,
                    0.06106587815474727,
                    0.06073263560053373
                  ]
                }
              ],
              "layout": {
                "template": {
                  "data": {
                    "bar": [
                      {
                        "error_x": {
                          "color": "#2a3f5f"
                        },
                        "error_y": {
                          "color": "#2a3f5f"
                        },
                        "marker": {
                          "line": {
                            "color": "#E5ECF6",
                            "width": 0.5
                          },
                          "pattern": {
                            "fillmode": "overlay",
                            "size": 10,
                            "solidity": 0.2
                          }
                        },
                        "type": "bar"
                      }
                    ],
                    "barpolar": [
                      {
                        "marker": {
                          "line": {
                            "color": "#E5ECF6",
                            "width": 0.5
                          },
                          "pattern": {
                            "fillmode": "overlay",
                            "size": 10,
                            "solidity": 0.2
                          }
                        },
                        "type": "barpolar"
                      }
                    ],
                    "carpet": [
                      {
                        "aaxis": {
                          "endlinecolor": "#2a3f5f",
                          "gridcolor": "white",
                          "linecolor": "white",
                          "minorgridcolor": "white",
                          "startlinecolor": "#2a3f5f"
                        },
                        "baxis": {
                          "endlinecolor": "#2a3f5f",
                          "gridcolor": "white",
                          "linecolor": "white",
                          "minorgridcolor": "white",
                          "startlinecolor": "#2a3f5f"
                        },
                        "type": "carpet"
                      }
                    ],
                    "choropleth": [
                      {
                        "colorbar": {
                          "outlinewidth": 0,
                          "ticks": ""
                        },
                        "type": "choropleth"
                      }
                    ],
                    "contour": [
                      {
                        "colorbar": {
                          "outlinewidth": 0,
                          "ticks": ""
                        },
                        "colorscale": [
                          [
                            0,
                            "#0d0887"
                          ],
                          [
                            0.1111111111111111,
                            "#46039f"
                          ],
                          [
                            0.2222222222222222,
                            "#7201a8"
                          ],
                          [
                            0.3333333333333333,
                            "#9c179e"
                          ],
                          [
                            0.4444444444444444,
                            "#bd3786"
                          ],
                          [
                            0.5555555555555556,
                            "#d8576b"
                          ],
                          [
                            0.6666666666666666,
                            "#ed7953"
                          ],
                          [
                            0.7777777777777778,
                            "#fb9f3a"
                          ],
                          [
                            0.8888888888888888,
                            "#fdca26"
                          ],
                          [
                            1,
                            "#f0f921"
                          ]
                        ],
                        "type": "contour"
                      }
                    ],
                    "contourcarpet": [
                      {
                        "colorbar": {
                          "outlinewidth": 0,
                          "ticks": ""
                        },
                        "type": "contourcarpet"
                      }
                    ],
                    "heatmap": [
                      {
                        "colorbar": {
                          "outlinewidth": 0,
                          "ticks": ""
                        },
                        "colorscale": [
                          [
                            0,
                            "#0d0887"
                          ],
                          [
                            0.1111111111111111,
                            "#46039f"
                          ],
                          [
                            0.2222222222222222,
                            "#7201a8"
                          ],
                          [
                            0.3333333333333333,
                            "#9c179e"
                          ],
                          [
                            0.4444444444444444,
                            "#bd3786"
                          ],
                          [
                            0.5555555555555556,
                            "#d8576b"
                          ],
                          [
                            0.6666666666666666,
                            "#ed7953"
                          ],
                          [
                            0.7777777777777778,
                            "#fb9f3a"
                          ],
                          [
                            0.8888888888888888,
                            "#fdca26"
                          ],
                          [
                            1,
                            "#f0f921"
                          ]
                        ],
                        "type": "heatmap"
                      }
                    ],
                    "heatmapgl": [
                      {
                        "colorbar": {
                          "outlinewidth": 0,
                          "ticks": ""
                        },
                        "colorscale": [
                          [
                            0,
                            "#0d0887"
                          ],
                          [
                            0.1111111111111111,
                            "#46039f"
                          ],
                          [
                            0.2222222222222222,
                            "#7201a8"
                          ],
                          [
                            0.3333333333333333,
                            "#9c179e"
                          ],
                          [
                            0.4444444444444444,
                            "#bd3786"
                          ],
                          [
                            0.5555555555555556,
                            "#d8576b"
                          ],
                          [
                            0.6666666666666666,
                            "#ed7953"
                          ],
                          [
                            0.7777777777777778,
                            "#fb9f3a"
                          ],
                          [
                            0.8888888888888888,
                            "#fdca26"
                          ],
                          [
                            1,
                            "#f0f921"
                          ]
                        ],
                        "type": "heatmapgl"
                      }
                    ],
                    "histogram": [
                      {
                        "marker": {
                          "pattern": {
                            "fillmode": "overlay",
                            "size": 10,
                            "solidity": 0.2
                          }
                        },
                        "type": "histogram"
                      }
                    ],
                    "histogram2d": [
                      {
                        "colorbar": {
                          "outlinewidth": 0,
                          "ticks": ""
                        },
                        "colorscale": [
                          [
                            0,
                            "#0d0887"
                          ],
                          [
                            0.1111111111111111,
                            "#46039f"
                          ],
                          [
                            0.2222222222222222,
                            "#7201a8"
                          ],
                          [
                            0.3333333333333333,
                            "#9c179e"
                          ],
                          [
                            0.4444444444444444,
                            "#bd3786"
                          ],
                          [
                            0.5555555555555556,
                            "#d8576b"
                          ],
                          [
                            0.6666666666666666,
                            "#ed7953"
                          ],
                          [
                            0.7777777777777778,
                            "#fb9f3a"
                          ],
                          [
                            0.8888888888888888,
                            "#fdca26"
                          ],
                          [
                            1,
                            "#f0f921"
                          ]
                        ],
                        "type": "histogram2d"
                      }
                    ],
                    "histogram2dcontour": [
                      {
                        "colorbar": {
                          "outlinewidth": 0,
                          "ticks": ""
                        },
                        "colorscale": [
                          [
                            0,
                            "#0d0887"
                          ],
                          [
                            0.1111111111111111,
                            "#46039f"
                          ],
                          [
                            0.2222222222222222,
                            "#7201a8"
                          ],
                          [
                            0.3333333333333333,
                            "#9c179e"
                          ],
                          [
                            0.4444444444444444,
                            "#bd3786"
                          ],
                          [
                            0.5555555555555556,
                            "#d8576b"
                          ],
                          [
                            0.6666666666666666,
                            "#ed7953"
                          ],
                          [
                            0.7777777777777778,
                            "#fb9f3a"
                          ],
                          [
                            0.8888888888888888,
                            "#fdca26"
                          ],
                          [
                            1,
                            "#f0f921"
                          ]
                        ],
                        "type": "histogram2dcontour"
                      }
                    ],
                    "mesh3d": [
                      {
                        "colorbar": {
                          "outlinewidth": 0,
                          "ticks": ""
                        },
                        "type": "mesh3d"
                      }
                    ],
                    "parcoords": [
                      {
                        "line": {
                          "colorbar": {
                            "outlinewidth": 0,
                            "ticks": ""
                          }
                        },
                        "type": "parcoords"
                      }
                    ],
                    "pie": [
                      {
                        "automargin": true,
                        "type": "pie"
                      }
                    ],
                    "scatter": [
                      {
                        "fillpattern": {
                          "fillmode": "overlay",
                          "size": 10,
                          "solidity": 0.2
                        },
                        "type": "scatter"
                      }
                    ],
                    "scatter3d": [
                      {
                        "line": {
                          "colorbar": {
                            "outlinewidth": 0,
                            "ticks": ""
                          }
                        },
                        "marker": {
                          "colorbar": {
                            "outlinewidth": 0,
                            "ticks": ""
                          }
                        },
                        "type": "scatter3d"
                      }
                    ],
                    "scattercarpet": [
                      {
                        "marker": {
                          "colorbar": {
                            "outlinewidth": 0,
                            "ticks": ""
                          }
                        },
                        "type": "scattercarpet"
                      }
                    ],
                    "scattergeo": [
                      {
                        "marker": {
                          "colorbar": {
                            "outlinewidth": 0,
                            "ticks": ""
                          }
                        },
                        "type": "scattergeo"
                      }
                    ],
                    "scattergl": [
                      {
                        "marker": {
                          "colorbar": {
                            "outlinewidth": 0,
                            "ticks": ""
                          }
                        },
                        "type": "scattergl"
                      }
                    ],
                    "scattermapbox": [
                      {
                        "marker": {
                          "colorbar": {
                            "outlinewidth": 0,
                            "ticks": ""
                          }
                        },
                        "type": "scattermapbox"
                      }
                    ],
                    "scatterpolar": [
                      {
                        "marker": {
                          "colorbar": {
                            "outlinewidth": 0,
                            "ticks": ""
                          }
                        },
                        "type": "scatterpolar"
                      }
                    ],
                    "scatterpolargl": [
                      {
                        "marker": {
                          "colorbar": {
                            "outlinewidth": 0,
                            "ticks": ""
                          }
                        },
                        "type": "scatterpolargl"
                      }
                    ],
                    "scatterternary": [
                      {
                        "marker": {
                          "colorbar": {
                            "outlinewidth": 0,
                            "ticks": ""
                          }
                        },
                        "type": "scatterternary"
                      }
                    ],
                    "surface": [
                      {
                        "colorbar": {
                          "outlinewidth": 0,
                          "ticks": ""
                        },
                        "colorscale": [
                          [
                            0,
                            "#0d0887"
                          ],
                          [
                            0.1111111111111111,
                            "#46039f"
                          ],
                          [
                            0.2222222222222222,
                            "#7201a8"
                          ],
                          [
                            0.3333333333333333,
                            "#9c179e"
                          ],
                          [
                            0.4444444444444444,
                            "#bd3786"
                          ],
                          [
                            0.5555555555555556,
                            "#d8576b"
                          ],
                          [
                            0.6666666666666666,
                            "#ed7953"
                          ],
                          [
                            0.7777777777777778,
                            "#fb9f3a"
                          ],
                          [
                            0.8888888888888888,
                            "#fdca26"
                          ],
                          [
                            1,
                            "#f0f921"
                          ]
                        ],
                        "type": "surface"
                      }
                    ],
                    "table": [
                      {
                        "cells": {
                          "fill": {
                            "color": "#EBF0F8"
                          },
                          "line": {
                            "color": "white"
                          }
                        },
                        "header": {
                          "fill": {
                            "color": "#C8D4E3"
                          },
                          "line": {
                            "color": "white"
                          }
                        },
                        "type": "table"
                      }
                    ]
                  },
                  "layout": {
                    "annotationdefaults": {
                      "arrowcolor": "#2a3f5f",
                      "arrowhead": 0,
                      "arrowwidth": 1
                    },
                    "autotypenumbers": "strict",
                    "coloraxis": {
                      "colorbar": {
                        "outlinewidth": 0,
                        "ticks": ""
                      }
                    },
                    "colorscale": {
                      "diverging": [
                        [
                          0,
                          "#8e0152"
                        ],
                        [
                          0.1,
                          "#c51b7d"
                        ],
                        [
                          0.2,
                          "#de77ae"
                        ],
                        [
                          0.3,
                          "#f1b6da"
                        ],
                        [
                          0.4,
                          "#fde0ef"
                        ],
                        [
                          0.5,
                          "#f7f7f7"
                        ],
                        [
                          0.6,
                          "#e6f5d0"
                        ],
                        [
                          0.7,
                          "#b8e186"
                        ],
                        [
                          0.8,
                          "#7fbc41"
                        ],
                        [
                          0.9,
                          "#4d9221"
                        ],
                        [
                          1,
                          "#276419"
                        ]
                      ],
                      "sequential": [
                        [
                          0,
                          "#0d0887"
                        ],
                        [
                          0.1111111111111111,
                          "#46039f"
                        ],
                        [
                          0.2222222222222222,
                          "#7201a8"
                        ],
                        [
                          0.3333333333333333,
                          "#9c179e"
                        ],
                        [
                          0.4444444444444444,
                          "#bd3786"
                        ],
                        [
                          0.5555555555555556,
                          "#d8576b"
                        ],
                        [
                          0.6666666666666666,
                          "#ed7953"
                        ],
                        [
                          0.7777777777777778,
                          "#fb9f3a"
                        ],
                        [
                          0.8888888888888888,
                          "#fdca26"
                        ],
                        [
                          1,
                          "#f0f921"
                        ]
                      ],
                      "sequentialminus": [
                        [
                          0,
                          "#0d0887"
                        ],
                        [
                          0.1111111111111111,
                          "#46039f"
                        ],
                        [
                          0.2222222222222222,
                          "#7201a8"
                        ],
                        [
                          0.3333333333333333,
                          "#9c179e"
                        ],
                        [
                          0.4444444444444444,
                          "#bd3786"
                        ],
                        [
                          0.5555555555555556,
                          "#d8576b"
                        ],
                        [
                          0.6666666666666666,
                          "#ed7953"
                        ],
                        [
                          0.7777777777777778,
                          "#fb9f3a"
                        ],
                        [
                          0.8888888888888888,
                          "#fdca26"
                        ],
                        [
                          1,
                          "#f0f921"
                        ]
                      ]
                    },
                    "colorway": [
                      "#636efa",
                      "#EF553B",
                      "#00cc96",
                      "#ab63fa",
                      "#FFA15A",
                      "#19d3f3",
                      "#FF6692",
                      "#B6E880",
                      "#FF97FF",
                      "#FECB52"
                    ],
                    "font": {
                      "color": "#2a3f5f"
                    },
                    "geo": {
                      "bgcolor": "white",
                      "lakecolor": "white",
                      "landcolor": "#E5ECF6",
                      "showlakes": true,
                      "showland": true,
                      "subunitcolor": "white"
                    },
                    "hoverlabel": {
                      "align": "left"
                    },
                    "hovermode": "closest",
                    "mapbox": {
                      "style": "light"
                    },
                    "paper_bgcolor": "white",
                    "plot_bgcolor": "#E5ECF6",
                    "polar": {
                      "angularaxis": {
                        "gridcolor": "white",
                        "linecolor": "white",
                        "ticks": ""
                      },
                      "bgcolor": "#E5ECF6",
                      "radialaxis": {
                        "gridcolor": "white",
                        "linecolor": "white",
                        "ticks": ""
                      }
                    },
                    "scene": {
                      "xaxis": {
                        "backgroundcolor": "#E5ECF6",
                        "gridcolor": "white",
                        "gridwidth": 2,
                        "linecolor": "white",
                        "showbackground": true,
                        "ticks": "",
                        "zerolinecolor": "white"
                      },
                      "yaxis": {
                        "backgroundcolor": "#E5ECF6",
                        "gridcolor": "white",
                        "gridwidth": 2,
                        "linecolor": "white",
                        "showbackground": true,
                        "ticks": "",
                        "zerolinecolor": "white"
                      },
                      "zaxis": {
                        "backgroundcolor": "#E5ECF6",
                        "gridcolor": "white",
                        "gridwidth": 2,
                        "linecolor": "white",
                        "showbackground": true,
                        "ticks": "",
                        "zerolinecolor": "white"
                      }
                    },
                    "shapedefaults": {
                      "line": {
                        "color": "#2a3f5f"
                      }
                    },
                    "ternary": {
                      "aaxis": {
                        "gridcolor": "white",
                        "linecolor": "white",
                        "ticks": ""
                      },
                      "baxis": {
                        "gridcolor": "white",
                        "linecolor": "white",
                        "ticks": ""
                      },
                      "bgcolor": "#E5ECF6",
                      "caxis": {
                        "gridcolor": "white",
                        "linecolor": "white",
                        "ticks": ""
                      }
                    },
                    "title": {
                      "x": 0.05
                    },
                    "xaxis": {
                      "automargin": true,
                      "gridcolor": "white",
                      "linecolor": "white",
                      "ticks": "",
                      "title": {
                        "standoff": 15
                      },
                      "zerolinecolor": "white",
                      "zerolinewidth": 2
                    },
                    "yaxis": {
                      "automargin": true,
                      "gridcolor": "white",
                      "linecolor": "white",
                      "ticks": "",
                      "title": {
                        "standoff": 15
                      },
                      "zerolinecolor": "white",
                      "zerolinewidth": 2
                    }
                  }
                }
              }
            }
          },
          "metadata": {},
          "output_type": "display_data"
        }
      ],
      "source": [
        "# https://plotly.com/python/creating-and-updating-figures/\n",
        "\n",
        "import plotly.graph_objects as go\n",
        "\n",
        "fig = go.Figure()\n",
        "\n",
        "fig.add_trace(\n",
        "    go.Scatter(\n",
        "        x=df_explained_variance['PC'],\n",
        "        y=df_explained_variance['Cumulative Variance'],\n",
        "        marker=dict(size=15, color=\"LightSeaGreen\")\n",
        "    ))\n",
        "\n",
        "fig.add_trace(\n",
        "    go.Bar(\n",
        "        x=df_explained_variance['PC'],\n",
        "        y=df_explained_variance['Explained Variance'],\n",
        "        marker=dict(color=\"RoyalBlue\")\n",
        "    ))\n",
        "\n",
        "fig.show()"
      ]
    },
    {
      "attachments": {},
      "cell_type": "markdown",
      "metadata": {
        "colab_type": "text",
        "id": "IPPD1wHIo4MG"
      },
      "source": [
        "##### 3.2.4.3. Explained Variance + Cumulative Variance (Separate Plot)"
      ]
    },
    {
      "cell_type": "code",
      "execution_count": 24,
      "metadata": {
        "colab": {
          "base_uri": "https://localhost:8080/",
          "height": 542
        },
        "colab_type": "code",
        "id": "cL4QwGhTgFhV",
        "outputId": "e5b5d2f3-5644-4a20-9f98-1ee9a3daa4a6"
      },
      "outputs": [
        {
          "data": {
            "application/vnd.plotly.v1+json": {
              "config": {
                "plotlyServerURL": "https://plot.ly"
              },
              "data": [
                {
                  "marker": {
                    "color": "LightSeaGreen",
                    "size": 15
                  },
                  "type": "scatter",
                  "x": [
                    "",
                    "PC1",
                    "PC2",
                    "PC3",
                    "PC4"
                  ],
                  "xaxis": "x",
                  "y": [
                    0,
                    0.309,
                    0.394,
                    0.455,
                    0.516
                  ],
                  "yaxis": "y"
                },
                {
                  "marker": {
                    "color": "RoyalBlue"
                  },
                  "type": "bar",
                  "x": [
                    "",
                    "PC1",
                    "PC2",
                    "PC3",
                    "PC4"
                  ],
                  "xaxis": "x2",
                  "y": [
                    0,
                    0.30934535345277986,
                    0.08546345176364185,
                    0.06106587815474727,
                    0.06073263560053373
                  ],
                  "yaxis": "y2"
                }
              ],
              "layout": {
                "template": {
                  "data": {
                    "bar": [
                      {
                        "error_x": {
                          "color": "#2a3f5f"
                        },
                        "error_y": {
                          "color": "#2a3f5f"
                        },
                        "marker": {
                          "line": {
                            "color": "#E5ECF6",
                            "width": 0.5
                          },
                          "pattern": {
                            "fillmode": "overlay",
                            "size": 10,
                            "solidity": 0.2
                          }
                        },
                        "type": "bar"
                      }
                    ],
                    "barpolar": [
                      {
                        "marker": {
                          "line": {
                            "color": "#E5ECF6",
                            "width": 0.5
                          },
                          "pattern": {
                            "fillmode": "overlay",
                            "size": 10,
                            "solidity": 0.2
                          }
                        },
                        "type": "barpolar"
                      }
                    ],
                    "carpet": [
                      {
                        "aaxis": {
                          "endlinecolor": "#2a3f5f",
                          "gridcolor": "white",
                          "linecolor": "white",
                          "minorgridcolor": "white",
                          "startlinecolor": "#2a3f5f"
                        },
                        "baxis": {
                          "endlinecolor": "#2a3f5f",
                          "gridcolor": "white",
                          "linecolor": "white",
                          "minorgridcolor": "white",
                          "startlinecolor": "#2a3f5f"
                        },
                        "type": "carpet"
                      }
                    ],
                    "choropleth": [
                      {
                        "colorbar": {
                          "outlinewidth": 0,
                          "ticks": ""
                        },
                        "type": "choropleth"
                      }
                    ],
                    "contour": [
                      {
                        "colorbar": {
                          "outlinewidth": 0,
                          "ticks": ""
                        },
                        "colorscale": [
                          [
                            0,
                            "#0d0887"
                          ],
                          [
                            0.1111111111111111,
                            "#46039f"
                          ],
                          [
                            0.2222222222222222,
                            "#7201a8"
                          ],
                          [
                            0.3333333333333333,
                            "#9c179e"
                          ],
                          [
                            0.4444444444444444,
                            "#bd3786"
                          ],
                          [
                            0.5555555555555556,
                            "#d8576b"
                          ],
                          [
                            0.6666666666666666,
                            "#ed7953"
                          ],
                          [
                            0.7777777777777778,
                            "#fb9f3a"
                          ],
                          [
                            0.8888888888888888,
                            "#fdca26"
                          ],
                          [
                            1,
                            "#f0f921"
                          ]
                        ],
                        "type": "contour"
                      }
                    ],
                    "contourcarpet": [
                      {
                        "colorbar": {
                          "outlinewidth": 0,
                          "ticks": ""
                        },
                        "type": "contourcarpet"
                      }
                    ],
                    "heatmap": [
                      {
                        "colorbar": {
                          "outlinewidth": 0,
                          "ticks": ""
                        },
                        "colorscale": [
                          [
                            0,
                            "#0d0887"
                          ],
                          [
                            0.1111111111111111,
                            "#46039f"
                          ],
                          [
                            0.2222222222222222,
                            "#7201a8"
                          ],
                          [
                            0.3333333333333333,
                            "#9c179e"
                          ],
                          [
                            0.4444444444444444,
                            "#bd3786"
                          ],
                          [
                            0.5555555555555556,
                            "#d8576b"
                          ],
                          [
                            0.6666666666666666,
                            "#ed7953"
                          ],
                          [
                            0.7777777777777778,
                            "#fb9f3a"
                          ],
                          [
                            0.8888888888888888,
                            "#fdca26"
                          ],
                          [
                            1,
                            "#f0f921"
                          ]
                        ],
                        "type": "heatmap"
                      }
                    ],
                    "heatmapgl": [
                      {
                        "colorbar": {
                          "outlinewidth": 0,
                          "ticks": ""
                        },
                        "colorscale": [
                          [
                            0,
                            "#0d0887"
                          ],
                          [
                            0.1111111111111111,
                            "#46039f"
                          ],
                          [
                            0.2222222222222222,
                            "#7201a8"
                          ],
                          [
                            0.3333333333333333,
                            "#9c179e"
                          ],
                          [
                            0.4444444444444444,
                            "#bd3786"
                          ],
                          [
                            0.5555555555555556,
                            "#d8576b"
                          ],
                          [
                            0.6666666666666666,
                            "#ed7953"
                          ],
                          [
                            0.7777777777777778,
                            "#fb9f3a"
                          ],
                          [
                            0.8888888888888888,
                            "#fdca26"
                          ],
                          [
                            1,
                            "#f0f921"
                          ]
                        ],
                        "type": "heatmapgl"
                      }
                    ],
                    "histogram": [
                      {
                        "marker": {
                          "pattern": {
                            "fillmode": "overlay",
                            "size": 10,
                            "solidity": 0.2
                          }
                        },
                        "type": "histogram"
                      }
                    ],
                    "histogram2d": [
                      {
                        "colorbar": {
                          "outlinewidth": 0,
                          "ticks": ""
                        },
                        "colorscale": [
                          [
                            0,
                            "#0d0887"
                          ],
                          [
                            0.1111111111111111,
                            "#46039f"
                          ],
                          [
                            0.2222222222222222,
                            "#7201a8"
                          ],
                          [
                            0.3333333333333333,
                            "#9c179e"
                          ],
                          [
                            0.4444444444444444,
                            "#bd3786"
                          ],
                          [
                            0.5555555555555556,
                            "#d8576b"
                          ],
                          [
                            0.6666666666666666,
                            "#ed7953"
                          ],
                          [
                            0.7777777777777778,
                            "#fb9f3a"
                          ],
                          [
                            0.8888888888888888,
                            "#fdca26"
                          ],
                          [
                            1,
                            "#f0f921"
                          ]
                        ],
                        "type": "histogram2d"
                      }
                    ],
                    "histogram2dcontour": [
                      {
                        "colorbar": {
                          "outlinewidth": 0,
                          "ticks": ""
                        },
                        "colorscale": [
                          [
                            0,
                            "#0d0887"
                          ],
                          [
                            0.1111111111111111,
                            "#46039f"
                          ],
                          [
                            0.2222222222222222,
                            "#7201a8"
                          ],
                          [
                            0.3333333333333333,
                            "#9c179e"
                          ],
                          [
                            0.4444444444444444,
                            "#bd3786"
                          ],
                          [
                            0.5555555555555556,
                            "#d8576b"
                          ],
                          [
                            0.6666666666666666,
                            "#ed7953"
                          ],
                          [
                            0.7777777777777778,
                            "#fb9f3a"
                          ],
                          [
                            0.8888888888888888,
                            "#fdca26"
                          ],
                          [
                            1,
                            "#f0f921"
                          ]
                        ],
                        "type": "histogram2dcontour"
                      }
                    ],
                    "mesh3d": [
                      {
                        "colorbar": {
                          "outlinewidth": 0,
                          "ticks": ""
                        },
                        "type": "mesh3d"
                      }
                    ],
                    "parcoords": [
                      {
                        "line": {
                          "colorbar": {
                            "outlinewidth": 0,
                            "ticks": ""
                          }
                        },
                        "type": "parcoords"
                      }
                    ],
                    "pie": [
                      {
                        "automargin": true,
                        "type": "pie"
                      }
                    ],
                    "scatter": [
                      {
                        "fillpattern": {
                          "fillmode": "overlay",
                          "size": 10,
                          "solidity": 0.2
                        },
                        "type": "scatter"
                      }
                    ],
                    "scatter3d": [
                      {
                        "line": {
                          "colorbar": {
                            "outlinewidth": 0,
                            "ticks": ""
                          }
                        },
                        "marker": {
                          "colorbar": {
                            "outlinewidth": 0,
                            "ticks": ""
                          }
                        },
                        "type": "scatter3d"
                      }
                    ],
                    "scattercarpet": [
                      {
                        "marker": {
                          "colorbar": {
                            "outlinewidth": 0,
                            "ticks": ""
                          }
                        },
                        "type": "scattercarpet"
                      }
                    ],
                    "scattergeo": [
                      {
                        "marker": {
                          "colorbar": {
                            "outlinewidth": 0,
                            "ticks": ""
                          }
                        },
                        "type": "scattergeo"
                      }
                    ],
                    "scattergl": [
                      {
                        "marker": {
                          "colorbar": {
                            "outlinewidth": 0,
                            "ticks": ""
                          }
                        },
                        "type": "scattergl"
                      }
                    ],
                    "scattermapbox": [
                      {
                        "marker": {
                          "colorbar": {
                            "outlinewidth": 0,
                            "ticks": ""
                          }
                        },
                        "type": "scattermapbox"
                      }
                    ],
                    "scatterpolar": [
                      {
                        "marker": {
                          "colorbar": {
                            "outlinewidth": 0,
                            "ticks": ""
                          }
                        },
                        "type": "scatterpolar"
                      }
                    ],
                    "scatterpolargl": [
                      {
                        "marker": {
                          "colorbar": {
                            "outlinewidth": 0,
                            "ticks": ""
                          }
                        },
                        "type": "scatterpolargl"
                      }
                    ],
                    "scatterternary": [
                      {
                        "marker": {
                          "colorbar": {
                            "outlinewidth": 0,
                            "ticks": ""
                          }
                        },
                        "type": "scatterternary"
                      }
                    ],
                    "surface": [
                      {
                        "colorbar": {
                          "outlinewidth": 0,
                          "ticks": ""
                        },
                        "colorscale": [
                          [
                            0,
                            "#0d0887"
                          ],
                          [
                            0.1111111111111111,
                            "#46039f"
                          ],
                          [
                            0.2222222222222222,
                            "#7201a8"
                          ],
                          [
                            0.3333333333333333,
                            "#9c179e"
                          ],
                          [
                            0.4444444444444444,
                            "#bd3786"
                          ],
                          [
                            0.5555555555555556,
                            "#d8576b"
                          ],
                          [
                            0.6666666666666666,
                            "#ed7953"
                          ],
                          [
                            0.7777777777777778,
                            "#fb9f3a"
                          ],
                          [
                            0.8888888888888888,
                            "#fdca26"
                          ],
                          [
                            1,
                            "#f0f921"
                          ]
                        ],
                        "type": "surface"
                      }
                    ],
                    "table": [
                      {
                        "cells": {
                          "fill": {
                            "color": "#EBF0F8"
                          },
                          "line": {
                            "color": "white"
                          }
                        },
                        "header": {
                          "fill": {
                            "color": "#C8D4E3"
                          },
                          "line": {
                            "color": "white"
                          }
                        },
                        "type": "table"
                      }
                    ]
                  },
                  "layout": {
                    "annotationdefaults": {
                      "arrowcolor": "#2a3f5f",
                      "arrowhead": 0,
                      "arrowwidth": 1
                    },
                    "autotypenumbers": "strict",
                    "coloraxis": {
                      "colorbar": {
                        "outlinewidth": 0,
                        "ticks": ""
                      }
                    },
                    "colorscale": {
                      "diverging": [
                        [
                          0,
                          "#8e0152"
                        ],
                        [
                          0.1,
                          "#c51b7d"
                        ],
                        [
                          0.2,
                          "#de77ae"
                        ],
                        [
                          0.3,
                          "#f1b6da"
                        ],
                        [
                          0.4,
                          "#fde0ef"
                        ],
                        [
                          0.5,
                          "#f7f7f7"
                        ],
                        [
                          0.6,
                          "#e6f5d0"
                        ],
                        [
                          0.7,
                          "#b8e186"
                        ],
                        [
                          0.8,
                          "#7fbc41"
                        ],
                        [
                          0.9,
                          "#4d9221"
                        ],
                        [
                          1,
                          "#276419"
                        ]
                      ],
                      "sequential": [
                        [
                          0,
                          "#0d0887"
                        ],
                        [
                          0.1111111111111111,
                          "#46039f"
                        ],
                        [
                          0.2222222222222222,
                          "#7201a8"
                        ],
                        [
                          0.3333333333333333,
                          "#9c179e"
                        ],
                        [
                          0.4444444444444444,
                          "#bd3786"
                        ],
                        [
                          0.5555555555555556,
                          "#d8576b"
                        ],
                        [
                          0.6666666666666666,
                          "#ed7953"
                        ],
                        [
                          0.7777777777777778,
                          "#fb9f3a"
                        ],
                        [
                          0.8888888888888888,
                          "#fdca26"
                        ],
                        [
                          1,
                          "#f0f921"
                        ]
                      ],
                      "sequentialminus": [
                        [
                          0,
                          "#0d0887"
                        ],
                        [
                          0.1111111111111111,
                          "#46039f"
                        ],
                        [
                          0.2222222222222222,
                          "#7201a8"
                        ],
                        [
                          0.3333333333333333,
                          "#9c179e"
                        ],
                        [
                          0.4444444444444444,
                          "#bd3786"
                        ],
                        [
                          0.5555555555555556,
                          "#d8576b"
                        ],
                        [
                          0.6666666666666666,
                          "#ed7953"
                        ],
                        [
                          0.7777777777777778,
                          "#fb9f3a"
                        ],
                        [
                          0.8888888888888888,
                          "#fdca26"
                        ],
                        [
                          1,
                          "#f0f921"
                        ]
                      ]
                    },
                    "colorway": [
                      "#636efa",
                      "#EF553B",
                      "#00cc96",
                      "#ab63fa",
                      "#FFA15A",
                      "#19d3f3",
                      "#FF6692",
                      "#B6E880",
                      "#FF97FF",
                      "#FECB52"
                    ],
                    "font": {
                      "color": "#2a3f5f"
                    },
                    "geo": {
                      "bgcolor": "white",
                      "lakecolor": "white",
                      "landcolor": "#E5ECF6",
                      "showlakes": true,
                      "showland": true,
                      "subunitcolor": "white"
                    },
                    "hoverlabel": {
                      "align": "left"
                    },
                    "hovermode": "closest",
                    "mapbox": {
                      "style": "light"
                    },
                    "paper_bgcolor": "white",
                    "plot_bgcolor": "#E5ECF6",
                    "polar": {
                      "angularaxis": {
                        "gridcolor": "white",
                        "linecolor": "white",
                        "ticks": ""
                      },
                      "bgcolor": "#E5ECF6",
                      "radialaxis": {
                        "gridcolor": "white",
                        "linecolor": "white",
                        "ticks": ""
                      }
                    },
                    "scene": {
                      "xaxis": {
                        "backgroundcolor": "#E5ECF6",
                        "gridcolor": "white",
                        "gridwidth": 2,
                        "linecolor": "white",
                        "showbackground": true,
                        "ticks": "",
                        "zerolinecolor": "white"
                      },
                      "yaxis": {
                        "backgroundcolor": "#E5ECF6",
                        "gridcolor": "white",
                        "gridwidth": 2,
                        "linecolor": "white",
                        "showbackground": true,
                        "ticks": "",
                        "zerolinecolor": "white"
                      },
                      "zaxis": {
                        "backgroundcolor": "#E5ECF6",
                        "gridcolor": "white",
                        "gridwidth": 2,
                        "linecolor": "white",
                        "showbackground": true,
                        "ticks": "",
                        "zerolinecolor": "white"
                      }
                    },
                    "shapedefaults": {
                      "line": {
                        "color": "#2a3f5f"
                      }
                    },
                    "ternary": {
                      "aaxis": {
                        "gridcolor": "white",
                        "linecolor": "white",
                        "ticks": ""
                      },
                      "baxis": {
                        "gridcolor": "white",
                        "linecolor": "white",
                        "ticks": ""
                      },
                      "bgcolor": "#E5ECF6",
                      "caxis": {
                        "gridcolor": "white",
                        "linecolor": "white",
                        "ticks": ""
                      }
                    },
                    "title": {
                      "x": 0.05
                    },
                    "xaxis": {
                      "automargin": true,
                      "gridcolor": "white",
                      "linecolor": "white",
                      "ticks": "",
                      "title": {
                        "standoff": 15
                      },
                      "zerolinecolor": "white",
                      "zerolinewidth": 2
                    },
                    "yaxis": {
                      "automargin": true,
                      "gridcolor": "white",
                      "linecolor": "white",
                      "ticks": "",
                      "title": {
                        "standoff": 15
                      },
                      "zerolinecolor": "white",
                      "zerolinewidth": 2
                    }
                  }
                },
                "xaxis": {
                  "anchor": "y",
                  "domain": [
                    0,
                    0.45
                  ]
                },
                "xaxis2": {
                  "anchor": "y2",
                  "domain": [
                    0.55,
                    1
                  ]
                },
                "yaxis": {
                  "anchor": "x",
                  "domain": [
                    0,
                    1
                  ]
                },
                "yaxis2": {
                  "anchor": "x2",
                  "domain": [
                    0,
                    1
                  ]
                }
              }
            }
          },
          "metadata": {},
          "output_type": "display_data"
        }
      ],
      "source": [
        "from plotly.subplots import make_subplots\n",
        "import plotly.graph_objects as go\n",
        "\n",
        "fig = make_subplots(rows=1, cols=2)\n",
        "\n",
        "fig.add_trace(\n",
        "    go.Scatter(\n",
        "        x=df_explained_variance['PC'],\n",
        "        y=df_explained_variance['Cumulative Variance'],\n",
        "        marker=dict(size=15, color=\"LightSeaGreen\")\n",
        "    ), row=1, col=1\n",
        "    )\n",
        "\n",
        "fig.add_trace(\n",
        "    go.Bar(\n",
        "        x=df_explained_variance['PC'],\n",
        "        y=df_explained_variance['Explained Variance'],\n",
        "        marker=dict(color=\"RoyalBlue\"),\n",
        "    ), row=1, col=2\n",
        "    )\n",
        "\n",
        "fig.show()"
      ]
    },
    {
      "attachments": {},
      "cell_type": "markdown",
      "metadata": {
        "colab_type": "text",
        "id": "OB_LvOxNW5Wx"
      },
      "source": [
        "## **4. Scores Plot**\n",
        "\n",
        "Source: https://plotly.com/python/3d-scatter-plots/"
      ]
    },
    {
      "attachments": {},
      "cell_type": "markdown",
      "metadata": {
        "colab_type": "text",
        "id": "1RSpqvmUXhoT"
      },
      "source": [
        "### 4.1. Load library\n",
        "[API Documentation](https://plotly.com/python-api-reference/plotly.express.html) for *plotly.express* package"
      ]
    },
    {
      "cell_type": "code",
      "execution_count": 25,
      "metadata": {
        "colab": {},
        "colab_type": "code",
        "id": "SnyRnEjYXkQN"
      },
      "outputs": [],
      "source": [
        "import plotly.express as px"
      ]
    },
    {
      "attachments": {},
      "cell_type": "markdown",
      "metadata": {
        "colab_type": "text",
        "id": "ZtXU3cBsYJH9"
      },
      "source": [
        "### 4.2. Basic 3D Scatter Plot"
      ]
    },
    {
      "cell_type": "code",
      "execution_count": 26,
      "metadata": {
        "colab": {
          "base_uri": "https://localhost:8080/",
          "height": 542
        },
        "colab_type": "code",
        "id": "IPdv7qpmUcLS",
        "outputId": "25d242ef-5223-4018-dc70-7df02a611ece"
      },
      "outputs": [
        {
          "data": {
            "application/vnd.plotly.v1+json": {
              "config": {
                "plotlyServerURL": "https://plot.ly"
              },
              "data": [
                {
                  "hovertemplate": "PC1=%{x}<br>PC2=%{y}<br>PC3=%{z}<extra></extra>",
                  "legendgroup": "",
                  "marker": {
                    "color": "#636efa",
                    "symbol": "circle"
                  },
                  "mode": "markers",
                  "name": "",
                  "scene": "scene",
                  "showlegend": false,
                  "type": "scatter3d",
                  "x": [
                    2.4579681059299348,
                    -4.304839493416005,
                    -3.003462248276336,
                    -0.8377489064846169,
                    3.034333211484753,
                    5.337568889620809,
                    1.4660229174690669,
                    -0.4773950498274056,
                    1.3981089092692356,
                    1.945069138898473,
                    3.3508389799304115,
                    4.301946000899962,
                    -0.9747507770095554,
                    -6.02021860780296,
                    4.799053573703961,
                    -4.6922725205182,
                    -5.437771919211436,
                    -3.433088388821893,
                    1.901998158689007,
                    3.771135254497359,
                    2.9335531780737814,
                    0.05667199630861066,
                    1.6522605946255342,
                    -0.2568030099804806,
                    4.255966507299911,
                    -1.2631904403746335,
                    0.8097647455501257,
                    2.2651664493341825,
                    3.4616750563905367,
                    -1.3370682263888911,
                    0.8309130755595612,
                    -6.02010970507029,
                    4.10100122782074,
                    5.500403415925366,
                    0.5946860345199144,
                    2.3430331358199425,
                    -0.6387057602997744,
                    -3.5835078106785465,
                    -3.878753134856749,
                    -5.696985200612392,
                    -3.183137135463046,
                    0.26836561592325364,
                    -4.331435686876992,
                    0.44663577156982365,
                    2.06446360669794,
                    1.207038769475463,
                    1.4342465173174022,
                    3.5110745609502154,
                    3.3638784076434805,
                    3.2422972368848106,
                    4.65757771455527,
                    -0.9184138194068151,
                    0.8401474390110453,
                    5.1380223068687405,
                    -0.08448604899657465,
                    -0.22145725381055273,
                    -0.4166235911682394,
                    -1.217893915199287,
                    -4.454737557403085,
                    3.4215981398866155,
                    4.028587610088065,
                    -6.071271271861696,
                    4.687454886583122,
                    0.13559337388606718,
                    4.053379914787763,
                    0.5890758547189369,
                    -1.7474567098035119,
                    -0.0428442358222125,
                    4.251630481384991,
                    0.40876808261503295,
                    -2.941484880639961,
                    0.7977666111653107,
                    -5.443598734513343,
                    -3.8084894508367166,
                    -6.241843897544142,
                    -4.257709165237011,
                    1.7917834985439478,
                    0.5503647606230313,
                    1.323863079953993,
                    -1.59049592642486,
                    1.8698730554645429,
                    -1.158224374834496,
                    6.471980114857862,
                    -1.638020503028175,
                    2.3343814242528773,
                    -4.33651202994716,
                    2.550091301655717,
                    -1.44721237960351,
                    1.2137714065036271,
                    -3.136632494567426,
                    4.858350856055168,
                    -0.3988926694247072,
                    -1.467225348060286,
                    4.321393847659299,
                    3.479568567277193,
                    2.736135239933913,
                    -0.023615637674679685,
                    1.1260650628604876,
                    4.093623717511398,
                    1.0397549893516884,
                    -3.6641087755474713,
                    -1.4625996968882105,
                    -3.098113291102861,
                    -1.4975781306186777,
                    1.3105404627516328,
                    2.837647289523104,
                    3.4422659816406105,
                    -3.5288521458428503,
                    0.16447898334085406,
                    -4.718132113084079,
                    -0.20673970274580297,
                    1.1318613101617903,
                    2.1092766991789023,
                    -1.5799902133415065,
                    -2.014388195584178,
                    3.2817347123056666,
                    7.590613007974648,
                    3.0453276535002822,
                    6.83342661065337,
                    0.1560286408961607,
                    -0.5246713890460779,
                    1.7934792531266264,
                    -0.26642645460689157,
                    -5.239699261040841,
                    1.204691131191856,
                    0.7457500173062419,
                    -0.7637496005461705,
                    0.9411036949945917,
                    -5.523141885021743,
                    4.414244825836855,
                    -4.3632878206591785,
                    1.4152884417225373,
                    -1.5052931076547795,
                    0.883514615747785,
                    -4.549167497366075,
                    -3.224045109012466,
                    1.741849061961999,
                    -4.183292512742605,
                    1.9904296637429433,
                    -0.2418849263685315,
                    1.3035412737763845,
                    -6.604887941762873,
                    -4.3414703051061885,
                    -1.356780370422279,
                    5.164102795455773,
                    5.039804761127999,
                    -3.751241075031233,
                    0.9054124982424704,
                    3.97255924992446,
                    2.264230458151014,
                    -4.452807460569349,
                    1.3348167362082524,
                    -0.617235445134372,
                    -0.620661006021128,
                    1.1084659710237454,
                    -4.345718747452257,
                    2.4199834403603107,
                    2.009565636985658,
                    -3.056913574019725,
                    2.8481425160933362,
                    -0.9605875750947239,
                    -0.1262554386926627,
                    1.043017092141924,
                    3.530825121883253,
                    1.0762101117107585,
                    1.6914603868873694,
                    -3.397568301943953,
                    2.714880814196882,
                    -4.395834205132947,
                    -2.9649936824482217,
                    5.961927418920516,
                    -4.1068535772644985,
                    -6.304312762906706,
                    -0.03048084043503818,
                    3.1421723866417897,
                    -4.732325604769277,
                    0.9414185100361199,
                    -5.650237451740609,
                    -1.6794411128612154,
                    0.6621479437459505,
                    2.8279475282578255,
                    3.338599410175761,
                    5.028123784191447,
                    -1.2904444896774685,
                    2.112397433319343,
                    2.3417943360208873,
                    -1.954521739182549,
                    0.5859001173369717,
                    -7.095310606005451,
                    -4.991336494477002,
                    0.21870158503782577,
                    -1.7468075600241333,
                    -1.2202060923257798,
                    -3.551926446500872,
                    -1.4282564861888736,
                    1.533540226092787,
                    0.6616881764239573,
                    0.7255505514623922,
                    -0.6710029788964095,
                    -4.914185756490338,
                    -5.349787431756281,
                    0.5755402902365658,
                    2.234696019051332,
                    4.690713721253605,
                    -2.090054992200642,
                    1.272867072888668,
                    0.27214905006654166,
                    0.4713091391014281,
                    2.0421199406191572,
                    -1.1828303459933345,
                    -3.165166558298947,
                    -0.4124339388883169,
                    -0.6279448970779933,
                    -3.545423900059451,
                    1.9023585541559305,
                    -3.0730598777934652,
                    -3.483121681657889
                  ],
                  "y": [
                    -1.6137865715166773,
                    -0.6125363425881882,
                    2.086635128060736,
                    -0.8793899945505943,
                    -1.7335266644472453,
                    1.7551413068586146,
                    -0.6398836783772313,
                    0.1104607087031501,
                    -1.2497995356613538,
                    -0.9038643816574194,
                    0.48915103863477327,
                    -0.24639934895290166,
                    3.027700457988119,
                    -2.363159187570517,
                    -0.7309310927267156,
                    -1.0049148864248343,
                    -0.3495943714354227,
                    0.8527042237173249,
                    -0.791851032376297,
                    3.173719029620496,
                    -1.0916152847387357,
                    -1.1801413310510243,
                    0.9746436894435143,
                    -0.8321432525282361,
                    -1.5665274502125497,
                    -0.8653560179401053,
                    -0.6923573462438896,
                    -1.9657239407372558,
                    5.887715635420812,
                    4.688733540201322,
                    1.260160135385423,
                    -0.6808779793646741,
                    -0.669813188871299,
                    -0.4636498023231337,
                    -0.09437459040552842,
                    -0.2412229097969016,
                    3.5185255356327847,
                    -0.17356939958863474,
                    -0.8242453416705295,
                    0.9368135419298944,
                    7.859672651368092,
                    0.0135963958832867,
                    -1.7642757494772572,
                    -0.8092456387650403,
                    -1.3374336029177039,
                    -1.8297288001729486,
                    -0.30448120276955803,
                    -1.7977373045947218,
                    -1.7509482089762152,
                    0.7607864396584548,
                    -0.2405333821048055,
                    -3.058647660784624,
                    -2.0556144611996263,
                    -0.6841320113625173,
                    -0.10381821822315669,
                    3.641498840534918,
                    0.5485023253735123,
                    -1.362915776167326,
                    -0.6695833603649707,
                    -1.6105146529597114,
                    -0.8351957355787505,
                    0.28641129197450943,
                    -1.7749348069504087,
                    -0.9816844674047903,
                    -1.5226276189282713,
                    -0.6819185254251036,
                    -1.7588544733181941,
                    3.087858243644154,
                    -0.7003785938817026,
                    -0.747992736575878,
                    0.6315298637843628,
                    -0.01634694836069343,
                    -0.6817706625388371,
                    -0.9109064144892677,
                    -1.9999105872961638,
                    1.2180536036571719,
                    -1.8014987137581815,
                    -1.7781327094591397,
                    -0.937323252699903,
                    -1.4655861324894648,
                    -0.09140840241527473,
                    -0.4474896831283151,
                    -1.1329884116760913,
                    -0.13527637837444023,
                    -0.8571902743022634,
                    -2.0074428838176566,
                    0.472764564190717,
                    1.5317716796589251,
                    -1.7284457054124205,
                    0.8084153634139115,
                    0.7207318270140918,
                    2.1631063994479627,
                    3.1699387331383795,
                    -1.7970684045953647,
                    0.7100516674126288,
                    -1.4580393989498635,
                    -1.0262523715266,
                    1.3854869859171923,
                    0.35501735451718935,
                    1.260756828078299,
                    -1.4398997039951158,
                    0.5995715293615232,
                    0.47144142947053314,
                    1.8724060845674129,
                    -0.23579315513713212,
                    2.2376646988825404,
                    5.3163186070186566,
                    0.578541616047559,
                    -0.632528064985481,
                    0.05779753363195905,
                    -0.16841231889552485,
                    -1.3290890401401552,
                    -1.216891553942997,
                    1.278894409488046,
                    0.4024321205602243,
                    -0.600248141124248,
                    -1.2172449850488525,
                    -0.7886701409525533,
                    1.1184902121895794,
                    0.02976592857368436,
                    0.8580372319314175,
                    -0.7121927762541092,
                    -0.9759150426317591,
                    -1.4419545615749085,
                    0.6371215375521371,
                    -0.11748479430444203,
                    -1.6965227614340428,
                    -0.06819158649265464,
                    -0.6775892275719992,
                    -0.31032790942180133,
                    2.3508826923994444,
                    -1.3943774922536212,
                    0.5740869320034591,
                    -0.24199472769939992,
                    -0.12569038527892692,
                    0.620691825989502,
                    -1.6980621638686835,
                    -0.5013588478534957,
                    1.8977965396311587,
                    0.4905232995323804,
                    -0.034345569416907536,
                    0.6169601193913814,
                    -1.1974259951124009,
                    -0.25722892757671745,
                    -1.062610603062699,
                    0.41209226780731306,
                    0.15044864327845842,
                    0.22816514803408855,
                    -0.8423639118363311,
                    5.789071336594674,
                    -2.054079823401392,
                    2.138051404965942,
                    0.18566652211704213,
                    0.46403161958684425,
                    -0.7457819176036761,
                    0.6633008286521849,
                    -0.30159836587405026,
                    -0.6892933054187472,
                    -0.4519209873872715,
                    -1.6132620118168768,
                    0.6428263384340607,
                    -1.1675470777518897,
                    -0.30915936829885554,
                    5.914419111487262,
                    0.41214350246915105,
                    1.836799842798326,
                    -2.2985044668204155,
                    5.466040667015748,
                    0.34264245827605433,
                    -0.7842776582343635,
                    1.3147564367946094,
                    -0.15844675598938893,
                    -2.286654187067738,
                    -1.366820904514685,
                    -0.09438921552834793,
                    0.5053962114799626,
                    -1.34193477060091,
                    -0.7610435301217925,
                    -0.7030068919973266,
                    0.5343297771911444,
                    0.34972736119169756,
                    -1.0984168746685794,
                    -1.2751851513219272,
                    -1.4299411901129333,
                    -1.148136914846772,
                    -1.0618593708807016,
                    -1.4049641866361042,
                    -0.790199505359948,
                    0.1969938595149292,
                    0.6791821677838074,
                    1.6140568304938798,
                    2.354378303770614,
                    2.7060343364515407,
                    3.9323609477783,
                    -0.694961913972886,
                    0.7762002636485454,
                    -0.5014084489029151,
                    1.045445927531621,
                    -0.8434975186484722,
                    0.5192766773641503,
                    -0.5020009954685879,
                    0.003907653975765117,
                    -0.520661755179514,
                    0.2677825006579996,
                    0.7440117087436292,
                    -0.7407506664780311,
                    -0.005949258748810675,
                    0.29748964790873145,
                    -0.9260777072011601,
                    1.6194989959758954,
                    0.0625381665165217,
                    -0.1452888120216976,
                    0.32174901528093924,
                    0.8726854538239708,
                    -1.4478867184826496,
                    1.8696981882327064,
                    -2.8638276389379307
                  ],
                  "z": [
                    0.06058857468596216,
                    -0.24506293393105763,
                    1.1614093913580963,
                    -0.17397594446924985,
                    1.1292873698478483,
                    0.03286530804391415,
                    -0.853262520115765,
                    -2.70474541824161,
                    -0.453584474820966,
                    -1.2858602098490854,
                    0.4729254990472718,
                    1.6361179780389135,
                    -1.8423921529383611,
                    1.7215343019548615,
                    1.0603185368615984,
                    0.687188031670358,
                    0.7255275888181205,
                    -0.13077723479170902,
                    -0.6277537247894243,
                    -1.3077605818072846,
                    -0.40903886765753317,
                    -2.365715538554502,
                    -1.2293085842931288,
                    -0.9520291437917455,
                    0.9088108257961484,
                    0.8668836964468829,
                    -1.4452479508834044,
                    -1.308805942378977,
                    0.6501768487628024,
                    2.2866833406763223,
                    -0.35323240636793224,
                    0.938628670965031,
                    1.3349475087455906,
                    3.172202309576532,
                    -0.4756432802798089,
                    -0.579168870518634,
                    1.3848064431258065,
                    0.22546784368625875,
                    -0.03921652244425934,
                    -0.2791237061515033,
                    2.824781749231847,
                    -0.2737874623839209,
                    -1.054973505608922,
                    1.741415915846512,
                    0.6383198737139797,
                    0.5811898174280775,
                    -0.11975722346882176,
                    1.787907761676656,
                    -1.4492189078997235,
                    0.0025453863485888103,
                    1.7573251981326163,
                    -2.0495598776857156,
                    -0.466464653887864,
                    1.7702795827860365,
                    -0.4155141864428782,
                    -0.006443959790398389,
                    0.3521957575956604,
                    -3.443255522227221,
                    0.4531454232946908,
                    0.21164723899106916,
                    2.528365295925873,
                    4.372947898016511,
                    3.4138127111688057,
                    -0.20816458168377774,
                    2.1702392190957918,
                    -0.09709879937727656,
                    0.8117281778033989,
                    -0.8777312489792907,
                    1.3392815497396928,
                    -1.2006771328636976,
                    0.768563843739552,
                    -0.4699330666260288,
                    -0.059325120311762486,
                    0.35955937307216546,
                    0.12051452621562386,
                    -1.2952296508302708,
                    -2.6350859686850105,
                    1.0625299100852552,
                    0.18878812984156598,
                    -1.1235127218463912,
                    -0.09939807316515213,
                    0.30725960886823755,
                    0.2287138698530217,
                    -0.15070922346842877,
                    -0.993950793115187,
                    -1.03483590034554,
                    -1.4171447628899156,
                    0.1688431530414927,
                    -0.33504370426920893,
                    0.17442286742671745,
                    0.8944663948582889,
                    -0.9917064836892697,
                    -2.7732742614494192,
                    3.3513028738734567,
                    -0.8735890534889009,
                    0.3037578950238287,
                    -0.554565156062058,
                    -1.026396949565879,
                    -0.07802614071829762,
                    -0.5497510438210972,
                    1.128432701818161,
                    -0.8057935504773277,
                    -0.38884462559849786,
                    2.229659035315513,
                    -1.1688769952130043,
                    -0.33088713014553695,
                    -1.3065415244789553,
                    0.648908994575172,
                    -2.5371550184903846,
                    1.2372178645983622,
                    -2.2037749284894734,
                    -1.1875334027818822,
                    2.7449963900450878,
                    -0.7188656687013744,
                    0.8053452234113206,
                    -0.48864899491168556,
                    1.6074721874803393,
                    -0.5545423095378894,
                    1.6017075373906815,
                    -0.13361789599268825,
                    -0.8500487951647123,
                    0.005525850604042983,
                    -0.6265706759212271,
                    1.3113308282189757,
                    -0.43807190271372376,
                    -0.5250264928129542,
                    -1.1917045169490958,
                    -0.6716268625518118,
                    0.3046151385902712,
                    -0.32635988811815053,
                    -0.39717473700534356,
                    -1.4621190256051881,
                    -0.5471725548892409,
                    -0.4082526632174777,
                    3.1529751246875373,
                    0.9872443131930375,
                    -1.5798758444922307,
                    1.588484651736749,
                    -1.094679770600852,
                    0.9794238133027242,
                    -0.49286441762343824,
                    1.5753188787503225,
                    -0.031217645164393015,
                    1.8580638202602855,
                    1.8731011481437625,
                    3.3418371636461033,
                    0.7909912554107297,
                    -0.7703804862832021,
                    2.059159999414161,
                    -1.7964961449152186,
                    -3.0813614003459304,
                    1.3209747349721126,
                    -0.14998624098194926,
                    -0.2778576202797833,
                    -1.32622963301169,
                    1.0641591267639618,
                    -0.7284834130971942,
                    -2.1703769400667023,
                    0.5779263519656411,
                    -0.17281367154244573,
                    -1.3560155781302308,
                    -1.3110255404291835,
                    -0.6959551842904145,
                    0.7979713670062852,
                    -0.755755770001394,
                    -2.090127293228595,
                    3.287359286496261,
                    -2.2778468299403407,
                    0.1489837136860948,
                    1.0817668984900806,
                    0.5652385354977657,
                    0.16716079540356657,
                    0.185669222802873,
                    -0.7749165999178227,
                    -1.1124999162530973,
                    -0.4019335497390312,
                    -1.4705397728759193,
                    -1.5416989179531102,
                    0.1131960026726616,
                    -0.9540172647568441,
                    -1.1262380157678855,
                    1.5454932610730148,
                    4.004483772202707,
                    -1.5033461883165633,
                    -0.16559435023028335,
                    1.1598939657021043,
                    -2.6609182718597926,
                    0.018824159861780765,
                    1.3557083791859572,
                    1.2133338240705367,
                    0.27782595192772075,
                    -0.2053261118508366,
                    -1.7364373470746297,
                    2.0625207597342237,
                    -1.323892118204075,
                    -0.6897389035486747,
                    -1.4416266330230807,
                    -1.2939691614032092,
                    -0.3243421582689747,
                    3.4751736655954537,
                    2.2190377865845727,
                    -2.584911441727667,
                    -0.8505719179754324,
                    1.252000253389749,
                    -0.8124241629380089,
                    -1.3831164688881634,
                    -0.7617048668543173,
                    -0.24296692286446972,
                    -0.9425962337373569,
                    0.017402030560459542,
                    0.573979041961535,
                    -0.04240435567389378,
                    -0.1781835581633926,
                    -1.7422740822775955,
                    0.7222599526432449,
                    1.8844725972877054,
                    -1.184268406874524
                  ]
                }
              ],
              "layout": {
                "legend": {
                  "tracegroupgap": 0
                },
                "margin": {
                  "t": 60
                },
                "scene": {
                  "domain": {
                    "x": [
                      0,
                      1
                    ],
                    "y": [
                      0,
                      1
                    ]
                  },
                  "xaxis": {
                    "title": {
                      "text": "PC1"
                    }
                  },
                  "yaxis": {
                    "title": {
                      "text": "PC2"
                    }
                  },
                  "zaxis": {
                    "title": {
                      "text": "PC3"
                    }
                  }
                },
                "template": {
                  "data": {
                    "bar": [
                      {
                        "error_x": {
                          "color": "#2a3f5f"
                        },
                        "error_y": {
                          "color": "#2a3f5f"
                        },
                        "marker": {
                          "line": {
                            "color": "#E5ECF6",
                            "width": 0.5
                          },
                          "pattern": {
                            "fillmode": "overlay",
                            "size": 10,
                            "solidity": 0.2
                          }
                        },
                        "type": "bar"
                      }
                    ],
                    "barpolar": [
                      {
                        "marker": {
                          "line": {
                            "color": "#E5ECF6",
                            "width": 0.5
                          },
                          "pattern": {
                            "fillmode": "overlay",
                            "size": 10,
                            "solidity": 0.2
                          }
                        },
                        "type": "barpolar"
                      }
                    ],
                    "carpet": [
                      {
                        "aaxis": {
                          "endlinecolor": "#2a3f5f",
                          "gridcolor": "white",
                          "linecolor": "white",
                          "minorgridcolor": "white",
                          "startlinecolor": "#2a3f5f"
                        },
                        "baxis": {
                          "endlinecolor": "#2a3f5f",
                          "gridcolor": "white",
                          "linecolor": "white",
                          "minorgridcolor": "white",
                          "startlinecolor": "#2a3f5f"
                        },
                        "type": "carpet"
                      }
                    ],
                    "choropleth": [
                      {
                        "colorbar": {
                          "outlinewidth": 0,
                          "ticks": ""
                        },
                        "type": "choropleth"
                      }
                    ],
                    "contour": [
                      {
                        "colorbar": {
                          "outlinewidth": 0,
                          "ticks": ""
                        },
                        "colorscale": [
                          [
                            0,
                            "#0d0887"
                          ],
                          [
                            0.1111111111111111,
                            "#46039f"
                          ],
                          [
                            0.2222222222222222,
                            "#7201a8"
                          ],
                          [
                            0.3333333333333333,
                            "#9c179e"
                          ],
                          [
                            0.4444444444444444,
                            "#bd3786"
                          ],
                          [
                            0.5555555555555556,
                            "#d8576b"
                          ],
                          [
                            0.6666666666666666,
                            "#ed7953"
                          ],
                          [
                            0.7777777777777778,
                            "#fb9f3a"
                          ],
                          [
                            0.8888888888888888,
                            "#fdca26"
                          ],
                          [
                            1,
                            "#f0f921"
                          ]
                        ],
                        "type": "contour"
                      }
                    ],
                    "contourcarpet": [
                      {
                        "colorbar": {
                          "outlinewidth": 0,
                          "ticks": ""
                        },
                        "type": "contourcarpet"
                      }
                    ],
                    "heatmap": [
                      {
                        "colorbar": {
                          "outlinewidth": 0,
                          "ticks": ""
                        },
                        "colorscale": [
                          [
                            0,
                            "#0d0887"
                          ],
                          [
                            0.1111111111111111,
                            "#46039f"
                          ],
                          [
                            0.2222222222222222,
                            "#7201a8"
                          ],
                          [
                            0.3333333333333333,
                            "#9c179e"
                          ],
                          [
                            0.4444444444444444,
                            "#bd3786"
                          ],
                          [
                            0.5555555555555556,
                            "#d8576b"
                          ],
                          [
                            0.6666666666666666,
                            "#ed7953"
                          ],
                          [
                            0.7777777777777778,
                            "#fb9f3a"
                          ],
                          [
                            0.8888888888888888,
                            "#fdca26"
                          ],
                          [
                            1,
                            "#f0f921"
                          ]
                        ],
                        "type": "heatmap"
                      }
                    ],
                    "heatmapgl": [
                      {
                        "colorbar": {
                          "outlinewidth": 0,
                          "ticks": ""
                        },
                        "colorscale": [
                          [
                            0,
                            "#0d0887"
                          ],
                          [
                            0.1111111111111111,
                            "#46039f"
                          ],
                          [
                            0.2222222222222222,
                            "#7201a8"
                          ],
                          [
                            0.3333333333333333,
                            "#9c179e"
                          ],
                          [
                            0.4444444444444444,
                            "#bd3786"
                          ],
                          [
                            0.5555555555555556,
                            "#d8576b"
                          ],
                          [
                            0.6666666666666666,
                            "#ed7953"
                          ],
                          [
                            0.7777777777777778,
                            "#fb9f3a"
                          ],
                          [
                            0.8888888888888888,
                            "#fdca26"
                          ],
                          [
                            1,
                            "#f0f921"
                          ]
                        ],
                        "type": "heatmapgl"
                      }
                    ],
                    "histogram": [
                      {
                        "marker": {
                          "pattern": {
                            "fillmode": "overlay",
                            "size": 10,
                            "solidity": 0.2
                          }
                        },
                        "type": "histogram"
                      }
                    ],
                    "histogram2d": [
                      {
                        "colorbar": {
                          "outlinewidth": 0,
                          "ticks": ""
                        },
                        "colorscale": [
                          [
                            0,
                            "#0d0887"
                          ],
                          [
                            0.1111111111111111,
                            "#46039f"
                          ],
                          [
                            0.2222222222222222,
                            "#7201a8"
                          ],
                          [
                            0.3333333333333333,
                            "#9c179e"
                          ],
                          [
                            0.4444444444444444,
                            "#bd3786"
                          ],
                          [
                            0.5555555555555556,
                            "#d8576b"
                          ],
                          [
                            0.6666666666666666,
                            "#ed7953"
                          ],
                          [
                            0.7777777777777778,
                            "#fb9f3a"
                          ],
                          [
                            0.8888888888888888,
                            "#fdca26"
                          ],
                          [
                            1,
                            "#f0f921"
                          ]
                        ],
                        "type": "histogram2d"
                      }
                    ],
                    "histogram2dcontour": [
                      {
                        "colorbar": {
                          "outlinewidth": 0,
                          "ticks": ""
                        },
                        "colorscale": [
                          [
                            0,
                            "#0d0887"
                          ],
                          [
                            0.1111111111111111,
                            "#46039f"
                          ],
                          [
                            0.2222222222222222,
                            "#7201a8"
                          ],
                          [
                            0.3333333333333333,
                            "#9c179e"
                          ],
                          [
                            0.4444444444444444,
                            "#bd3786"
                          ],
                          [
                            0.5555555555555556,
                            "#d8576b"
                          ],
                          [
                            0.6666666666666666,
                            "#ed7953"
                          ],
                          [
                            0.7777777777777778,
                            "#fb9f3a"
                          ],
                          [
                            0.8888888888888888,
                            "#fdca26"
                          ],
                          [
                            1,
                            "#f0f921"
                          ]
                        ],
                        "type": "histogram2dcontour"
                      }
                    ],
                    "mesh3d": [
                      {
                        "colorbar": {
                          "outlinewidth": 0,
                          "ticks": ""
                        },
                        "type": "mesh3d"
                      }
                    ],
                    "parcoords": [
                      {
                        "line": {
                          "colorbar": {
                            "outlinewidth": 0,
                            "ticks": ""
                          }
                        },
                        "type": "parcoords"
                      }
                    ],
                    "pie": [
                      {
                        "automargin": true,
                        "type": "pie"
                      }
                    ],
                    "scatter": [
                      {
                        "fillpattern": {
                          "fillmode": "overlay",
                          "size": 10,
                          "solidity": 0.2
                        },
                        "type": "scatter"
                      }
                    ],
                    "scatter3d": [
                      {
                        "line": {
                          "colorbar": {
                            "outlinewidth": 0,
                            "ticks": ""
                          }
                        },
                        "marker": {
                          "colorbar": {
                            "outlinewidth": 0,
                            "ticks": ""
                          }
                        },
                        "type": "scatter3d"
                      }
                    ],
                    "scattercarpet": [
                      {
                        "marker": {
                          "colorbar": {
                            "outlinewidth": 0,
                            "ticks": ""
                          }
                        },
                        "type": "scattercarpet"
                      }
                    ],
                    "scattergeo": [
                      {
                        "marker": {
                          "colorbar": {
                            "outlinewidth": 0,
                            "ticks": ""
                          }
                        },
                        "type": "scattergeo"
                      }
                    ],
                    "scattergl": [
                      {
                        "marker": {
                          "colorbar": {
                            "outlinewidth": 0,
                            "ticks": ""
                          }
                        },
                        "type": "scattergl"
                      }
                    ],
                    "scattermapbox": [
                      {
                        "marker": {
                          "colorbar": {
                            "outlinewidth": 0,
                            "ticks": ""
                          }
                        },
                        "type": "scattermapbox"
                      }
                    ],
                    "scatterpolar": [
                      {
                        "marker": {
                          "colorbar": {
                            "outlinewidth": 0,
                            "ticks": ""
                          }
                        },
                        "type": "scatterpolar"
                      }
                    ],
                    "scatterpolargl": [
                      {
                        "marker": {
                          "colorbar": {
                            "outlinewidth": 0,
                            "ticks": ""
                          }
                        },
                        "type": "scatterpolargl"
                      }
                    ],
                    "scatterternary": [
                      {
                        "marker": {
                          "colorbar": {
                            "outlinewidth": 0,
                            "ticks": ""
                          }
                        },
                        "type": "scatterternary"
                      }
                    ],
                    "surface": [
                      {
                        "colorbar": {
                          "outlinewidth": 0,
                          "ticks": ""
                        },
                        "colorscale": [
                          [
                            0,
                            "#0d0887"
                          ],
                          [
                            0.1111111111111111,
                            "#46039f"
                          ],
                          [
                            0.2222222222222222,
                            "#7201a8"
                          ],
                          [
                            0.3333333333333333,
                            "#9c179e"
                          ],
                          [
                            0.4444444444444444,
                            "#bd3786"
                          ],
                          [
                            0.5555555555555556,
                            "#d8576b"
                          ],
                          [
                            0.6666666666666666,
                            "#ed7953"
                          ],
                          [
                            0.7777777777777778,
                            "#fb9f3a"
                          ],
                          [
                            0.8888888888888888,
                            "#fdca26"
                          ],
                          [
                            1,
                            "#f0f921"
                          ]
                        ],
                        "type": "surface"
                      }
                    ],
                    "table": [
                      {
                        "cells": {
                          "fill": {
                            "color": "#EBF0F8"
                          },
                          "line": {
                            "color": "white"
                          }
                        },
                        "header": {
                          "fill": {
                            "color": "#C8D4E3"
                          },
                          "line": {
                            "color": "white"
                          }
                        },
                        "type": "table"
                      }
                    ]
                  },
                  "layout": {
                    "annotationdefaults": {
                      "arrowcolor": "#2a3f5f",
                      "arrowhead": 0,
                      "arrowwidth": 1
                    },
                    "autotypenumbers": "strict",
                    "coloraxis": {
                      "colorbar": {
                        "outlinewidth": 0,
                        "ticks": ""
                      }
                    },
                    "colorscale": {
                      "diverging": [
                        [
                          0,
                          "#8e0152"
                        ],
                        [
                          0.1,
                          "#c51b7d"
                        ],
                        [
                          0.2,
                          "#de77ae"
                        ],
                        [
                          0.3,
                          "#f1b6da"
                        ],
                        [
                          0.4,
                          "#fde0ef"
                        ],
                        [
                          0.5,
                          "#f7f7f7"
                        ],
                        [
                          0.6,
                          "#e6f5d0"
                        ],
                        [
                          0.7,
                          "#b8e186"
                        ],
                        [
                          0.8,
                          "#7fbc41"
                        ],
                        [
                          0.9,
                          "#4d9221"
                        ],
                        [
                          1,
                          "#276419"
                        ]
                      ],
                      "sequential": [
                        [
                          0,
                          "#0d0887"
                        ],
                        [
                          0.1111111111111111,
                          "#46039f"
                        ],
                        [
                          0.2222222222222222,
                          "#7201a8"
                        ],
                        [
                          0.3333333333333333,
                          "#9c179e"
                        ],
                        [
                          0.4444444444444444,
                          "#bd3786"
                        ],
                        [
                          0.5555555555555556,
                          "#d8576b"
                        ],
                        [
                          0.6666666666666666,
                          "#ed7953"
                        ],
                        [
                          0.7777777777777778,
                          "#fb9f3a"
                        ],
                        [
                          0.8888888888888888,
                          "#fdca26"
                        ],
                        [
                          1,
                          "#f0f921"
                        ]
                      ],
                      "sequentialminus": [
                        [
                          0,
                          "#0d0887"
                        ],
                        [
                          0.1111111111111111,
                          "#46039f"
                        ],
                        [
                          0.2222222222222222,
                          "#7201a8"
                        ],
                        [
                          0.3333333333333333,
                          "#9c179e"
                        ],
                        [
                          0.4444444444444444,
                          "#bd3786"
                        ],
                        [
                          0.5555555555555556,
                          "#d8576b"
                        ],
                        [
                          0.6666666666666666,
                          "#ed7953"
                        ],
                        [
                          0.7777777777777778,
                          "#fb9f3a"
                        ],
                        [
                          0.8888888888888888,
                          "#fdca26"
                        ],
                        [
                          1,
                          "#f0f921"
                        ]
                      ]
                    },
                    "colorway": [
                      "#636efa",
                      "#EF553B",
                      "#00cc96",
                      "#ab63fa",
                      "#FFA15A",
                      "#19d3f3",
                      "#FF6692",
                      "#B6E880",
                      "#FF97FF",
                      "#FECB52"
                    ],
                    "font": {
                      "color": "#2a3f5f"
                    },
                    "geo": {
                      "bgcolor": "white",
                      "lakecolor": "white",
                      "landcolor": "#E5ECF6",
                      "showlakes": true,
                      "showland": true,
                      "subunitcolor": "white"
                    },
                    "hoverlabel": {
                      "align": "left"
                    },
                    "hovermode": "closest",
                    "mapbox": {
                      "style": "light"
                    },
                    "paper_bgcolor": "white",
                    "plot_bgcolor": "#E5ECF6",
                    "polar": {
                      "angularaxis": {
                        "gridcolor": "white",
                        "linecolor": "white",
                        "ticks": ""
                      },
                      "bgcolor": "#E5ECF6",
                      "radialaxis": {
                        "gridcolor": "white",
                        "linecolor": "white",
                        "ticks": ""
                      }
                    },
                    "scene": {
                      "xaxis": {
                        "backgroundcolor": "#E5ECF6",
                        "gridcolor": "white",
                        "gridwidth": 2,
                        "linecolor": "white",
                        "showbackground": true,
                        "ticks": "",
                        "zerolinecolor": "white"
                      },
                      "yaxis": {
                        "backgroundcolor": "#E5ECF6",
                        "gridcolor": "white",
                        "gridwidth": 2,
                        "linecolor": "white",
                        "showbackground": true,
                        "ticks": "",
                        "zerolinecolor": "white"
                      },
                      "zaxis": {
                        "backgroundcolor": "#E5ECF6",
                        "gridcolor": "white",
                        "gridwidth": 2,
                        "linecolor": "white",
                        "showbackground": true,
                        "ticks": "",
                        "zerolinecolor": "white"
                      }
                    },
                    "shapedefaults": {
                      "line": {
                        "color": "#2a3f5f"
                      }
                    },
                    "ternary": {
                      "aaxis": {
                        "gridcolor": "white",
                        "linecolor": "white",
                        "ticks": ""
                      },
                      "baxis": {
                        "gridcolor": "white",
                        "linecolor": "white",
                        "ticks": ""
                      },
                      "bgcolor": "#E5ECF6",
                      "caxis": {
                        "gridcolor": "white",
                        "linecolor": "white",
                        "ticks": ""
                      }
                    },
                    "title": {
                      "x": 0.05
                    },
                    "xaxis": {
                      "automargin": true,
                      "gridcolor": "white",
                      "linecolor": "white",
                      "ticks": "",
                      "title": {
                        "standoff": 15
                      },
                      "zerolinecolor": "white",
                      "zerolinewidth": 2
                    },
                    "yaxis": {
                      "automargin": true,
                      "gridcolor": "white",
                      "linecolor": "white",
                      "ticks": "",
                      "title": {
                        "standoff": 15
                      },
                      "zerolinecolor": "white",
                      "zerolinewidth": 2
                    }
                  }
                }
              }
            }
          },
          "metadata": {},
          "output_type": "display_data"
        }
      ],
      "source": [
        "fig = px.scatter_3d(df_scores, x='PC1', y='PC2', z='PC3')\n",
        "\n",
        "fig.show()"
      ]
    },
    {
      "attachments": {},
      "cell_type": "markdown",
      "metadata": {
        "colab_type": "text",
        "id": "3U22Q0PYXKp3"
      },
      "source": [
        "### 4.3. Customized 3D Scatter Plot"
      ]
    },
    {
      "cell_type": "code",
      "execution_count": 27,
      "metadata": {
        "colab": {
          "base_uri": "https://localhost:8080/",
          "height": 542
        },
        "colab_type": "code",
        "id": "LL_cAqrIUcOv",
        "outputId": "66fe6f44-81e6-4444-d75f-651c61bc214f"
      },
      "outputs": [
        {
          "data": {
            "application/vnd.plotly.v1+json": {
              "config": {
                "plotlyServerURL": "https://plot.ly"
              },
              "data": [
                {
                  "hovertemplate": "Country.Name=Aruba<br>PC1=%{x}<br>PC2=%{y}<br>PC3=%{z}<extra></extra>",
                  "legendgroup": "Aruba",
                  "marker": {
                    "color": "#636efa",
                    "opacity": 0.5,
                    "symbol": "circle"
                  },
                  "mode": "markers",
                  "name": "Aruba",
                  "scene": "scene",
                  "showlegend": true,
                  "type": "scatter3d",
                  "x": [
                    2.4579681059299348
                  ],
                  "y": [
                    -1.6137865715166773
                  ],
                  "z": [
                    0.06058857468596216
                  ]
                },
                {
                  "hovertemplate": "Country.Name=Afghanistan<br>PC1=%{x}<br>PC2=%{y}<br>PC3=%{z}<extra></extra>",
                  "legendgroup": "Afghanistan",
                  "marker": {
                    "color": "#EF553B",
                    "opacity": 0.5,
                    "symbol": "diamond"
                  },
                  "mode": "markers",
                  "name": "Afghanistan",
                  "scene": "scene",
                  "showlegend": true,
                  "type": "scatter3d",
                  "x": [
                    -4.304839493416005
                  ],
                  "y": [
                    -0.6125363425881882
                  ],
                  "z": [
                    -0.24506293393105763
                  ]
                },
                {
                  "hovertemplate": "Country.Name=Angola<br>PC1=%{x}<br>PC2=%{y}<br>PC3=%{z}<extra></extra>",
                  "legendgroup": "Angola",
                  "marker": {
                    "color": "#00cc96",
                    "opacity": 0.5,
                    "symbol": "square"
                  },
                  "mode": "markers",
                  "name": "Angola",
                  "scene": "scene",
                  "showlegend": true,
                  "type": "scatter3d",
                  "x": [
                    -3.003462248276336
                  ],
                  "y": [
                    2.086635128060736
                  ],
                  "z": [
                    1.1614093913580963
                  ]
                },
                {
                  "hovertemplate": "Country.Name=Albania<br>PC1=%{x}<br>PC2=%{y}<br>PC3=%{z}<extra></extra>",
                  "legendgroup": "Albania",
                  "marker": {
                    "color": "#ab63fa",
                    "opacity": 0.5,
                    "symbol": "x"
                  },
                  "mode": "markers",
                  "name": "Albania",
                  "scene": "scene",
                  "showlegend": true,
                  "type": "scatter3d",
                  "x": [
                    -0.8377489064846169
                  ],
                  "y": [
                    -0.8793899945505943
                  ],
                  "z": [
                    -0.17397594446924985
                  ]
                },
                {
                  "hovertemplate": "Country.Name=Andorra<br>PC1=%{x}<br>PC2=%{y}<br>PC3=%{z}<extra></extra>",
                  "legendgroup": "Andorra",
                  "marker": {
                    "color": "#FFA15A",
                    "opacity": 0.5,
                    "symbol": "cross"
                  },
                  "mode": "markers",
                  "name": "Andorra",
                  "scene": "scene",
                  "showlegend": true,
                  "type": "scatter3d",
                  "x": [
                    3.034333211484753
                  ],
                  "y": [
                    -1.7335266644472453
                  ],
                  "z": [
                    1.1292873698478483
                  ]
                },
                {
                  "hovertemplate": "Country.Name=United Arab Emirates<br>PC1=%{x}<br>PC2=%{y}<br>PC3=%{z}<extra></extra>",
                  "legendgroup": "United Arab Emirates",
                  "marker": {
                    "color": "#19d3f3",
                    "opacity": 0.5,
                    "symbol": "circle"
                  },
                  "mode": "markers",
                  "name": "United Arab Emirates",
                  "scene": "scene",
                  "showlegend": true,
                  "type": "scatter3d",
                  "x": [
                    5.337568889620809
                  ],
                  "y": [
                    1.7551413068586146
                  ],
                  "z": [
                    0.03286530804391415
                  ]
                },
                {
                  "hovertemplate": "Country.Name=Argentina<br>PC1=%{x}<br>PC2=%{y}<br>PC3=%{z}<extra></extra>",
                  "legendgroup": "Argentina",
                  "marker": {
                    "color": "#FF6692",
                    "opacity": 0.5,
                    "symbol": "diamond"
                  },
                  "mode": "markers",
                  "name": "Argentina",
                  "scene": "scene",
                  "showlegend": true,
                  "type": "scatter3d",
                  "x": [
                    1.4660229174690669
                  ],
                  "y": [
                    -0.6398836783772313
                  ],
                  "z": [
                    -0.853262520115765
                  ]
                },
                {
                  "hovertemplate": "Country.Name=Armenia<br>PC1=%{x}<br>PC2=%{y}<br>PC3=%{z}<extra></extra>",
                  "legendgroup": "Armenia",
                  "marker": {
                    "color": "#B6E880",
                    "opacity": 0.5,
                    "symbol": "square"
                  },
                  "mode": "markers",
                  "name": "Armenia",
                  "scene": "scene",
                  "showlegend": true,
                  "type": "scatter3d",
                  "x": [
                    -0.4773950498274056
                  ],
                  "y": [
                    0.1104607087031501
                  ],
                  "z": [
                    -2.70474541824161
                  ]
                },
                {
                  "hovertemplate": "Country.Name=American Samoa<br>PC1=%{x}<br>PC2=%{y}<br>PC3=%{z}<extra></extra>",
                  "legendgroup": "American Samoa",
                  "marker": {
                    "color": "#FF97FF",
                    "opacity": 0.5,
                    "symbol": "x"
                  },
                  "mode": "markers",
                  "name": "American Samoa",
                  "scene": "scene",
                  "showlegend": true,
                  "type": "scatter3d",
                  "x": [
                    1.3981089092692356
                  ],
                  "y": [
                    -1.2497995356613538
                  ],
                  "z": [
                    -0.453584474820966
                  ]
                },
                {
                  "hovertemplate": "Country.Name=Antigua and Barbuda<br>PC1=%{x}<br>PC2=%{y}<br>PC3=%{z}<extra></extra>",
                  "legendgroup": "Antigua and Barbuda",
                  "marker": {
                    "color": "#FECB52",
                    "opacity": 0.5,
                    "symbol": "cross"
                  },
                  "mode": "markers",
                  "name": "Antigua and Barbuda",
                  "scene": "scene",
                  "showlegend": true,
                  "type": "scatter3d",
                  "x": [
                    1.945069138898473
                  ],
                  "y": [
                    -0.9038643816574194
                  ],
                  "z": [
                    -1.2858602098490854
                  ]
                },
                {
                  "hovertemplate": "Country.Name=Australia<br>PC1=%{x}<br>PC2=%{y}<br>PC3=%{z}<extra></extra>",
                  "legendgroup": "Australia",
                  "marker": {
                    "color": "#636efa",
                    "opacity": 0.5,
                    "symbol": "circle"
                  },
                  "mode": "markers",
                  "name": "Australia",
                  "scene": "scene",
                  "showlegend": true,
                  "type": "scatter3d",
                  "x": [
                    3.3508389799304115
                  ],
                  "y": [
                    0.48915103863477327
                  ],
                  "z": [
                    0.4729254990472718
                  ]
                },
                {
                  "hovertemplate": "Country.Name=Austria<br>PC1=%{x}<br>PC2=%{y}<br>PC3=%{z}<extra></extra>",
                  "legendgroup": "Austria",
                  "marker": {
                    "color": "#EF553B",
                    "opacity": 0.5,
                    "symbol": "diamond"
                  },
                  "mode": "markers",
                  "name": "Austria",
                  "scene": "scene",
                  "showlegend": true,
                  "type": "scatter3d",
                  "x": [
                    4.301946000899962
                  ],
                  "y": [
                    -0.24639934895290166
                  ],
                  "z": [
                    1.6361179780389135
                  ]
                },
                {
                  "hovertemplate": "Country.Name=Azerbaijan<br>PC1=%{x}<br>PC2=%{y}<br>PC3=%{z}<extra></extra>",
                  "legendgroup": "Azerbaijan",
                  "marker": {
                    "color": "#00cc96",
                    "opacity": 0.5,
                    "symbol": "square"
                  },
                  "mode": "markers",
                  "name": "Azerbaijan",
                  "scene": "scene",
                  "showlegend": true,
                  "type": "scatter3d",
                  "x": [
                    -0.9747507770095554
                  ],
                  "y": [
                    3.027700457988119
                  ],
                  "z": [
                    -1.8423921529383611
                  ]
                },
                {
                  "hovertemplate": "Country.Name=Burundi<br>PC1=%{x}<br>PC2=%{y}<br>PC3=%{z}<extra></extra>",
                  "legendgroup": "Burundi",
                  "marker": {
                    "color": "#ab63fa",
                    "opacity": 0.5,
                    "symbol": "x"
                  },
                  "mode": "markers",
                  "name": "Burundi",
                  "scene": "scene",
                  "showlegend": true,
                  "type": "scatter3d",
                  "x": [
                    -6.02021860780296
                  ],
                  "y": [
                    -2.363159187570517
                  ],
                  "z": [
                    1.7215343019548615
                  ]
                },
                {
                  "hovertemplate": "Country.Name=Belgium<br>PC1=%{x}<br>PC2=%{y}<br>PC3=%{z}<extra></extra>",
                  "legendgroup": "Belgium",
                  "marker": {
                    "color": "#FFA15A",
                    "opacity": 0.5,
                    "symbol": "cross"
                  },
                  "mode": "markers",
                  "name": "Belgium",
                  "scene": "scene",
                  "showlegend": true,
                  "type": "scatter3d",
                  "x": [
                    4.799053573703961
                  ],
                  "y": [
                    -0.7309310927267156
                  ],
                  "z": [
                    1.0603185368615984
                  ]
                },
                {
                  "hovertemplate": "Country.Name=Benin<br>PC1=%{x}<br>PC2=%{y}<br>PC3=%{z}<extra></extra>",
                  "legendgroup": "Benin",
                  "marker": {
                    "color": "#19d3f3",
                    "opacity": 0.5,
                    "symbol": "circle"
                  },
                  "mode": "markers",
                  "name": "Benin",
                  "scene": "scene",
                  "showlegend": true,
                  "type": "scatter3d",
                  "x": [
                    -4.6922725205182
                  ],
                  "y": [
                    -1.0049148864248343
                  ],
                  "z": [
                    0.687188031670358
                  ]
                },
                {
                  "hovertemplate": "Country.Name=Burkina Faso<br>PC1=%{x}<br>PC2=%{y}<br>PC3=%{z}<extra></extra>",
                  "legendgroup": "Burkina Faso",
                  "marker": {
                    "color": "#FF6692",
                    "opacity": 0.5,
                    "symbol": "diamond"
                  },
                  "mode": "markers",
                  "name": "Burkina Faso",
                  "scene": "scene",
                  "showlegend": true,
                  "type": "scatter3d",
                  "x": [
                    -5.437771919211436
                  ],
                  "y": [
                    -0.3495943714354227
                  ],
                  "z": [
                    0.7255275888181205
                  ]
                },
                {
                  "hovertemplate": "Country.Name=Bangladesh<br>PC1=%{x}<br>PC2=%{y}<br>PC3=%{z}<extra></extra>",
                  "legendgroup": "Bangladesh",
                  "marker": {
                    "color": "#B6E880",
                    "opacity": 0.5,
                    "symbol": "square"
                  },
                  "mode": "markers",
                  "name": "Bangladesh",
                  "scene": "scene",
                  "showlegend": true,
                  "type": "scatter3d",
                  "x": [
                    -3.433088388821893
                  ],
                  "y": [
                    0.8527042237173249
                  ],
                  "z": [
                    -0.13077723479170902
                  ]
                },
                {
                  "hovertemplate": "Country.Name=Bulgaria<br>PC1=%{x}<br>PC2=%{y}<br>PC3=%{z}<extra></extra>",
                  "legendgroup": "Bulgaria",
                  "marker": {
                    "color": "#FF97FF",
                    "opacity": 0.5,
                    "symbol": "x"
                  },
                  "mode": "markers",
                  "name": "Bulgaria",
                  "scene": "scene",
                  "showlegend": true,
                  "type": "scatter3d",
                  "x": [
                    1.901998158689007
                  ],
                  "y": [
                    -0.791851032376297
                  ],
                  "z": [
                    -0.6277537247894243
                  ]
                },
                {
                  "hovertemplate": "Country.Name=Bahrain<br>PC1=%{x}<br>PC2=%{y}<br>PC3=%{z}<extra></extra>",
                  "legendgroup": "Bahrain",
                  "marker": {
                    "color": "#FECB52",
                    "opacity": 0.5,
                    "symbol": "cross"
                  },
                  "mode": "markers",
                  "name": "Bahrain",
                  "scene": "scene",
                  "showlegend": true,
                  "type": "scatter3d",
                  "x": [
                    3.771135254497359
                  ],
                  "y": [
                    3.173719029620496
                  ],
                  "z": [
                    -1.3077605818072846
                  ]
                },
                {
                  "hovertemplate": "Country.Name=Bahamas, The<br>PC1=%{x}<br>PC2=%{y}<br>PC3=%{z}<extra></extra>",
                  "legendgroup": "Bahamas, The",
                  "marker": {
                    "color": "#636efa",
                    "opacity": 0.5,
                    "symbol": "circle"
                  },
                  "mode": "markers",
                  "name": "Bahamas, The",
                  "scene": "scene",
                  "showlegend": true,
                  "type": "scatter3d",
                  "x": [
                    2.9335531780737814
                  ],
                  "y": [
                    -1.0916152847387357
                  ],
                  "z": [
                    -0.40903886765753317
                  ]
                },
                {
                  "hovertemplate": "Country.Name=Bosnia and Herzegovina<br>PC1=%{x}<br>PC2=%{y}<br>PC3=%{z}<extra></extra>",
                  "legendgroup": "Bosnia and Herzegovina",
                  "marker": {
                    "color": "#EF553B",
                    "opacity": 0.5,
                    "symbol": "diamond"
                  },
                  "mode": "markers",
                  "name": "Bosnia and Herzegovina",
                  "scene": "scene",
                  "showlegend": true,
                  "type": "scatter3d",
                  "x": [
                    0.05667199630861066
                  ],
                  "y": [
                    -1.1801413310510243
                  ],
                  "z": [
                    -2.365715538554502
                  ]
                },
                {
                  "hovertemplate": "Country.Name=Belarus<br>PC1=%{x}<br>PC2=%{y}<br>PC3=%{z}<extra></extra>",
                  "legendgroup": "Belarus",
                  "marker": {
                    "color": "#00cc96",
                    "opacity": 0.5,
                    "symbol": "square"
                  },
                  "mode": "markers",
                  "name": "Belarus",
                  "scene": "scene",
                  "showlegend": true,
                  "type": "scatter3d",
                  "x": [
                    1.6522605946255342
                  ],
                  "y": [
                    0.9746436894435143
                  ],
                  "z": [
                    -1.2293085842931288
                  ]
                },
                {
                  "hovertemplate": "Country.Name=Belize<br>PC1=%{x}<br>PC2=%{y}<br>PC3=%{z}<extra></extra>",
                  "legendgroup": "Belize",
                  "marker": {
                    "color": "#ab63fa",
                    "opacity": 0.5,
                    "symbol": "x"
                  },
                  "mode": "markers",
                  "name": "Belize",
                  "scene": "scene",
                  "showlegend": true,
                  "type": "scatter3d",
                  "x": [
                    -0.2568030099804806
                  ],
                  "y": [
                    -0.8321432525282361
                  ],
                  "z": [
                    -0.9520291437917455
                  ]
                },
                {
                  "hovertemplate": "Country.Name=Bermuda<br>PC1=%{x}<br>PC2=%{y}<br>PC3=%{z}<extra></extra>",
                  "legendgroup": "Bermuda",
                  "marker": {
                    "color": "#FFA15A",
                    "opacity": 0.5,
                    "symbol": "cross"
                  },
                  "mode": "markers",
                  "name": "Bermuda",
                  "scene": "scene",
                  "showlegend": true,
                  "type": "scatter3d",
                  "x": [
                    4.255966507299911
                  ],
                  "y": [
                    -1.5665274502125497
                  ],
                  "z": [
                    0.9088108257961484
                  ]
                },
                {
                  "hovertemplate": "Country.Name=Bolivia<br>PC1=%{x}<br>PC2=%{y}<br>PC3=%{z}<extra></extra>",
                  "legendgroup": "Bolivia",
                  "marker": {
                    "color": "#19d3f3",
                    "opacity": 0.5,
                    "symbol": "circle"
                  },
                  "mode": "markers",
                  "name": "Bolivia",
                  "scene": "scene",
                  "showlegend": true,
                  "type": "scatter3d",
                  "x": [
                    -1.2631904403746335
                  ],
                  "y": [
                    -0.8653560179401053
                  ],
                  "z": [
                    0.8668836964468829
                  ]
                },
                {
                  "hovertemplate": "Country.Name=Brazil<br>PC1=%{x}<br>PC2=%{y}<br>PC3=%{z}<extra></extra>",
                  "legendgroup": "Brazil",
                  "marker": {
                    "color": "#FF6692",
                    "opacity": 0.5,
                    "symbol": "diamond"
                  },
                  "mode": "markers",
                  "name": "Brazil",
                  "scene": "scene",
                  "showlegend": true,
                  "type": "scatter3d",
                  "x": [
                    0.8097647455501257
                  ],
                  "y": [
                    -0.6923573462438896
                  ],
                  "z": [
                    -1.4452479508834044
                  ]
                },
                {
                  "hovertemplate": "Country.Name=Barbados<br>PC1=%{x}<br>PC2=%{y}<br>PC3=%{z}<extra></extra>",
                  "legendgroup": "Barbados",
                  "marker": {
                    "color": "#B6E880",
                    "opacity": 0.5,
                    "symbol": "square"
                  },
                  "mode": "markers",
                  "name": "Barbados",
                  "scene": "scene",
                  "showlegend": true,
                  "type": "scatter3d",
                  "x": [
                    2.2651664493341825
                  ],
                  "y": [
                    -1.9657239407372558
                  ],
                  "z": [
                    -1.308805942378977
                  ]
                },
                {
                  "hovertemplate": "Country.Name=Brunei Darussalam<br>PC1=%{x}<br>PC2=%{y}<br>PC3=%{z}<extra></extra>",
                  "legendgroup": "Brunei Darussalam",
                  "marker": {
                    "color": "#FF97FF",
                    "opacity": 0.5,
                    "symbol": "x"
                  },
                  "mode": "markers",
                  "name": "Brunei Darussalam",
                  "scene": "scene",
                  "showlegend": true,
                  "type": "scatter3d",
                  "x": [
                    3.4616750563905367
                  ],
                  "y": [
                    5.887715635420812
                  ],
                  "z": [
                    0.6501768487628024
                  ]
                },
                {
                  "hovertemplate": "Country.Name=Bhutan<br>PC1=%{x}<br>PC2=%{y}<br>PC3=%{z}<extra></extra>",
                  "legendgroup": "Bhutan",
                  "marker": {
                    "color": "#FECB52",
                    "opacity": 0.5,
                    "symbol": "cross"
                  },
                  "mode": "markers",
                  "name": "Bhutan",
                  "scene": "scene",
                  "showlegend": true,
                  "type": "scatter3d",
                  "x": [
                    -1.3370682263888911
                  ],
                  "y": [
                    4.688733540201322
                  ],
                  "z": [
                    2.2866833406763223
                  ]
                },
                {
                  "hovertemplate": "Country.Name=Botswana<br>PC1=%{x}<br>PC2=%{y}<br>PC3=%{z}<extra></extra>",
                  "legendgroup": "Botswana",
                  "marker": {
                    "color": "#636efa",
                    "opacity": 0.5,
                    "symbol": "circle"
                  },
                  "mode": "markers",
                  "name": "Botswana",
                  "scene": "scene",
                  "showlegend": true,
                  "type": "scatter3d",
                  "x": [
                    0.8309130755595612
                  ],
                  "y": [
                    1.260160135385423
                  ],
                  "z": [
                    -0.35323240636793224
                  ]
                },
                {
                  "hovertemplate": "Country.Name=Central African Republic<br>PC1=%{x}<br>PC2=%{y}<br>PC3=%{z}<extra></extra>",
                  "legendgroup": "Central African Republic",
                  "marker": {
                    "color": "#EF553B",
                    "opacity": 0.5,
                    "symbol": "diamond"
                  },
                  "mode": "markers",
                  "name": "Central African Republic",
                  "scene": "scene",
                  "showlegend": true,
                  "type": "scatter3d",
                  "x": [
                    -6.02010970507029
                  ],
                  "y": [
                    -0.6808779793646741
                  ],
                  "z": [
                    0.938628670965031
                  ]
                },
                {
                  "hovertemplate": "Country.Name=Canada<br>PC1=%{x}<br>PC2=%{y}<br>PC3=%{z}<extra></extra>",
                  "legendgroup": "Canada",
                  "marker": {
                    "color": "#00cc96",
                    "opacity": 0.5,
                    "symbol": "square"
                  },
                  "mode": "markers",
                  "name": "Canada",
                  "scene": "scene",
                  "showlegend": true,
                  "type": "scatter3d",
                  "x": [
                    4.10100122782074
                  ],
                  "y": [
                    -0.669813188871299
                  ],
                  "z": [
                    1.3349475087455906
                  ]
                },
                {
                  "hovertemplate": "Country.Name=Switzerland<br>PC1=%{x}<br>PC2=%{y}<br>PC3=%{z}<extra></extra>",
                  "legendgroup": "Switzerland",
                  "marker": {
                    "color": "#ab63fa",
                    "opacity": 0.5,
                    "symbol": "x"
                  },
                  "mode": "markers",
                  "name": "Switzerland",
                  "scene": "scene",
                  "showlegend": true,
                  "type": "scatter3d",
                  "x": [
                    5.500403415925366
                  ],
                  "y": [
                    -0.4636498023231337
                  ],
                  "z": [
                    3.172202309576532
                  ]
                },
                {
                  "hovertemplate": "Country.Name=Channel Islands<br>PC1=%{x}<br>PC2=%{y}<br>PC3=%{z}<extra></extra>",
                  "legendgroup": "Channel Islands",
                  "marker": {
                    "color": "#FFA15A",
                    "opacity": 0.5,
                    "symbol": "cross"
                  },
                  "mode": "markers",
                  "name": "Channel Islands",
                  "scene": "scene",
                  "showlegend": true,
                  "type": "scatter3d",
                  "x": [
                    0.5946860345199144
                  ],
                  "y": [
                    -0.09437459040552842
                  ],
                  "z": [
                    -0.4756432802798089
                  ]
                },
                {
                  "hovertemplate": "Country.Name=Chile<br>PC1=%{x}<br>PC2=%{y}<br>PC3=%{z}<extra></extra>",
                  "legendgroup": "Chile",
                  "marker": {
                    "color": "#19d3f3",
                    "opacity": 0.5,
                    "symbol": "circle"
                  },
                  "mode": "markers",
                  "name": "Chile",
                  "scene": "scene",
                  "showlegend": true,
                  "type": "scatter3d",
                  "x": [
                    2.3430331358199425
                  ],
                  "y": [
                    -0.2412229097969016
                  ],
                  "z": [
                    -0.579168870518634
                  ]
                },
                {
                  "hovertemplate": "Country.Name=China<br>PC1=%{x}<br>PC2=%{y}<br>PC3=%{z}<extra></extra>",
                  "legendgroup": "China",
                  "marker": {
                    "color": "#FF6692",
                    "opacity": 0.5,
                    "symbol": "diamond"
                  },
                  "mode": "markers",
                  "name": "China",
                  "scene": "scene",
                  "showlegend": true,
                  "type": "scatter3d",
                  "x": [
                    -0.6387057602997744
                  ],
                  "y": [
                    3.5185255356327847
                  ],
                  "z": [
                    1.3848064431258065
                  ]
                },
                {
                  "hovertemplate": "Country.Name=Cote d'Ivoire<br>PC1=%{x}<br>PC2=%{y}<br>PC3=%{z}<extra></extra>",
                  "legendgroup": "Cote d'Ivoire",
                  "marker": {
                    "color": "#B6E880",
                    "opacity": 0.5,
                    "symbol": "square"
                  },
                  "mode": "markers",
                  "name": "Cote d'Ivoire",
                  "scene": "scene",
                  "showlegend": true,
                  "type": "scatter3d",
                  "x": [
                    -3.5835078106785465
                  ],
                  "y": [
                    -0.17356939958863474
                  ],
                  "z": [
                    0.22546784368625875
                  ]
                },
                {
                  "hovertemplate": "Country.Name=Cameroon<br>PC1=%{x}<br>PC2=%{y}<br>PC3=%{z}<extra></extra>",
                  "legendgroup": "Cameroon",
                  "marker": {
                    "color": "#FF97FF",
                    "opacity": 0.5,
                    "symbol": "x"
                  },
                  "mode": "markers",
                  "name": "Cameroon",
                  "scene": "scene",
                  "showlegend": true,
                  "type": "scatter3d",
                  "x": [
                    -3.878753134856749
                  ],
                  "y": [
                    -0.8242453416705295
                  ],
                  "z": [
                    -0.03921652244425934
                  ]
                },
                {
                  "hovertemplate": "Country.Name=Congo, Dem. Rep.<br>PC1=%{x}<br>PC2=%{y}<br>PC3=%{z}<extra></extra>",
                  "legendgroup": "Congo, Dem. Rep.",
                  "marker": {
                    "color": "#FECB52",
                    "opacity": 0.5,
                    "symbol": "cross"
                  },
                  "mode": "markers",
                  "name": "Congo, Dem. Rep.",
                  "scene": "scene",
                  "showlegend": true,
                  "type": "scatter3d",
                  "x": [
                    -5.696985200612392
                  ],
                  "y": [
                    0.9368135419298944
                  ],
                  "z": [
                    -0.2791237061515033
                  ]
                },
                {
                  "hovertemplate": "Country.Name=Congo, Rep.<br>PC1=%{x}<br>PC2=%{y}<br>PC3=%{z}<extra></extra>",
                  "legendgroup": "Congo, Rep.",
                  "marker": {
                    "color": "#636efa",
                    "opacity": 0.5,
                    "symbol": "circle"
                  },
                  "mode": "markers",
                  "name": "Congo, Rep.",
                  "scene": "scene",
                  "showlegend": true,
                  "type": "scatter3d",
                  "x": [
                    -3.183137135463046
                  ],
                  "y": [
                    7.859672651368092
                  ],
                  "z": [
                    2.824781749231847
                  ]
                },
                {
                  "hovertemplate": "Country.Name=Colombia<br>PC1=%{x}<br>PC2=%{y}<br>PC3=%{z}<extra></extra>",
                  "legendgroup": "Colombia",
                  "marker": {
                    "color": "#EF553B",
                    "opacity": 0.5,
                    "symbol": "diamond"
                  },
                  "mode": "markers",
                  "name": "Colombia",
                  "scene": "scene",
                  "showlegend": true,
                  "type": "scatter3d",
                  "x": [
                    0.26836561592325364
                  ],
                  "y": [
                    0.0135963958832867
                  ],
                  "z": [
                    -0.2737874623839209
                  ]
                },
                {
                  "hovertemplate": "Country.Name=Comoros<br>PC1=%{x}<br>PC2=%{y}<br>PC3=%{z}<extra></extra>",
                  "legendgroup": "Comoros",
                  "marker": {
                    "color": "#00cc96",
                    "opacity": 0.5,
                    "symbol": "square"
                  },
                  "mode": "markers",
                  "name": "Comoros",
                  "scene": "scene",
                  "showlegend": true,
                  "type": "scatter3d",
                  "x": [
                    -4.331435686876992
                  ],
                  "y": [
                    -1.7642757494772572
                  ],
                  "z": [
                    -1.054973505608922
                  ]
                },
                {
                  "hovertemplate": "Country.Name=Cabo Verde<br>PC1=%{x}<br>PC2=%{y}<br>PC3=%{z}<extra></extra>",
                  "legendgroup": "Cabo Verde",
                  "marker": {
                    "color": "#ab63fa",
                    "opacity": 0.5,
                    "symbol": "x"
                  },
                  "mode": "markers",
                  "name": "Cabo Verde",
                  "scene": "scene",
                  "showlegend": true,
                  "type": "scatter3d",
                  "x": [
                    0.44663577156982365
                  ],
                  "y": [
                    -0.8092456387650403
                  ],
                  "z": [
                    1.741415915846512
                  ]
                },
                {
                  "hovertemplate": "Country.Name=Costa Rica<br>PC1=%{x}<br>PC2=%{y}<br>PC3=%{z}<extra></extra>",
                  "legendgroup": "Costa Rica",
                  "marker": {
                    "color": "#FFA15A",
                    "opacity": 0.5,
                    "symbol": "cross"
                  },
                  "mode": "markers",
                  "name": "Costa Rica",
                  "scene": "scene",
                  "showlegend": true,
                  "type": "scatter3d",
                  "x": [
                    2.06446360669794
                  ],
                  "y": [
                    -1.3374336029177039
                  ],
                  "z": [
                    0.6383198737139797
                  ]
                },
                {
                  "hovertemplate": "Country.Name=Cuba<br>PC1=%{x}<br>PC2=%{y}<br>PC3=%{z}<extra></extra>",
                  "legendgroup": "Cuba",
                  "marker": {
                    "color": "#19d3f3",
                    "opacity": 0.5,
                    "symbol": "circle"
                  },
                  "mode": "markers",
                  "name": "Cuba",
                  "scene": "scene",
                  "showlegend": true,
                  "type": "scatter3d",
                  "x": [
                    1.207038769475463
                  ],
                  "y": [
                    -1.8297288001729486
                  ],
                  "z": [
                    0.5811898174280775
                  ]
                },
                {
                  "hovertemplate": "Country.Name=Curacao<br>PC1=%{x}<br>PC2=%{y}<br>PC3=%{z}<extra></extra>",
                  "legendgroup": "Curacao",
                  "marker": {
                    "color": "#FF6692",
                    "opacity": 0.5,
                    "symbol": "diamond"
                  },
                  "mode": "markers",
                  "name": "Curacao",
                  "scene": "scene",
                  "showlegend": true,
                  "type": "scatter3d",
                  "x": [
                    1.4342465173174022
                  ],
                  "y": [
                    -0.30448120276955803
                  ],
                  "z": [
                    -0.11975722346882176
                  ]
                },
                {
                  "hovertemplate": "Country.Name=Cayman Islands<br>PC1=%{x}<br>PC2=%{y}<br>PC3=%{z}<extra></extra>",
                  "legendgroup": "Cayman Islands",
                  "marker": {
                    "color": "#B6E880",
                    "opacity": 0.5,
                    "symbol": "square"
                  },
                  "mode": "markers",
                  "name": "Cayman Islands",
                  "scene": "scene",
                  "showlegend": true,
                  "type": "scatter3d",
                  "x": [
                    3.5110745609502154
                  ],
                  "y": [
                    -1.7977373045947218
                  ],
                  "z": [
                    1.787907761676656
                  ]
                },
                {
                  "hovertemplate": "Country.Name=Cyprus<br>PC1=%{x}<br>PC2=%{y}<br>PC3=%{z}<extra></extra>",
                  "legendgroup": "Cyprus",
                  "marker": {
                    "color": "#FF97FF",
                    "opacity": 0.5,
                    "symbol": "x"
                  },
                  "mode": "markers",
                  "name": "Cyprus",
                  "scene": "scene",
                  "showlegend": true,
                  "type": "scatter3d",
                  "x": [
                    3.3638784076434805
                  ],
                  "y": [
                    -1.7509482089762152
                  ],
                  "z": [
                    -1.4492189078997235
                  ]
                },
                {
                  "hovertemplate": "Country.Name=Czechia<br>PC1=%{x}<br>PC2=%{y}<br>PC3=%{z}<extra></extra>",
                  "legendgroup": "Czechia",
                  "marker": {
                    "color": "#FECB52",
                    "opacity": 0.5,
                    "symbol": "cross"
                  },
                  "mode": "markers",
                  "name": "Czechia",
                  "scene": "scene",
                  "showlegend": true,
                  "type": "scatter3d",
                  "x": [
                    3.2422972368848106
                  ],
                  "y": [
                    0.7607864396584548
                  ],
                  "z": [
                    0.0025453863485888103
                  ]
                },
                {
                  "hovertemplate": "Country.Name=Germany<br>PC1=%{x}<br>PC2=%{y}<br>PC3=%{z}<extra></extra>",
                  "legendgroup": "Germany",
                  "marker": {
                    "color": "#636efa",
                    "opacity": 0.5,
                    "symbol": "circle"
                  },
                  "mode": "markers",
                  "name": "Germany",
                  "scene": "scene",
                  "showlegend": true,
                  "type": "scatter3d",
                  "x": [
                    4.65757771455527
                  ],
                  "y": [
                    -0.2405333821048055
                  ],
                  "z": [
                    1.7573251981326163
                  ]
                },
                {
                  "hovertemplate": "Country.Name=Djibouti<br>PC1=%{x}<br>PC2=%{y}<br>PC3=%{z}<extra></extra>",
                  "legendgroup": "Djibouti",
                  "marker": {
                    "color": "#EF553B",
                    "opacity": 0.5,
                    "symbol": "diamond"
                  },
                  "mode": "markers",
                  "name": "Djibouti",
                  "scene": "scene",
                  "showlegend": true,
                  "type": "scatter3d",
                  "x": [
                    -0.9184138194068151
                  ],
                  "y": [
                    -3.058647660784624
                  ],
                  "z": [
                    -2.0495598776857156
                  ]
                },
                {
                  "hovertemplate": "Country.Name=Dominica<br>PC1=%{x}<br>PC2=%{y}<br>PC3=%{z}<extra></extra>",
                  "legendgroup": "Dominica",
                  "marker": {
                    "color": "#00cc96",
                    "opacity": 0.5,
                    "symbol": "square"
                  },
                  "mode": "markers",
                  "name": "Dominica",
                  "scene": "scene",
                  "showlegend": true,
                  "type": "scatter3d",
                  "x": [
                    0.8401474390110453
                  ],
                  "y": [
                    -2.0556144611996263
                  ],
                  "z": [
                    -0.466464653887864
                  ]
                },
                {
                  "hovertemplate": "Country.Name=Denmark<br>PC1=%{x}<br>PC2=%{y}<br>PC3=%{z}<extra></extra>",
                  "legendgroup": "Denmark",
                  "marker": {
                    "color": "#ab63fa",
                    "opacity": 0.5,
                    "symbol": "x"
                  },
                  "mode": "markers",
                  "name": "Denmark",
                  "scene": "scene",
                  "showlegend": true,
                  "type": "scatter3d",
                  "x": [
                    5.1380223068687405
                  ],
                  "y": [
                    -0.6841320113625173
                  ],
                  "z": [
                    1.7702795827860365
                  ]
                },
                {
                  "hovertemplate": "Country.Name=Dominican Republic<br>PC1=%{x}<br>PC2=%{y}<br>PC3=%{z}<extra></extra>",
                  "legendgroup": "Dominican Republic",
                  "marker": {
                    "color": "#FFA15A",
                    "opacity": 0.5,
                    "symbol": "cross"
                  },
                  "mode": "markers",
                  "name": "Dominican Republic",
                  "scene": "scene",
                  "showlegend": true,
                  "type": "scatter3d",
                  "x": [
                    -0.08448604899657465
                  ],
                  "y": [
                    -0.10381821822315669
                  ],
                  "z": [
                    -0.4155141864428782
                  ]
                },
                {
                  "hovertemplate": "Country.Name=Algeria<br>PC1=%{x}<br>PC2=%{y}<br>PC3=%{z}<extra></extra>",
                  "legendgroup": "Algeria",
                  "marker": {
                    "color": "#19d3f3",
                    "opacity": 0.5,
                    "symbol": "circle"
                  },
                  "mode": "markers",
                  "name": "Algeria",
                  "scene": "scene",
                  "showlegend": true,
                  "type": "scatter3d",
                  "x": [
                    -0.22145725381055273
                  ],
                  "y": [
                    3.641498840534918
                  ],
                  "z": [
                    -0.006443959790398389
                  ]
                },
                {
                  "hovertemplate": "Country.Name=Ecuador<br>PC1=%{x}<br>PC2=%{y}<br>PC3=%{z}<extra></extra>",
                  "legendgroup": "Ecuador",
                  "marker": {
                    "color": "#FF6692",
                    "opacity": 0.5,
                    "symbol": "diamond"
                  },
                  "mode": "markers",
                  "name": "Ecuador",
                  "scene": "scene",
                  "showlegend": true,
                  "type": "scatter3d",
                  "x": [
                    -0.4166235911682394
                  ],
                  "y": [
                    0.5485023253735123
                  ],
                  "z": [
                    0.3521957575956604
                  ]
                },
                {
                  "hovertemplate": "Country.Name=Egypt, Arab Rep.<br>PC1=%{x}<br>PC2=%{y}<br>PC3=%{z}<extra></extra>",
                  "legendgroup": "Egypt, Arab Rep.",
                  "marker": {
                    "color": "#B6E880",
                    "opacity": 0.5,
                    "symbol": "square"
                  },
                  "mode": "markers",
                  "name": "Egypt, Arab Rep.",
                  "scene": "scene",
                  "showlegend": true,
                  "type": "scatter3d",
                  "x": [
                    -1.217893915199287
                  ],
                  "y": [
                    -1.362915776167326
                  ],
                  "z": [
                    -3.443255522227221
                  ]
                },
                {
                  "hovertemplate": "Country.Name=Eritrea<br>PC1=%{x}<br>PC2=%{y}<br>PC3=%{z}<extra></extra>",
                  "legendgroup": "Eritrea",
                  "marker": {
                    "color": "#FF97FF",
                    "opacity": 0.5,
                    "symbol": "x"
                  },
                  "mode": "markers",
                  "name": "Eritrea",
                  "scene": "scene",
                  "showlegend": true,
                  "type": "scatter3d",
                  "x": [
                    -4.454737557403085
                  ],
                  "y": [
                    -0.6695833603649707
                  ],
                  "z": [
                    0.4531454232946908
                  ]
                },
                {
                  "hovertemplate": "Country.Name=Spain<br>PC1=%{x}<br>PC2=%{y}<br>PC3=%{z}<extra></extra>",
                  "legendgroup": "Spain",
                  "marker": {
                    "color": "#FECB52",
                    "opacity": 0.5,
                    "symbol": "cross"
                  },
                  "mode": "markers",
                  "name": "Spain",
                  "scene": "scene",
                  "showlegend": true,
                  "type": "scatter3d",
                  "x": [
                    3.4215981398866155
                  ],
                  "y": [
                    -1.6105146529597114
                  ],
                  "z": [
                    0.21164723899106916
                  ]
                },
                {
                  "hovertemplate": "Country.Name=Estonia<br>PC1=%{x}<br>PC2=%{y}<br>PC3=%{z}<extra></extra>",
                  "legendgroup": "Estonia",
                  "marker": {
                    "color": "#636efa",
                    "opacity": 0.5,
                    "symbol": "circle"
                  },
                  "mode": "markers",
                  "name": "Estonia",
                  "scene": "scene",
                  "showlegend": true,
                  "type": "scatter3d",
                  "x": [
                    4.028587610088065
                  ],
                  "y": [
                    -0.8351957355787505
                  ],
                  "z": [
                    2.528365295925873
                  ]
                },
                {
                  "hovertemplate": "Country.Name=Ethiopia<br>PC1=%{x}<br>PC2=%{y}<br>PC3=%{z}<extra></extra>",
                  "legendgroup": "Ethiopia",
                  "marker": {
                    "color": "#EF553B",
                    "opacity": 0.5,
                    "symbol": "diamond"
                  },
                  "mode": "markers",
                  "name": "Ethiopia",
                  "scene": "scene",
                  "showlegend": true,
                  "type": "scatter3d",
                  "x": [
                    -6.071271271861696
                  ],
                  "y": [
                    0.28641129197450943
                  ],
                  "z": [
                    4.372947898016511
                  ]
                },
                {
                  "hovertemplate": "Country.Name=Finland<br>PC1=%{x}<br>PC2=%{y}<br>PC3=%{z}<extra></extra>",
                  "legendgroup": "Finland",
                  "marker": {
                    "color": "#00cc96",
                    "opacity": 0.5,
                    "symbol": "square"
                  },
                  "mode": "markers",
                  "name": "Finland",
                  "scene": "scene",
                  "showlegend": true,
                  "type": "scatter3d",
                  "x": [
                    4.687454886583122
                  ],
                  "y": [
                    -1.7749348069504087
                  ],
                  "z": [
                    3.4138127111688057
                  ]
                },
                {
                  "hovertemplate": "Country.Name=Fiji<br>PC1=%{x}<br>PC2=%{y}<br>PC3=%{z}<extra></extra>",
                  "legendgroup": "Fiji",
                  "marker": {
                    "color": "#ab63fa",
                    "opacity": 0.5,
                    "symbol": "x"
                  },
                  "mode": "markers",
                  "name": "Fiji",
                  "scene": "scene",
                  "showlegend": true,
                  "type": "scatter3d",
                  "x": [
                    0.13559337388606718
                  ],
                  "y": [
                    -0.9816844674047903
                  ],
                  "z": [
                    -0.20816458168377774
                  ]
                },
                {
                  "hovertemplate": "Country.Name=France<br>PC1=%{x}<br>PC2=%{y}<br>PC3=%{z}<extra></extra>",
                  "legendgroup": "France",
                  "marker": {
                    "color": "#FFA15A",
                    "opacity": 0.5,
                    "symbol": "cross"
                  },
                  "mode": "markers",
                  "name": "France",
                  "scene": "scene",
                  "showlegend": true,
                  "type": "scatter3d",
                  "x": [
                    4.053379914787763
                  ],
                  "y": [
                    -1.5226276189282713
                  ],
                  "z": [
                    2.1702392190957918
                  ]
                },
                {
                  "hovertemplate": "Country.Name=Faroe Islands<br>PC1=%{x}<br>PC2=%{y}<br>PC3=%{z}<extra></extra>",
                  "legendgroup": "Faroe Islands",
                  "marker": {
                    "color": "#19d3f3",
                    "opacity": 0.5,
                    "symbol": "circle"
                  },
                  "mode": "markers",
                  "name": "Faroe Islands",
                  "scene": "scene",
                  "showlegend": true,
                  "type": "scatter3d",
                  "x": [
                    0.5890758547189369
                  ],
                  "y": [
                    -0.6819185254251036
                  ],
                  "z": [
                    -0.09709879937727656
                  ]
                },
                {
                  "hovertemplate": "Country.Name=Micronesia, Fed. Sts.<br>PC1=%{x}<br>PC2=%{y}<br>PC3=%{z}<extra></extra>",
                  "legendgroup": "Micronesia, Fed. Sts.",
                  "marker": {
                    "color": "#FF6692",
                    "opacity": 0.5,
                    "symbol": "diamond"
                  },
                  "mode": "markers",
                  "name": "Micronesia, Fed. Sts.",
                  "scene": "scene",
                  "showlegend": true,
                  "type": "scatter3d",
                  "x": [
                    -1.7474567098035119
                  ],
                  "y": [
                    -1.7588544733181941
                  ],
                  "z": [
                    0.8117281778033989
                  ]
                },
                {
                  "hovertemplate": "Country.Name=Gabon<br>PC1=%{x}<br>PC2=%{y}<br>PC3=%{z}<extra></extra>",
                  "legendgroup": "Gabon",
                  "marker": {
                    "color": "#B6E880",
                    "opacity": 0.5,
                    "symbol": "square"
                  },
                  "mode": "markers",
                  "name": "Gabon",
                  "scene": "scene",
                  "showlegend": true,
                  "type": "scatter3d",
                  "x": [
                    -0.0428442358222125
                  ],
                  "y": [
                    3.087858243644154
                  ],
                  "z": [
                    -0.8777312489792907
                  ]
                },
                {
                  "hovertemplate": "Country.Name=United Kingdom<br>PC1=%{x}<br>PC2=%{y}<br>PC3=%{z}<extra></extra>",
                  "legendgroup": "United Kingdom",
                  "marker": {
                    "color": "#FF97FF",
                    "opacity": 0.5,
                    "symbol": "x"
                  },
                  "mode": "markers",
                  "name": "United Kingdom",
                  "scene": "scene",
                  "showlegend": true,
                  "type": "scatter3d",
                  "x": [
                    4.251630481384991
                  ],
                  "y": [
                    -0.7003785938817026
                  ],
                  "z": [
                    1.3392815497396928
                  ]
                },
                {
                  "hovertemplate": "Country.Name=Georgia<br>PC1=%{x}<br>PC2=%{y}<br>PC3=%{z}<extra></extra>",
                  "legendgroup": "Georgia",
                  "marker": {
                    "color": "#FECB52",
                    "opacity": 0.5,
                    "symbol": "cross"
                  },
                  "mode": "markers",
                  "name": "Georgia",
                  "scene": "scene",
                  "showlegend": true,
                  "type": "scatter3d",
                  "x": [
                    0.40876808261503295
                  ],
                  "y": [
                    -0.747992736575878
                  ],
                  "z": [
                    -1.2006771328636976
                  ]
                },
                {
                  "hovertemplate": "Country.Name=Ghana<br>PC1=%{x}<br>PC2=%{y}<br>PC3=%{z}<extra></extra>",
                  "legendgroup": "Ghana",
                  "marker": {
                    "color": "#636efa",
                    "opacity": 0.5,
                    "symbol": "circle"
                  },
                  "mode": "markers",
                  "name": "Ghana",
                  "scene": "scene",
                  "showlegend": true,
                  "type": "scatter3d",
                  "x": [
                    -2.941484880639961
                  ],
                  "y": [
                    0.6315298637843628
                  ],
                  "z": [
                    0.768563843739552
                  ]
                },
                {
                  "hovertemplate": "Country.Name=Gibraltar<br>PC1=%{x}<br>PC2=%{y}<br>PC3=%{z}<extra></extra>",
                  "legendgroup": "Gibraltar",
                  "marker": {
                    "color": "#EF553B",
                    "opacity": 0.5,
                    "symbol": "diamond"
                  },
                  "mode": "markers",
                  "name": "Gibraltar",
                  "scene": "scene",
                  "showlegend": true,
                  "type": "scatter3d",
                  "x": [
                    0.7977666111653107
                  ],
                  "y": [
                    -0.01634694836069343
                  ],
                  "z": [
                    -0.4699330666260288
                  ]
                },
                {
                  "hovertemplate": "Country.Name=Guinea<br>PC1=%{x}<br>PC2=%{y}<br>PC3=%{z}<extra></extra>",
                  "legendgroup": "Guinea",
                  "marker": {
                    "color": "#00cc96",
                    "opacity": 0.5,
                    "symbol": "square"
                  },
                  "mode": "markers",
                  "name": "Guinea",
                  "scene": "scene",
                  "showlegend": true,
                  "type": "scatter3d",
                  "x": [
                    -5.443598734513343
                  ],
                  "y": [
                    -0.6817706625388371
                  ],
                  "z": [
                    -0.059325120311762486
                  ]
                },
                {
                  "hovertemplate": "Country.Name=Gambia, The<br>PC1=%{x}<br>PC2=%{y}<br>PC3=%{z}<extra></extra>",
                  "legendgroup": "Gambia, The",
                  "marker": {
                    "color": "#ab63fa",
                    "opacity": 0.5,
                    "symbol": "x"
                  },
                  "mode": "markers",
                  "name": "Gambia, The",
                  "scene": "scene",
                  "showlegend": true,
                  "type": "scatter3d",
                  "x": [
                    -3.8084894508367166
                  ],
                  "y": [
                    -0.9109064144892677
                  ],
                  "z": [
                    0.35955937307216546
                  ]
                },
                {
                  "hovertemplate": "Country.Name=Guinea-Bissau<br>PC1=%{x}<br>PC2=%{y}<br>PC3=%{z}<extra></extra>",
                  "legendgroup": "Guinea-Bissau",
                  "marker": {
                    "color": "#FFA15A",
                    "opacity": 0.5,
                    "symbol": "cross"
                  },
                  "mode": "markers",
                  "name": "Guinea-Bissau",
                  "scene": "scene",
                  "showlegend": true,
                  "type": "scatter3d",
                  "x": [
                    -6.241843897544142
                  ],
                  "y": [
                    -1.9999105872961638
                  ],
                  "z": [
                    0.12051452621562386
                  ]
                },
                {
                  "hovertemplate": "Country.Name=Equatorial Guinea<br>PC1=%{x}<br>PC2=%{y}<br>PC3=%{z}<extra></extra>",
                  "legendgroup": "Equatorial Guinea",
                  "marker": {
                    "color": "#19d3f3",
                    "opacity": 0.5,
                    "symbol": "circle"
                  },
                  "mode": "markers",
                  "name": "Equatorial Guinea",
                  "scene": "scene",
                  "showlegend": true,
                  "type": "scatter3d",
                  "x": [
                    -4.257709165237011
                  ],
                  "y": [
                    1.2180536036571719
                  ],
                  "z": [
                    -1.2952296508302708
                  ]
                },
                {
                  "hovertemplate": "Country.Name=Greece<br>PC1=%{x}<br>PC2=%{y}<br>PC3=%{z}<extra></extra>",
                  "legendgroup": "Greece",
                  "marker": {
                    "color": "#FF6692",
                    "opacity": 0.5,
                    "symbol": "diamond"
                  },
                  "mode": "markers",
                  "name": "Greece",
                  "scene": "scene",
                  "showlegend": true,
                  "type": "scatter3d",
                  "x": [
                    1.7917834985439478
                  ],
                  "y": [
                    -1.8014987137581815
                  ],
                  "z": [
                    -2.6350859686850105
                  ]
                },
                {
                  "hovertemplate": "Country.Name=Grenada<br>PC1=%{x}<br>PC2=%{y}<br>PC3=%{z}<extra></extra>",
                  "legendgroup": "Grenada",
                  "marker": {
                    "color": "#B6E880",
                    "opacity": 0.5,
                    "symbol": "square"
                  },
                  "mode": "markers",
                  "name": "Grenada",
                  "scene": "scene",
                  "showlegend": true,
                  "type": "scatter3d",
                  "x": [
                    0.5503647606230313
                  ],
                  "y": [
                    -1.7781327094591397
                  ],
                  "z": [
                    1.0625299100852552
                  ]
                },
                {
                  "hovertemplate": "Country.Name=Greenland<br>PC1=%{x}<br>PC2=%{y}<br>PC3=%{z}<extra></extra>",
                  "legendgroup": "Greenland",
                  "marker": {
                    "color": "#FF97FF",
                    "opacity": 0.5,
                    "symbol": "x"
                  },
                  "mode": "markers",
                  "name": "Greenland",
                  "scene": "scene",
                  "showlegend": true,
                  "type": "scatter3d",
                  "x": [
                    1.323863079953993
                  ],
                  "y": [
                    -0.937323252699903
                  ],
                  "z": [
                    0.18878812984156598
                  ]
                },
                {
                  "hovertemplate": "Country.Name=Guatemala<br>PC1=%{x}<br>PC2=%{y}<br>PC3=%{z}<extra></extra>",
                  "legendgroup": "Guatemala",
                  "marker": {
                    "color": "#FECB52",
                    "opacity": 0.5,
                    "symbol": "cross"
                  },
                  "mode": "markers",
                  "name": "Guatemala",
                  "scene": "scene",
                  "showlegend": true,
                  "type": "scatter3d",
                  "x": [
                    -1.59049592642486
                  ],
                  "y": [
                    -1.4655861324894648
                  ],
                  "z": [
                    -1.1235127218463912
                  ]
                },
                {
                  "hovertemplate": "Country.Name=Guam<br>PC1=%{x}<br>PC2=%{y}<br>PC3=%{z}<extra></extra>",
                  "legendgroup": "Guam",
                  "marker": {
                    "color": "#636efa",
                    "opacity": 0.5,
                    "symbol": "circle"
                  },
                  "mode": "markers",
                  "name": "Guam",
                  "scene": "scene",
                  "showlegend": true,
                  "type": "scatter3d",
                  "x": [
                    1.8698730554645429
                  ],
                  "y": [
                    -0.09140840241527473
                  ],
                  "z": [
                    -0.09939807316515213
                  ]
                },
                {
                  "hovertemplate": "Country.Name=Guyana<br>PC1=%{x}<br>PC2=%{y}<br>PC3=%{z}<extra></extra>",
                  "legendgroup": "Guyana",
                  "marker": {
                    "color": "#EF553B",
                    "opacity": 0.5,
                    "symbol": "diamond"
                  },
                  "mode": "markers",
                  "name": "Guyana",
                  "scene": "scene",
                  "showlegend": true,
                  "type": "scatter3d",
                  "x": [
                    -1.158224374834496
                  ],
                  "y": [
                    -0.4474896831283151
                  ],
                  "z": [
                    0.30725960886823755
                  ]
                },
                {
                  "hovertemplate": "Country.Name=Hong Kong SAR, China<br>PC1=%{x}<br>PC2=%{y}<br>PC3=%{z}<extra></extra>",
                  "legendgroup": "Hong Kong SAR, China",
                  "marker": {
                    "color": "#00cc96",
                    "opacity": 0.5,
                    "symbol": "square"
                  },
                  "mode": "markers",
                  "name": "Hong Kong SAR, China",
                  "scene": "scene",
                  "showlegend": true,
                  "type": "scatter3d",
                  "x": [
                    6.471980114857862
                  ],
                  "y": [
                    -1.1329884116760913
                  ],
                  "z": [
                    0.2287138698530217
                  ]
                },
                {
                  "hovertemplate": "Country.Name=Honduras<br>PC1=%{x}<br>PC2=%{y}<br>PC3=%{z}<extra></extra>",
                  "legendgroup": "Honduras",
                  "marker": {
                    "color": "#ab63fa",
                    "opacity": 0.5,
                    "symbol": "x"
                  },
                  "mode": "markers",
                  "name": "Honduras",
                  "scene": "scene",
                  "showlegend": true,
                  "type": "scatter3d",
                  "x": [
                    -1.638020503028175
                  ],
                  "y": [
                    -0.13527637837444023
                  ],
                  "z": [
                    -0.15070922346842877
                  ]
                },
                {
                  "hovertemplate": "Country.Name=Croatia<br>PC1=%{x}<br>PC2=%{y}<br>PC3=%{z}<extra></extra>",
                  "legendgroup": "Croatia",
                  "marker": {
                    "color": "#FFA15A",
                    "opacity": 0.5,
                    "symbol": "cross"
                  },
                  "mode": "markers",
                  "name": "Croatia",
                  "scene": "scene",
                  "showlegend": true,
                  "type": "scatter3d",
                  "x": [
                    2.3343814242528773
                  ],
                  "y": [
                    -0.8571902743022634
                  ],
                  "z": [
                    -0.993950793115187
                  ]
                },
                {
                  "hovertemplate": "Country.Name=Haiti<br>PC1=%{x}<br>PC2=%{y}<br>PC3=%{z}<extra></extra>",
                  "legendgroup": "Haiti",
                  "marker": {
                    "color": "#19d3f3",
                    "opacity": 0.5,
                    "symbol": "circle"
                  },
                  "mode": "markers",
                  "name": "Haiti",
                  "scene": "scene",
                  "showlegend": true,
                  "type": "scatter3d",
                  "x": [
                    -4.33651202994716
                  ],
                  "y": [
                    -2.0074428838176566
                  ],
                  "z": [
                    -1.03483590034554
                  ]
                },
                {
                  "hovertemplate": "Country.Name=Hungary<br>PC1=%{x}<br>PC2=%{y}<br>PC3=%{z}<extra></extra>",
                  "legendgroup": "Hungary",
                  "marker": {
                    "color": "#FF6692",
                    "opacity": 0.5,
                    "symbol": "diamond"
                  },
                  "mode": "markers",
                  "name": "Hungary",
                  "scene": "scene",
                  "showlegend": true,
                  "type": "scatter3d",
                  "x": [
                    2.550091301655717
                  ],
                  "y": [
                    0.472764564190717
                  ],
                  "z": [
                    -1.4171447628899156
                  ]
                },
                {
                  "hovertemplate": "Country.Name=Indonesia<br>PC1=%{x}<br>PC2=%{y}<br>PC3=%{z}<extra></extra>",
                  "legendgroup": "Indonesia",
                  "marker": {
                    "color": "#B6E880",
                    "opacity": 0.5,
                    "symbol": "square"
                  },
                  "mode": "markers",
                  "name": "Indonesia",
                  "scene": "scene",
                  "showlegend": true,
                  "type": "scatter3d",
                  "x": [
                    -1.44721237960351
                  ],
                  "y": [
                    1.5317716796589251
                  ],
                  "z": [
                    0.1688431530414927
                  ]
                },
                {
                  "hovertemplate": "Country.Name=Isle of Man<br>PC1=%{x}<br>PC2=%{y}<br>PC3=%{z}<extra></extra>",
                  "legendgroup": "Isle of Man",
                  "marker": {
                    "color": "#FF97FF",
                    "opacity": 0.5,
                    "symbol": "x"
                  },
                  "mode": "markers",
                  "name": "Isle of Man",
                  "scene": "scene",
                  "showlegend": true,
                  "type": "scatter3d",
                  "x": [
                    1.2137714065036271
                  ],
                  "y": [
                    -1.7284457054124205
                  ],
                  "z": [
                    -0.33504370426920893
                  ]
                },
                {
                  "hovertemplate": "Country.Name=India<br>PC1=%{x}<br>PC2=%{y}<br>PC3=%{z}<extra></extra>",
                  "legendgroup": "India",
                  "marker": {
                    "color": "#FECB52",
                    "opacity": 0.5,
                    "symbol": "cross"
                  },
                  "mode": "markers",
                  "name": "India",
                  "scene": "scene",
                  "showlegend": true,
                  "type": "scatter3d",
                  "x": [
                    -3.136632494567426
                  ],
                  "y": [
                    0.8084153634139115
                  ],
                  "z": [
                    0.17442286742671745
                  ]
                },
                {
                  "hovertemplate": "Country.Name=Ireland<br>PC1=%{x}<br>PC2=%{y}<br>PC3=%{z}<extra></extra>",
                  "legendgroup": "Ireland",
                  "marker": {
                    "color": "#636efa",
                    "opacity": 0.5,
                    "symbol": "circle"
                  },
                  "mode": "markers",
                  "name": "Ireland",
                  "scene": "scene",
                  "showlegend": true,
                  "type": "scatter3d",
                  "x": [
                    4.858350856055168
                  ],
                  "y": [
                    0.7207318270140918
                  ],
                  "z": [
                    0.8944663948582889
                  ]
                },
                {
                  "hovertemplate": "Country.Name=Iran, Islamic Rep.<br>PC1=%{x}<br>PC2=%{y}<br>PC3=%{z}<extra></extra>",
                  "legendgroup": "Iran, Islamic Rep.",
                  "marker": {
                    "color": "#EF553B",
                    "opacity": 0.5,
                    "symbol": "diamond"
                  },
                  "mode": "markers",
                  "name": "Iran, Islamic Rep.",
                  "scene": "scene",
                  "showlegend": true,
                  "type": "scatter3d",
                  "x": [
                    -0.3988926694247072
                  ],
                  "y": [
                    2.1631063994479627
                  ],
                  "z": [
                    -0.9917064836892697
                  ]
                },
                {
                  "hovertemplate": "Country.Name=Iraq<br>PC1=%{x}<br>PC2=%{y}<br>PC3=%{z}<extra></extra>",
                  "legendgroup": "Iraq",
                  "marker": {
                    "color": "#00cc96",
                    "opacity": 0.5,
                    "symbol": "square"
                  },
                  "mode": "markers",
                  "name": "Iraq",
                  "scene": "scene",
                  "showlegend": true,
                  "type": "scatter3d",
                  "x": [
                    -1.467225348060286
                  ],
                  "y": [
                    3.1699387331383795
                  ],
                  "z": [
                    -2.7732742614494192
                  ]
                },
                {
                  "hovertemplate": "Country.Name=Iceland<br>PC1=%{x}<br>PC2=%{y}<br>PC3=%{z}<extra></extra>",
                  "legendgroup": "Iceland",
                  "marker": {
                    "color": "#ab63fa",
                    "opacity": 0.5,
                    "symbol": "x"
                  },
                  "mode": "markers",
                  "name": "Iceland",
                  "scene": "scene",
                  "showlegend": true,
                  "type": "scatter3d",
                  "x": [
                    4.321393847659299
                  ],
                  "y": [
                    -1.7970684045953647
                  ],
                  "z": [
                    3.3513028738734567
                  ]
                },
                {
                  "hovertemplate": "Country.Name=Israel<br>PC1=%{x}<br>PC2=%{y}<br>PC3=%{z}<extra></extra>",
                  "legendgroup": "Israel",
                  "marker": {
                    "color": "#FFA15A",
                    "opacity": 0.5,
                    "symbol": "cross"
                  },
                  "mode": "markers",
                  "name": "Israel",
                  "scene": "scene",
                  "showlegend": true,
                  "type": "scatter3d",
                  "x": [
                    3.479568567277193
                  ],
                  "y": [
                    0.7100516674126288
                  ],
                  "z": [
                    -0.8735890534889009
                  ]
                },
                {
                  "hovertemplate": "Country.Name=Italy<br>PC1=%{x}<br>PC2=%{y}<br>PC3=%{z}<extra></extra>",
                  "legendgroup": "Italy",
                  "marker": {
                    "color": "#19d3f3",
                    "opacity": 0.5,
                    "symbol": "circle"
                  },
                  "mode": "markers",
                  "name": "Italy",
                  "scene": "scene",
                  "showlegend": true,
                  "type": "scatter3d",
                  "x": [
                    2.736135239933913
                  ],
                  "y": [
                    -1.4580393989498635
                  ],
                  "z": [
                    0.3037578950238287
                  ]
                },
                {
                  "hovertemplate": "Country.Name=Jamaica<br>PC1=%{x}<br>PC2=%{y}<br>PC3=%{z}<extra></extra>",
                  "legendgroup": "Jamaica",
                  "marker": {
                    "color": "#FF6692",
                    "opacity": 0.5,
                    "symbol": "diamond"
                  },
                  "mode": "markers",
                  "name": "Jamaica",
                  "scene": "scene",
                  "showlegend": true,
                  "type": "scatter3d",
                  "x": [
                    -0.023615637674679685
                  ],
                  "y": [
                    -1.0262523715266
                  ],
                  "z": [
                    -0.554565156062058
                  ]
                },
                {
                  "hovertemplate": "Country.Name=Jordan<br>PC1=%{x}<br>PC2=%{y}<br>PC3=%{z}<extra></extra>",
                  "legendgroup": "Jordan",
                  "marker": {
                    "color": "#B6E880",
                    "opacity": 0.5,
                    "symbol": "square"
                  },
                  "mode": "markers",
                  "name": "Jordan",
                  "scene": "scene",
                  "showlegend": true,
                  "type": "scatter3d",
                  "x": [
                    1.1260650628604876
                  ],
                  "y": [
                    1.3854869859171923
                  ],
                  "z": [
                    -1.026396949565879
                  ]
                },
                {
                  "hovertemplate": "Country.Name=Japan<br>PC1=%{x}<br>PC2=%{y}<br>PC3=%{z}<extra></extra>",
                  "legendgroup": "Japan",
                  "marker": {
                    "color": "#FF97FF",
                    "opacity": 0.5,
                    "symbol": "x"
                  },
                  "mode": "markers",
                  "name": "Japan",
                  "scene": "scene",
                  "showlegend": true,
                  "type": "scatter3d",
                  "x": [
                    4.093623717511398
                  ],
                  "y": [
                    0.35501735451718935
                  ],
                  "z": [
                    -0.07802614071829762
                  ]
                },
                {
                  "hovertemplate": "Country.Name=Kazakhstan<br>PC1=%{x}<br>PC2=%{y}<br>PC3=%{z}<extra></extra>",
                  "legendgroup": "Kazakhstan",
                  "marker": {
                    "color": "#FECB52",
                    "opacity": 0.5,
                    "symbol": "cross"
                  },
                  "mode": "markers",
                  "name": "Kazakhstan",
                  "scene": "scene",
                  "showlegend": true,
                  "type": "scatter3d",
                  "x": [
                    1.0397549893516884
                  ],
                  "y": [
                    1.260756828078299
                  ],
                  "z": [
                    -0.5497510438210972
                  ]
                },
                {
                  "hovertemplate": "Country.Name=Kenya<br>PC1=%{x}<br>PC2=%{y}<br>PC3=%{z}<extra></extra>",
                  "legendgroup": "Kenya",
                  "marker": {
                    "color": "#636efa",
                    "opacity": 0.5,
                    "symbol": "circle"
                  },
                  "mode": "markers",
                  "name": "Kenya",
                  "scene": "scene",
                  "showlegend": true,
                  "type": "scatter3d",
                  "x": [
                    -3.6641087755474713
                  ],
                  "y": [
                    -1.4398997039951158
                  ],
                  "z": [
                    1.128432701818161
                  ]
                },
                {
                  "hovertemplate": "Country.Name=Kyrgyz Republic<br>PC1=%{x}<br>PC2=%{y}<br>PC3=%{z}<extra></extra>",
                  "legendgroup": "Kyrgyz Republic",
                  "marker": {
                    "color": "#EF553B",
                    "opacity": 0.5,
                    "symbol": "diamond"
                  },
                  "mode": "markers",
                  "name": "Kyrgyz Republic",
                  "scene": "scene",
                  "showlegend": true,
                  "type": "scatter3d",
                  "x": [
                    -1.4625996968882105
                  ],
                  "y": [
                    0.5995715293615232
                  ],
                  "z": [
                    -0.8057935504773277
                  ]
                },
                {
                  "hovertemplate": "Country.Name=Cambodia<br>PC1=%{x}<br>PC2=%{y}<br>PC3=%{z}<extra></extra>",
                  "legendgroup": "Cambodia",
                  "marker": {
                    "color": "#00cc96",
                    "opacity": 0.5,
                    "symbol": "square"
                  },
                  "mode": "markers",
                  "name": "Cambodia",
                  "scene": "scene",
                  "showlegend": true,
                  "type": "scatter3d",
                  "x": [
                    -3.098113291102861
                  ],
                  "y": [
                    0.47144142947053314
                  ],
                  "z": [
                    -0.38884462559849786
                  ]
                },
                {
                  "hovertemplate": "Country.Name=Kiribati<br>PC1=%{x}<br>PC2=%{y}<br>PC3=%{z}<extra></extra>",
                  "legendgroup": "Kiribati",
                  "marker": {
                    "color": "#ab63fa",
                    "opacity": 0.5,
                    "symbol": "x"
                  },
                  "mode": "markers",
                  "name": "Kiribati",
                  "scene": "scene",
                  "showlegend": true,
                  "type": "scatter3d",
                  "x": [
                    -1.4975781306186777
                  ],
                  "y": [
                    1.8724060845674129
                  ],
                  "z": [
                    2.229659035315513
                  ]
                },
                {
                  "hovertemplate": "Country.Name=St. Kitts and Nevis<br>PC1=%{x}<br>PC2=%{y}<br>PC3=%{z}<extra></extra>",
                  "legendgroup": "St. Kitts and Nevis",
                  "marker": {
                    "color": "#FFA15A",
                    "opacity": 0.5,
                    "symbol": "cross"
                  },
                  "mode": "markers",
                  "name": "St. Kitts and Nevis",
                  "scene": "scene",
                  "showlegend": true,
                  "type": "scatter3d",
                  "x": [
                    1.3105404627516328
                  ],
                  "y": [
                    -0.23579315513713212
                  ],
                  "z": [
                    -1.1688769952130043
                  ]
                },
                {
                  "hovertemplate": "Country.Name=Korea, Rep.<br>PC1=%{x}<br>PC2=%{y}<br>PC3=%{z}<extra></extra>",
                  "legendgroup": "Korea, Rep.",
                  "marker": {
                    "color": "#19d3f3",
                    "opacity": 0.5,
                    "symbol": "circle"
                  },
                  "mode": "markers",
                  "name": "Korea, Rep.",
                  "scene": "scene",
                  "showlegend": true,
                  "type": "scatter3d",
                  "x": [
                    2.837647289523104
                  ],
                  "y": [
                    2.2376646988825404
                  ],
                  "z": [
                    -0.33088713014553695
                  ]
                },
                {
                  "hovertemplate": "Country.Name=Kuwait<br>PC1=%{x}<br>PC2=%{y}<br>PC3=%{z}<extra></extra>",
                  "legendgroup": "Kuwait",
                  "marker": {
                    "color": "#FF6692",
                    "opacity": 0.5,
                    "symbol": "diamond"
                  },
                  "mode": "markers",
                  "name": "Kuwait",
                  "scene": "scene",
                  "showlegend": true,
                  "type": "scatter3d",
                  "x": [
                    3.4422659816406105
                  ],
                  "y": [
                    5.3163186070186566
                  ],
                  "z": [
                    -1.3065415244789553
                  ]
                },
                {
                  "hovertemplate": "Country.Name=Lao PDR<br>PC1=%{x}<br>PC2=%{y}<br>PC3=%{z}<extra></extra>",
                  "legendgroup": "Lao PDR",
                  "marker": {
                    "color": "#B6E880",
                    "opacity": 0.5,
                    "symbol": "square"
                  },
                  "mode": "markers",
                  "name": "Lao PDR",
                  "scene": "scene",
                  "showlegend": true,
                  "type": "scatter3d",
                  "x": [
                    -3.5288521458428503
                  ],
                  "y": [
                    0.578541616047559
                  ],
                  "z": [
                    0.648908994575172
                  ]
                },
                {
                  "hovertemplate": "Country.Name=Lebanon<br>PC1=%{x}<br>PC2=%{y}<br>PC3=%{z}<extra></extra>",
                  "legendgroup": "Lebanon",
                  "marker": {
                    "color": "#FF97FF",
                    "opacity": 0.5,
                    "symbol": "x"
                  },
                  "mode": "markers",
                  "name": "Lebanon",
                  "scene": "scene",
                  "showlegend": true,
                  "type": "scatter3d",
                  "x": [
                    0.16447898334085406
                  ],
                  "y": [
                    -0.632528064985481
                  ],
                  "z": [
                    -2.5371550184903846
                  ]
                },
                {
                  "hovertemplate": "Country.Name=Liberia<br>PC1=%{x}<br>PC2=%{y}<br>PC3=%{z}<extra></extra>",
                  "legendgroup": "Liberia",
                  "marker": {
                    "color": "#FECB52",
                    "opacity": 0.5,
                    "symbol": "cross"
                  },
                  "mode": "markers",
                  "name": "Liberia",
                  "scene": "scene",
                  "showlegend": true,
                  "type": "scatter3d",
                  "x": [
                    -4.718132113084079
                  ],
                  "y": [
                    0.05779753363195905
                  ],
                  "z": [
                    1.2372178645983622
                  ]
                },
                {
                  "hovertemplate": "Country.Name=Libya<br>PC1=%{x}<br>PC2=%{y}<br>PC3=%{z}<extra></extra>",
                  "legendgroup": "Libya",
                  "marker": {
                    "color": "#636efa",
                    "opacity": 0.5,
                    "symbol": "circle"
                  },
                  "mode": "markers",
                  "name": "Libya",
                  "scene": "scene",
                  "showlegend": true,
                  "type": "scatter3d",
                  "x": [
                    -0.20673970274580297
                  ],
                  "y": [
                    -0.16841231889552485
                  ],
                  "z": [
                    -2.2037749284894734
                  ]
                },
                {
                  "hovertemplate": "Country.Name=St. Lucia<br>PC1=%{x}<br>PC2=%{y}<br>PC3=%{z}<extra></extra>",
                  "legendgroup": "St. Lucia",
                  "marker": {
                    "color": "#EF553B",
                    "opacity": 0.5,
                    "symbol": "diamond"
                  },
                  "mode": "markers",
                  "name": "St. Lucia",
                  "scene": "scene",
                  "showlegend": true,
                  "type": "scatter3d",
                  "x": [
                    1.1318613101617903
                  ],
                  "y": [
                    -1.3290890401401552
                  ],
                  "z": [
                    -1.1875334027818822
                  ]
                },
                {
                  "hovertemplate": "Country.Name=Liechtenstein<br>PC1=%{x}<br>PC2=%{y}<br>PC3=%{z}<extra></extra>",
                  "legendgroup": "Liechtenstein",
                  "marker": {
                    "color": "#00cc96",
                    "opacity": 0.5,
                    "symbol": "square"
                  },
                  "mode": "markers",
                  "name": "Liechtenstein",
                  "scene": "scene",
                  "showlegend": true,
                  "type": "scatter3d",
                  "x": [
                    2.1092766991789023
                  ],
                  "y": [
                    -1.216891553942997
                  ],
                  "z": [
                    2.7449963900450878
                  ]
                },
                {
                  "hovertemplate": "Country.Name=Sri Lanka<br>PC1=%{x}<br>PC2=%{y}<br>PC3=%{z}<extra></extra>",
                  "legendgroup": "Sri Lanka",
                  "marker": {
                    "color": "#ab63fa",
                    "opacity": 0.5,
                    "symbol": "x"
                  },
                  "mode": "markers",
                  "name": "Sri Lanka",
                  "scene": "scene",
                  "showlegend": true,
                  "type": "scatter3d",
                  "x": [
                    -1.5799902133415065
                  ],
                  "y": [
                    1.278894409488046
                  ],
                  "z": [
                    -0.7188656687013744
                  ]
                },
                {
                  "hovertemplate": "Country.Name=Lesotho<br>PC1=%{x}<br>PC2=%{y}<br>PC3=%{z}<extra></extra>",
                  "legendgroup": "Lesotho",
                  "marker": {
                    "color": "#FFA15A",
                    "opacity": 0.5,
                    "symbol": "cross"
                  },
                  "mode": "markers",
                  "name": "Lesotho",
                  "scene": "scene",
                  "showlegend": true,
                  "type": "scatter3d",
                  "x": [
                    -2.014388195584178
                  ],
                  "y": [
                    0.4024321205602243
                  ],
                  "z": [
                    0.8053452234113206
                  ]
                },
                {
                  "hovertemplate": "Country.Name=Lithuania<br>PC1=%{x}<br>PC2=%{y}<br>PC3=%{z}<extra></extra>",
                  "legendgroup": "Lithuania",
                  "marker": {
                    "color": "#19d3f3",
                    "opacity": 0.5,
                    "symbol": "circle"
                  },
                  "mode": "markers",
                  "name": "Lithuania",
                  "scene": "scene",
                  "showlegend": true,
                  "type": "scatter3d",
                  "x": [
                    3.2817347123056666
                  ],
                  "y": [
                    -0.600248141124248
                  ],
                  "z": [
                    -0.48864899491168556
                  ]
                },
                {
                  "hovertemplate": "Country.Name=Luxembourg<br>PC1=%{x}<br>PC2=%{y}<br>PC3=%{z}<extra></extra>",
                  "legendgroup": "Luxembourg",
                  "marker": {
                    "color": "#FF6692",
                    "opacity": 0.5,
                    "symbol": "diamond"
                  },
                  "mode": "markers",
                  "name": "Luxembourg",
                  "scene": "scene",
                  "showlegend": true,
                  "type": "scatter3d",
                  "x": [
                    7.590613007974648
                  ],
                  "y": [
                    -1.2172449850488525
                  ],
                  "z": [
                    1.6074721874803393
                  ]
                },
                {
                  "hovertemplate": "Country.Name=Latvia<br>PC1=%{x}<br>PC2=%{y}<br>PC3=%{z}<extra></extra>",
                  "legendgroup": "Latvia",
                  "marker": {
                    "color": "#B6E880",
                    "opacity": 0.5,
                    "symbol": "square"
                  },
                  "mode": "markers",
                  "name": "Latvia",
                  "scene": "scene",
                  "showlegend": true,
                  "type": "scatter3d",
                  "x": [
                    3.0453276535002822
                  ],
                  "y": [
                    -0.7886701409525533
                  ],
                  "z": [
                    -0.5545423095378894
                  ]
                },
                {
                  "hovertemplate": "Country.Name=Macao SAR, China<br>PC1=%{x}<br>PC2=%{y}<br>PC3=%{z}<extra></extra>",
                  "legendgroup": "Macao SAR, China",
                  "marker": {
                    "color": "#FF97FF",
                    "opacity": 0.5,
                    "symbol": "x"
                  },
                  "mode": "markers",
                  "name": "Macao SAR, China",
                  "scene": "scene",
                  "showlegend": true,
                  "type": "scatter3d",
                  "x": [
                    6.83342661065337
                  ],
                  "y": [
                    1.1184902121895794
                  ],
                  "z": [
                    1.6017075373906815
                  ]
                },
                {
                  "hovertemplate": "Country.Name=St. Martin (French part)<br>PC1=%{x}<br>PC2=%{y}<br>PC3=%{z}<extra></extra>",
                  "legendgroup": "St. Martin (French part)",
                  "marker": {
                    "color": "#FECB52",
                    "opacity": 0.5,
                    "symbol": "cross"
                  },
                  "mode": "markers",
                  "name": "St. Martin (French part)",
                  "scene": "scene",
                  "showlegend": true,
                  "type": "scatter3d",
                  "x": [
                    0.1560286408961607
                  ],
                  "y": [
                    0.02976592857368436
                  ],
                  "z": [
                    -0.13361789599268825
                  ]
                },
                {
                  "hovertemplate": "Country.Name=Morocco<br>PC1=%{x}<br>PC2=%{y}<br>PC3=%{z}<extra></extra>",
                  "legendgroup": "Morocco",
                  "marker": {
                    "color": "#636efa",
                    "opacity": 0.5,
                    "symbol": "circle"
                  },
                  "mode": "markers",
                  "name": "Morocco",
                  "scene": "scene",
                  "showlegend": true,
                  "type": "scatter3d",
                  "x": [
                    -0.5246713890460779
                  ],
                  "y": [
                    0.8580372319314175
                  ],
                  "z": [
                    -0.8500487951647123
                  ]
                },
                {
                  "hovertemplate": "Country.Name=Monaco<br>PC1=%{x}<br>PC2=%{y}<br>PC3=%{z}<extra></extra>",
                  "legendgroup": "Monaco",
                  "marker": {
                    "color": "#EF553B",
                    "opacity": 0.5,
                    "symbol": "diamond"
                  },
                  "mode": "markers",
                  "name": "Monaco",
                  "scene": "scene",
                  "showlegend": true,
                  "type": "scatter3d",
                  "x": [
                    1.7934792531266264
                  ],
                  "y": [
                    -0.7121927762541092
                  ],
                  "z": [
                    0.005525850604042983
                  ]
                },
                {
                  "hovertemplate": "Country.Name=Moldova<br>PC1=%{x}<br>PC2=%{y}<br>PC3=%{z}<extra></extra>",
                  "legendgroup": "Moldova",
                  "marker": {
                    "color": "#00cc96",
                    "opacity": 0.5,
                    "symbol": "square"
                  },
                  "mode": "markers",
                  "name": "Moldova",
                  "scene": "scene",
                  "showlegend": true,
                  "type": "scatter3d",
                  "x": [
                    -0.26642645460689157
                  ],
                  "y": [
                    -0.9759150426317591
                  ],
                  "z": [
                    -0.6265706759212271
                  ]
                },
                {
                  "hovertemplate": "Country.Name=Madagascar<br>PC1=%{x}<br>PC2=%{y}<br>PC3=%{z}<extra></extra>",
                  "legendgroup": "Madagascar",
                  "marker": {
                    "color": "#ab63fa",
                    "opacity": 0.5,
                    "symbol": "x"
                  },
                  "mode": "markers",
                  "name": "Madagascar",
                  "scene": "scene",
                  "showlegend": true,
                  "type": "scatter3d",
                  "x": [
                    -5.239699261040841
                  ],
                  "y": [
                    -1.4419545615749085
                  ],
                  "z": [
                    1.3113308282189757
                  ]
                },
                {
                  "hovertemplate": "Country.Name=Maldives<br>PC1=%{x}<br>PC2=%{y}<br>PC3=%{z}<extra></extra>",
                  "legendgroup": "Maldives",
                  "marker": {
                    "color": "#FFA15A",
                    "opacity": 0.5,
                    "symbol": "cross"
                  },
                  "mode": "markers",
                  "name": "Maldives",
                  "scene": "scene",
                  "showlegend": true,
                  "type": "scatter3d",
                  "x": [
                    1.204691131191856
                  ],
                  "y": [
                    0.6371215375521371
                  ],
                  "z": [
                    -0.43807190271372376
                  ]
                },
                {
                  "hovertemplate": "Country.Name=Mexico<br>PC1=%{x}<br>PC2=%{y}<br>PC3=%{z}<extra></extra>",
                  "legendgroup": "Mexico",
                  "marker": {
                    "color": "#19d3f3",
                    "opacity": 0.5,
                    "symbol": "circle"
                  },
                  "mode": "markers",
                  "name": "Mexico",
                  "scene": "scene",
                  "showlegend": true,
                  "type": "scatter3d",
                  "x": [
                    0.7457500173062419
                  ],
                  "y": [
                    -0.11748479430444203
                  ],
                  "z": [
                    -0.5250264928129542
                  ]
                },
                {
                  "hovertemplate": "Country.Name=Marshall Islands<br>PC1=%{x}<br>PC2=%{y}<br>PC3=%{z}<extra></extra>",
                  "legendgroup": "Marshall Islands",
                  "marker": {
                    "color": "#FF6692",
                    "opacity": 0.5,
                    "symbol": "diamond"
                  },
                  "mode": "markers",
                  "name": "Marshall Islands",
                  "scene": "scene",
                  "showlegend": true,
                  "type": "scatter3d",
                  "x": [
                    -0.7637496005461705
                  ],
                  "y": [
                    -1.6965227614340428
                  ],
                  "z": [
                    -1.1917045169490958
                  ]
                },
                {
                  "hovertemplate": "Country.Name=North Macedonia<br>PC1=%{x}<br>PC2=%{y}<br>PC3=%{z}<extra></extra>",
                  "legendgroup": "North Macedonia",
                  "marker": {
                    "color": "#B6E880",
                    "opacity": 0.5,
                    "symbol": "square"
                  },
                  "mode": "markers",
                  "name": "North Macedonia",
                  "scene": "scene",
                  "showlegend": true,
                  "type": "scatter3d",
                  "x": [
                    0.9411036949945917
                  ],
                  "y": [
                    -0.06819158649265464
                  ],
                  "z": [
                    -0.6716268625518118
                  ]
                },
                {
                  "hovertemplate": "Country.Name=Mali<br>PC1=%{x}<br>PC2=%{y}<br>PC3=%{z}<extra></extra>",
                  "legendgroup": "Mali",
                  "marker": {
                    "color": "#FF97FF",
                    "opacity": 0.5,
                    "symbol": "x"
                  },
                  "mode": "markers",
                  "name": "Mali",
                  "scene": "scene",
                  "showlegend": true,
                  "type": "scatter3d",
                  "x": [
                    -5.523141885021743
                  ],
                  "y": [
                    -0.6775892275719992
                  ],
                  "z": [
                    0.3046151385902712
                  ]
                },
                {
                  "hovertemplate": "Country.Name=Malta<br>PC1=%{x}<br>PC2=%{y}<br>PC3=%{z}<extra></extra>",
                  "legendgroup": "Malta",
                  "marker": {
                    "color": "#FECB52",
                    "opacity": 0.5,
                    "symbol": "cross"
                  },
                  "mode": "markers",
                  "name": "Malta",
                  "scene": "scene",
                  "showlegend": true,
                  "type": "scatter3d",
                  "x": [
                    4.414244825836855
                  ],
                  "y": [
                    -0.31032790942180133
                  ],
                  "z": [
                    -0.32635988811815053
                  ]
                },
                {
                  "hovertemplate": "Country.Name=Myanmar<br>PC1=%{x}<br>PC2=%{y}<br>PC3=%{z}<extra></extra>",
                  "legendgroup": "Myanmar",
                  "marker": {
                    "color": "#636efa",
                    "opacity": 0.5,
                    "symbol": "circle"
                  },
                  "mode": "markers",
                  "name": "Myanmar",
                  "scene": "scene",
                  "showlegend": true,
                  "type": "scatter3d",
                  "x": [
                    -4.3632878206591785
                  ],
                  "y": [
                    2.3508826923994444
                  ],
                  "z": [
                    -0.39717473700534356
                  ]
                },
                {
                  "hovertemplate": "Country.Name=Montenegro<br>PC1=%{x}<br>PC2=%{y}<br>PC3=%{z}<extra></extra>",
                  "legendgroup": "Montenegro",
                  "marker": {
                    "color": "#EF553B",
                    "opacity": 0.5,
                    "symbol": "diamond"
                  },
                  "mode": "markers",
                  "name": "Montenegro",
                  "scene": "scene",
                  "showlegend": true,
                  "type": "scatter3d",
                  "x": [
                    1.4152884417225373
                  ],
                  "y": [
                    -1.3943774922536212
                  ],
                  "z": [
                    -1.4621190256051881
                  ]
                },
                {
                  "hovertemplate": "Country.Name=Mongolia<br>PC1=%{x}<br>PC2=%{y}<br>PC3=%{z}<extra></extra>",
                  "legendgroup": "Mongolia",
                  "marker": {
                    "color": "#00cc96",
                    "opacity": 0.5,
                    "symbol": "square"
                  },
                  "mode": "markers",
                  "name": "Mongolia",
                  "scene": "scene",
                  "showlegend": true,
                  "type": "scatter3d",
                  "x": [
                    -1.5052931076547795
                  ],
                  "y": [
                    0.5740869320034591
                  ],
                  "z": [
                    -0.5471725548892409
                  ]
                },
                {
                  "hovertemplate": "Country.Name=Northern Mariana Islands<br>PC1=%{x}<br>PC2=%{y}<br>PC3=%{z}<extra></extra>",
                  "legendgroup": "Northern Mariana Islands",
                  "marker": {
                    "color": "#ab63fa",
                    "opacity": 0.5,
                    "symbol": "x"
                  },
                  "mode": "markers",
                  "name": "Northern Mariana Islands",
                  "scene": "scene",
                  "showlegend": true,
                  "type": "scatter3d",
                  "x": [
                    0.883514615747785
                  ],
                  "y": [
                    -0.24199472769939992
                  ],
                  "z": [
                    -0.4082526632174777
                  ]
                },
                {
                  "hovertemplate": "Country.Name=Mozambique<br>PC1=%{x}<br>PC2=%{y}<br>PC3=%{z}<extra></extra>",
                  "legendgroup": "Mozambique",
                  "marker": {
                    "color": "#FFA15A",
                    "opacity": 0.5,
                    "symbol": "cross"
                  },
                  "mode": "markers",
                  "name": "Mozambique",
                  "scene": "scene",
                  "showlegend": true,
                  "type": "scatter3d",
                  "x": [
                    -4.549167497366075
                  ],
                  "y": [
                    -0.12569038527892692
                  ],
                  "z": [
                    3.1529751246875373
                  ]
                },
                {
                  "hovertemplate": "Country.Name=Mauritania<br>PC1=%{x}<br>PC2=%{y}<br>PC3=%{z}<extra></extra>",
                  "legendgroup": "Mauritania",
                  "marker": {
                    "color": "#19d3f3",
                    "opacity": 0.5,
                    "symbol": "circle"
                  },
                  "mode": "markers",
                  "name": "Mauritania",
                  "scene": "scene",
                  "showlegend": true,
                  "type": "scatter3d",
                  "x": [
                    -3.224045109012466
                  ],
                  "y": [
                    0.620691825989502
                  ],
                  "z": [
                    0.9872443131930375
                  ]
                },
                {
                  "hovertemplate": "Country.Name=Mauritius<br>PC1=%{x}<br>PC2=%{y}<br>PC3=%{z}<extra></extra>",
                  "legendgroup": "Mauritius",
                  "marker": {
                    "color": "#FF6692",
                    "opacity": 0.5,
                    "symbol": "diamond"
                  },
                  "mode": "markers",
                  "name": "Mauritius",
                  "scene": "scene",
                  "showlegend": true,
                  "type": "scatter3d",
                  "x": [
                    1.741849061961999
                  ],
                  "y": [
                    -1.6980621638686835
                  ],
                  "z": [
                    -1.5798758444922307
                  ]
                },
                {
                  "hovertemplate": "Country.Name=Malawi<br>PC1=%{x}<br>PC2=%{y}<br>PC3=%{z}<extra></extra>",
                  "legendgroup": "Malawi",
                  "marker": {
                    "color": "#B6E880",
                    "opacity": 0.5,
                    "symbol": "square"
                  },
                  "mode": "markers",
                  "name": "Malawi",
                  "scene": "scene",
                  "showlegend": true,
                  "type": "scatter3d",
                  "x": [
                    -4.183292512742605
                  ],
                  "y": [
                    -0.5013588478534957
                  ],
                  "z": [
                    1.588484651736749
                  ]
                },
                {
                  "hovertemplate": "Country.Name=Malaysia<br>PC1=%{x}<br>PC2=%{y}<br>PC3=%{z}<extra></extra>",
                  "legendgroup": "Malaysia",
                  "marker": {
                    "color": "#FF97FF",
                    "opacity": 0.5,
                    "symbol": "x"
                  },
                  "mode": "markers",
                  "name": "Malaysia",
                  "scene": "scene",
                  "showlegend": true,
                  "type": "scatter3d",
                  "x": [
                    1.9904296637429433
                  ],
                  "y": [
                    1.8977965396311587
                  ],
                  "z": [
                    -1.094679770600852
                  ]
                },
                {
                  "hovertemplate": "Country.Name=Namibia<br>PC1=%{x}<br>PC2=%{y}<br>PC3=%{z}<extra></extra>",
                  "legendgroup": "Namibia",
                  "marker": {
                    "color": "#FECB52",
                    "opacity": 0.5,
                    "symbol": "cross"
                  },
                  "mode": "markers",
                  "name": "Namibia",
                  "scene": "scene",
                  "showlegend": true,
                  "type": "scatter3d",
                  "x": [
                    -0.2418849263685315
                  ],
                  "y": [
                    0.4905232995323804
                  ],
                  "z": [
                    0.9794238133027242
                  ]
                },
                {
                  "hovertemplate": "Country.Name=New Caledonia<br>PC1=%{x}<br>PC2=%{y}<br>PC3=%{z}<extra></extra>",
                  "legendgroup": "New Caledonia",
                  "marker": {
                    "color": "#636efa",
                    "opacity": 0.5,
                    "symbol": "circle"
                  },
                  "mode": "markers",
                  "name": "New Caledonia",
                  "scene": "scene",
                  "showlegend": true,
                  "type": "scatter3d",
                  "x": [
                    1.3035412737763845
                  ],
                  "y": [
                    -0.034345569416907536
                  ],
                  "z": [
                    -0.49286441762343824
                  ]
                },
                {
                  "hovertemplate": "Country.Name=Niger<br>PC1=%{x}<br>PC2=%{y}<br>PC3=%{z}<extra></extra>",
                  "legendgroup": "Niger",
                  "marker": {
                    "color": "#EF553B",
                    "opacity": 0.5,
                    "symbol": "diamond"
                  },
                  "mode": "markers",
                  "name": "Niger",
                  "scene": "scene",
                  "showlegend": true,
                  "type": "scatter3d",
                  "x": [
                    -6.604887941762873
                  ],
                  "y": [
                    0.6169601193913814
                  ],
                  "z": [
                    1.5753188787503225
                  ]
                },
                {
                  "hovertemplate": "Country.Name=Nigeria<br>PC1=%{x}<br>PC2=%{y}<br>PC3=%{z}<extra></extra>",
                  "legendgroup": "Nigeria",
                  "marker": {
                    "color": "#00cc96",
                    "opacity": 0.5,
                    "symbol": "square"
                  },
                  "mode": "markers",
                  "name": "Nigeria",
                  "scene": "scene",
                  "showlegend": true,
                  "type": "scatter3d",
                  "x": [
                    -4.3414703051061885
                  ],
                  "y": [
                    -1.1974259951124009
                  ],
                  "z": [
                    -0.031217645164393015
                  ]
                },
                {
                  "hovertemplate": "Country.Name=Nicaragua<br>PC1=%{x}<br>PC2=%{y}<br>PC3=%{z}<extra></extra>",
                  "legendgroup": "Nicaragua",
                  "marker": {
                    "color": "#ab63fa",
                    "opacity": 0.5,
                    "symbol": "x"
                  },
                  "mode": "markers",
                  "name": "Nicaragua",
                  "scene": "scene",
                  "showlegend": true,
                  "type": "scatter3d",
                  "x": [
                    -1.356780370422279
                  ],
                  "y": [
                    -0.25722892757671745
                  ],
                  "z": [
                    1.8580638202602855
                  ]
                },
                {
                  "hovertemplate": "Country.Name=Netherlands<br>PC1=%{x}<br>PC2=%{y}<br>PC3=%{z}<extra></extra>",
                  "legendgroup": "Netherlands",
                  "marker": {
                    "color": "#FFA15A",
                    "opacity": 0.5,
                    "symbol": "cross"
                  },
                  "mode": "markers",
                  "name": "Netherlands",
                  "scene": "scene",
                  "showlegend": true,
                  "type": "scatter3d",
                  "x": [
                    5.164102795455773
                  ],
                  "y": [
                    -1.062610603062699
                  ],
                  "z": [
                    1.8731011481437625
                  ]
                },
                {
                  "hovertemplate": "Country.Name=Norway<br>PC1=%{x}<br>PC2=%{y}<br>PC3=%{z}<extra></extra>",
                  "legendgroup": "Norway",
                  "marker": {
                    "color": "#19d3f3",
                    "opacity": 0.5,
                    "symbol": "circle"
                  },
                  "mode": "markers",
                  "name": "Norway",
                  "scene": "scene",
                  "showlegend": true,
                  "type": "scatter3d",
                  "x": [
                    5.039804761127999
                  ],
                  "y": [
                    0.41209226780731306
                  ],
                  "z": [
                    3.3418371636461033
                  ]
                },
                {
                  "hovertemplate": "Country.Name=Nepal<br>PC1=%{x}<br>PC2=%{y}<br>PC3=%{z}<extra></extra>",
                  "legendgroup": "Nepal",
                  "marker": {
                    "color": "#FF6692",
                    "opacity": 0.5,
                    "symbol": "diamond"
                  },
                  "mode": "markers",
                  "name": "Nepal",
                  "scene": "scene",
                  "showlegend": true,
                  "type": "scatter3d",
                  "x": [
                    -3.751241075031233
                  ],
                  "y": [
                    0.15044864327845842
                  ],
                  "z": [
                    0.7909912554107297
                  ]
                },
                {
                  "hovertemplate": "Country.Name=Nauru<br>PC1=%{x}<br>PC2=%{y}<br>PC3=%{z}<extra></extra>",
                  "legendgroup": "Nauru",
                  "marker": {
                    "color": "#B6E880",
                    "opacity": 0.5,
                    "symbol": "square"
                  },
                  "mode": "markers",
                  "name": "Nauru",
                  "scene": "scene",
                  "showlegend": true,
                  "type": "scatter3d",
                  "x": [
                    0.9054124982424704
                  ],
                  "y": [
                    0.22816514803408855
                  ],
                  "z": [
                    -0.7703804862832021
                  ]
                },
                {
                  "hovertemplate": "Country.Name=New Zealand<br>PC1=%{x}<br>PC2=%{y}<br>PC3=%{z}<extra></extra>",
                  "legendgroup": "New Zealand",
                  "marker": {
                    "color": "#FF97FF",
                    "opacity": 0.5,
                    "symbol": "x"
                  },
                  "mode": "markers",
                  "name": "New Zealand",
                  "scene": "scene",
                  "showlegend": true,
                  "type": "scatter3d",
                  "x": [
                    3.97255924992446
                  ],
                  "y": [
                    -0.8423639118363311
                  ],
                  "z": [
                    2.059159999414161
                  ]
                },
                {
                  "hovertemplate": "Country.Name=Oman<br>PC1=%{x}<br>PC2=%{y}<br>PC3=%{z}<extra></extra>",
                  "legendgroup": "Oman",
                  "marker": {
                    "color": "#FECB52",
                    "opacity": 0.5,
                    "symbol": "cross"
                  },
                  "mode": "markers",
                  "name": "Oman",
                  "scene": "scene",
                  "showlegend": true,
                  "type": "scatter3d",
                  "x": [
                    2.264230458151014
                  ],
                  "y": [
                    5.789071336594674
                  ],
                  "z": [
                    -1.7964961449152186
                  ]
                },
                {
                  "hovertemplate": "Country.Name=Pakistan<br>PC1=%{x}<br>PC2=%{y}<br>PC3=%{z}<extra></extra>",
                  "legendgroup": "Pakistan",
                  "marker": {
                    "color": "#636efa",
                    "opacity": 0.5,
                    "symbol": "circle"
                  },
                  "mode": "markers",
                  "name": "Pakistan",
                  "scene": "scene",
                  "showlegend": true,
                  "type": "scatter3d",
                  "x": [
                    -4.452807460569349
                  ],
                  "y": [
                    -2.054079823401392
                  ],
                  "z": [
                    -3.0813614003459304
                  ]
                },
                {
                  "hovertemplate": "Country.Name=Panama<br>PC1=%{x}<br>PC2=%{y}<br>PC3=%{z}<extra></extra>",
                  "legendgroup": "Panama",
                  "marker": {
                    "color": "#EF553B",
                    "opacity": 0.5,
                    "symbol": "diamond"
                  },
                  "mode": "markers",
                  "name": "Panama",
                  "scene": "scene",
                  "showlegend": true,
                  "type": "scatter3d",
                  "x": [
                    1.3348167362082524
                  ],
                  "y": [
                    2.138051404965942
                  ],
                  "z": [
                    1.3209747349721126
                  ]
                },
                {
                  "hovertemplate": "Country.Name=Peru<br>PC1=%{x}<br>PC2=%{y}<br>PC3=%{z}<extra></extra>",
                  "legendgroup": "Peru",
                  "marker": {
                    "color": "#00cc96",
                    "opacity": 0.5,
                    "symbol": "square"
                  },
                  "mode": "markers",
                  "name": "Peru",
                  "scene": "scene",
                  "showlegend": true,
                  "type": "scatter3d",
                  "x": [
                    -0.617235445134372
                  ],
                  "y": [
                    0.18566652211704213
                  ],
                  "z": [
                    -0.14998624098194926
                  ]
                },
                {
                  "hovertemplate": "Country.Name=Philippines<br>PC1=%{x}<br>PC2=%{y}<br>PC3=%{z}<extra></extra>",
                  "legendgroup": "Philippines",
                  "marker": {
                    "color": "#ab63fa",
                    "opacity": 0.5,
                    "symbol": "x"
                  },
                  "mode": "markers",
                  "name": "Philippines",
                  "scene": "scene",
                  "showlegend": true,
                  "type": "scatter3d",
                  "x": [
                    -0.620661006021128
                  ],
                  "y": [
                    0.46403161958684425
                  ],
                  "z": [
                    -0.2778576202797833
                  ]
                },
                {
                  "hovertemplate": "Country.Name=Palau<br>PC1=%{x}<br>PC2=%{y}<br>PC3=%{z}<extra></extra>",
                  "legendgroup": "Palau",
                  "marker": {
                    "color": "#FFA15A",
                    "opacity": 0.5,
                    "symbol": "cross"
                  },
                  "mode": "markers",
                  "name": "Palau",
                  "scene": "scene",
                  "showlegend": true,
                  "type": "scatter3d",
                  "x": [
                    1.1084659710237454
                  ],
                  "y": [
                    -0.7457819176036761
                  ],
                  "z": [
                    -1.32622963301169
                  ]
                },
                {
                  "hovertemplate": "Country.Name=Papua New Guinea<br>PC1=%{x}<br>PC2=%{y}<br>PC3=%{z}<extra></extra>",
                  "legendgroup": "Papua New Guinea",
                  "marker": {
                    "color": "#19d3f3",
                    "opacity": 0.5,
                    "symbol": "circle"
                  },
                  "mode": "markers",
                  "name": "Papua New Guinea",
                  "scene": "scene",
                  "showlegend": true,
                  "type": "scatter3d",
                  "x": [
                    -4.345718747452257
                  ],
                  "y": [
                    0.6633008286521849
                  ],
                  "z": [
                    1.0641591267639618
                  ]
                },
                {
                  "hovertemplate": "Country.Name=Poland<br>PC1=%{x}<br>PC2=%{y}<br>PC3=%{z}<extra></extra>",
                  "legendgroup": "Poland",
                  "marker": {
                    "color": "#FF6692",
                    "opacity": 0.5,
                    "symbol": "diamond"
                  },
                  "mode": "markers",
                  "name": "Poland",
                  "scene": "scene",
                  "showlegend": true,
                  "type": "scatter3d",
                  "x": [
                    2.4199834403603107
                  ],
                  "y": [
                    -0.30159836587405026
                  ],
                  "z": [
                    -0.7284834130971942
                  ]
                },
                {
                  "hovertemplate": "Country.Name=Puerto Rico<br>PC1=%{x}<br>PC2=%{y}<br>PC3=%{z}<extra></extra>",
                  "legendgroup": "Puerto Rico",
                  "marker": {
                    "color": "#B6E880",
                    "opacity": 0.5,
                    "symbol": "square"
                  },
                  "mode": "markers",
                  "name": "Puerto Rico",
                  "scene": "scene",
                  "showlegend": true,
                  "type": "scatter3d",
                  "x": [
                    2.009565636985658
                  ],
                  "y": [
                    -0.6892933054187472
                  ],
                  "z": [
                    -2.1703769400667023
                  ]
                },
                {
                  "hovertemplate": "Country.Name=Korea, Dem. People's Rep.<br>PC1=%{x}<br>PC2=%{y}<br>PC3=%{z}<extra></extra>",
                  "legendgroup": "Korea, Dem. People's Rep.",
                  "marker": {
                    "color": "#FF97FF",
                    "opacity": 0.5,
                    "symbol": "x"
                  },
                  "mode": "markers",
                  "name": "Korea, Dem. People's Rep.",
                  "scene": "scene",
                  "showlegend": true,
                  "type": "scatter3d",
                  "x": [
                    -3.056913574019725
                  ],
                  "y": [
                    -0.4519209873872715
                  ],
                  "z": [
                    0.5779263519656411
                  ]
                },
                {
                  "hovertemplate": "Country.Name=Portugal<br>PC1=%{x}<br>PC2=%{y}<br>PC3=%{z}<extra></extra>",
                  "legendgroup": "Portugal",
                  "marker": {
                    "color": "#FECB52",
                    "opacity": 0.5,
                    "symbol": "cross"
                  },
                  "mode": "markers",
                  "name": "Portugal",
                  "scene": "scene",
                  "showlegend": true,
                  "type": "scatter3d",
                  "x": [
                    2.8481425160933362
                  ],
                  "y": [
                    -1.6132620118168768
                  ],
                  "z": [
                    -0.17281367154244573
                  ]
                },
                {
                  "hovertemplate": "Country.Name=Paraguay<br>PC1=%{x}<br>PC2=%{y}<br>PC3=%{z}<extra></extra>",
                  "legendgroup": "Paraguay",
                  "marker": {
                    "color": "#636efa",
                    "opacity": 0.5,
                    "symbol": "circle"
                  },
                  "mode": "markers",
                  "name": "Paraguay",
                  "scene": "scene",
                  "showlegend": true,
                  "type": "scatter3d",
                  "x": [
                    -0.9605875750947239
                  ],
                  "y": [
                    0.6428263384340607
                  ],
                  "z": [
                    -1.3560155781302308
                  ]
                },
                {
                  "hovertemplate": "Country.Name=West Bank and Gaza<br>PC1=%{x}<br>PC2=%{y}<br>PC3=%{z}<extra></extra>",
                  "legendgroup": "West Bank and Gaza",
                  "marker": {
                    "color": "#EF553B",
                    "opacity": 0.5,
                    "symbol": "diamond"
                  },
                  "mode": "markers",
                  "name": "West Bank and Gaza",
                  "scene": "scene",
                  "showlegend": true,
                  "type": "scatter3d",
                  "x": [
                    -0.1262554386926627
                  ],
                  "y": [
                    -1.1675470777518897
                  ],
                  "z": [
                    -1.3110255404291835
                  ]
                },
                {
                  "hovertemplate": "Country.Name=French Polynesia<br>PC1=%{x}<br>PC2=%{y}<br>PC3=%{z}<extra></extra>",
                  "legendgroup": "French Polynesia",
                  "marker": {
                    "color": "#00cc96",
                    "opacity": 0.5,
                    "symbol": "square"
                  },
                  "mode": "markers",
                  "name": "French Polynesia",
                  "scene": "scene",
                  "showlegend": true,
                  "type": "scatter3d",
                  "x": [
                    1.043017092141924
                  ],
                  "y": [
                    -0.30915936829885554
                  ],
                  "z": [
                    -0.6959551842904145
                  ]
                },
                {
                  "hovertemplate": "Country.Name=Qatar<br>PC1=%{x}<br>PC2=%{y}<br>PC3=%{z}<extra></extra>",
                  "legendgroup": "Qatar",
                  "marker": {
                    "color": "#ab63fa",
                    "opacity": 0.5,
                    "symbol": "x"
                  },
                  "mode": "markers",
                  "name": "Qatar",
                  "scene": "scene",
                  "showlegend": true,
                  "type": "scatter3d",
                  "x": [
                    3.530825121883253
                  ],
                  "y": [
                    5.914419111487262
                  ],
                  "z": [
                    0.7979713670062852
                  ]
                },
                {
                  "hovertemplate": "Country.Name=Romania<br>PC1=%{x}<br>PC2=%{y}<br>PC3=%{z}<extra></extra>",
                  "legendgroup": "Romania",
                  "marker": {
                    "color": "#FFA15A",
                    "opacity": 0.5,
                    "symbol": "cross"
                  },
                  "mode": "markers",
                  "name": "Romania",
                  "scene": "scene",
                  "showlegend": true,
                  "type": "scatter3d",
                  "x": [
                    1.0762101117107585
                  ],
                  "y": [
                    0.41214350246915105
                  ],
                  "z": [
                    -0.755755770001394
                  ]
                },
                {
                  "hovertemplate": "Country.Name=Russian Federation<br>PC1=%{x}<br>PC2=%{y}<br>PC3=%{z}<extra></extra>",
                  "legendgroup": "Russian Federation",
                  "marker": {
                    "color": "#19d3f3",
                    "opacity": 0.5,
                    "symbol": "circle"
                  },
                  "mode": "markers",
                  "name": "Russian Federation",
                  "scene": "scene",
                  "showlegend": true,
                  "type": "scatter3d",
                  "x": [
                    1.6914603868873694
                  ],
                  "y": [
                    1.836799842798326
                  ],
                  "z": [
                    -2.090127293228595
                  ]
                },
                {
                  "hovertemplate": "Country.Name=Rwanda<br>PC1=%{x}<br>PC2=%{y}<br>PC3=%{z}<extra></extra>",
                  "legendgroup": "Rwanda",
                  "marker": {
                    "color": "#FF6692",
                    "opacity": 0.5,
                    "symbol": "diamond"
                  },
                  "mode": "markers",
                  "name": "Rwanda",
                  "scene": "scene",
                  "showlegend": true,
                  "type": "scatter3d",
                  "x": [
                    -3.397568301943953
                  ],
                  "y": [
                    -2.2985044668204155
                  ],
                  "z": [
                    3.287359286496261
                  ]
                },
                {
                  "hovertemplate": "Country.Name=Saudi Arabia<br>PC1=%{x}<br>PC2=%{y}<br>PC3=%{z}<extra></extra>",
                  "legendgroup": "Saudi Arabia",
                  "marker": {
                    "color": "#B6E880",
                    "opacity": 0.5,
                    "symbol": "square"
                  },
                  "mode": "markers",
                  "name": "Saudi Arabia",
                  "scene": "scene",
                  "showlegend": true,
                  "type": "scatter3d",
                  "x": [
                    2.714880814196882
                  ],
                  "y": [
                    5.466040667015748
                  ],
                  "z": [
                    -2.2778468299403407
                  ]
                },
                {
                  "hovertemplate": "Country.Name=Sudan<br>PC1=%{x}<br>PC2=%{y}<br>PC3=%{z}<extra></extra>",
                  "legendgroup": "Sudan",
                  "marker": {
                    "color": "#FF97FF",
                    "opacity": 0.5,
                    "symbol": "x"
                  },
                  "mode": "markers",
                  "name": "Sudan",
                  "scene": "scene",
                  "showlegend": true,
                  "type": "scatter3d",
                  "x": [
                    -4.395834205132947
                  ],
                  "y": [
                    0.34264245827605433
                  ],
                  "z": [
                    0.1489837136860948
                  ]
                },
                {
                  "hovertemplate": "Country.Name=Senegal<br>PC1=%{x}<br>PC2=%{y}<br>PC3=%{z}<extra></extra>",
                  "legendgroup": "Senegal",
                  "marker": {
                    "color": "#FECB52",
                    "opacity": 0.5,
                    "symbol": "cross"
                  },
                  "mode": "markers",
                  "name": "Senegal",
                  "scene": "scene",
                  "showlegend": true,
                  "type": "scatter3d",
                  "x": [
                    -2.9649936824482217
                  ],
                  "y": [
                    -0.7842776582343635
                  ],
                  "z": [
                    1.0817668984900806
                  ]
                },
                {
                  "hovertemplate": "Country.Name=Singapore<br>PC1=%{x}<br>PC2=%{y}<br>PC3=%{z}<extra></extra>",
                  "legendgroup": "Singapore",
                  "marker": {
                    "color": "#636efa",
                    "opacity": 0.5,
                    "symbol": "circle"
                  },
                  "mode": "markers",
                  "name": "Singapore",
                  "scene": "scene",
                  "showlegend": true,
                  "type": "scatter3d",
                  "x": [
                    5.961927418920516
                  ],
                  "y": [
                    1.3147564367946094
                  ],
                  "z": [
                    0.5652385354977657
                  ]
                },
                {
                  "hovertemplate": "Country.Name=Solomon Islands<br>PC1=%{x}<br>PC2=%{y}<br>PC3=%{z}<extra></extra>",
                  "legendgroup": "Solomon Islands",
                  "marker": {
                    "color": "#EF553B",
                    "opacity": 0.5,
                    "symbol": "diamond"
                  },
                  "mode": "markers",
                  "name": "Solomon Islands",
                  "scene": "scene",
                  "showlegend": true,
                  "type": "scatter3d",
                  "x": [
                    -4.1068535772644985
                  ],
                  "y": [
                    -0.15844675598938893
                  ],
                  "z": [
                    0.16716079540356657
                  ]
                },
                {
                  "hovertemplate": "Country.Name=Sierra Leone<br>PC1=%{x}<br>PC2=%{y}<br>PC3=%{z}<extra></extra>",
                  "legendgroup": "Sierra Leone",
                  "marker": {
                    "color": "#00cc96",
                    "opacity": 0.5,
                    "symbol": "square"
                  },
                  "mode": "markers",
                  "name": "Sierra Leone",
                  "scene": "scene",
                  "showlegend": true,
                  "type": "scatter3d",
                  "x": [
                    -6.304312762906706
                  ],
                  "y": [
                    -2.286654187067738
                  ],
                  "z": [
                    0.185669222802873
                  ]
                },
                {
                  "hovertemplate": "Country.Name=El Salvador<br>PC1=%{x}<br>PC2=%{y}<br>PC3=%{z}<extra></extra>",
                  "legendgroup": "El Salvador",
                  "marker": {
                    "color": "#ab63fa",
                    "opacity": 0.5,
                    "symbol": "x"
                  },
                  "mode": "markers",
                  "name": "El Salvador",
                  "scene": "scene",
                  "showlegend": true,
                  "type": "scatter3d",
                  "x": [
                    -0.03048084043503818
                  ],
                  "y": [
                    -1.366820904514685
                  ],
                  "z": [
                    -0.7749165999178227
                  ]
                },
                {
                  "hovertemplate": "Country.Name=San Marino<br>PC1=%{x}<br>PC2=%{y}<br>PC3=%{z}<extra></extra>",
                  "legendgroup": "San Marino",
                  "marker": {
                    "color": "#FFA15A",
                    "opacity": 0.5,
                    "symbol": "cross"
                  },
                  "mode": "markers",
                  "name": "San Marino",
                  "scene": "scene",
                  "showlegend": true,
                  "type": "scatter3d",
                  "x": [
                    3.1421723866417897
                  ],
                  "y": [
                    -0.09438921552834793
                  ],
                  "z": [
                    -1.1124999162530973
                  ]
                },
                {
                  "hovertemplate": "Country.Name=Somalia<br>PC1=%{x}<br>PC2=%{y}<br>PC3=%{z}<extra></extra>",
                  "legendgroup": "Somalia",
                  "marker": {
                    "color": "#19d3f3",
                    "opacity": 0.5,
                    "symbol": "circle"
                  },
                  "mode": "markers",
                  "name": "Somalia",
                  "scene": "scene",
                  "showlegend": true,
                  "type": "scatter3d",
                  "x": [
                    -4.732325604769277
                  ],
                  "y": [
                    0.5053962114799626
                  ],
                  "z": [
                    -0.4019335497390312
                  ]
                },
                {
                  "hovertemplate": "Country.Name=Serbia<br>PC1=%{x}<br>PC2=%{y}<br>PC3=%{z}<extra></extra>",
                  "legendgroup": "Serbia",
                  "marker": {
                    "color": "#FF6692",
                    "opacity": 0.5,
                    "symbol": "diamond"
                  },
                  "mode": "markers",
                  "name": "Serbia",
                  "scene": "scene",
                  "showlegend": true,
                  "type": "scatter3d",
                  "x": [
                    0.9414185100361199
                  ],
                  "y": [
                    -1.34193477060091
                  ],
                  "z": [
                    -1.4705397728759193
                  ]
                },
                {
                  "hovertemplate": "Country.Name=South Sudan<br>PC1=%{x}<br>PC2=%{y}<br>PC3=%{z}<extra></extra>",
                  "legendgroup": "South Sudan",
                  "marker": {
                    "color": "#B6E880",
                    "opacity": 0.5,
                    "symbol": "square"
                  },
                  "mode": "markers",
                  "name": "South Sudan",
                  "scene": "scene",
                  "showlegend": true,
                  "type": "scatter3d",
                  "x": [
                    -5.650237451740609
                  ],
                  "y": [
                    -0.7610435301217925
                  ],
                  "z": [
                    -1.5416989179531102
                  ]
                },
                {
                  "hovertemplate": "Country.Name=Sao Tome and Principe<br>PC1=%{x}<br>PC2=%{y}<br>PC3=%{z}<extra></extra>",
                  "legendgroup": "Sao Tome and Principe",
                  "marker": {
                    "color": "#FF97FF",
                    "opacity": 0.5,
                    "symbol": "x"
                  },
                  "mode": "markers",
                  "name": "Sao Tome and Principe",
                  "scene": "scene",
                  "showlegend": true,
                  "type": "scatter3d",
                  "x": [
                    -1.6794411128612154
                  ],
                  "y": [
                    -0.7030068919973266
                  ],
                  "z": [
                    0.1131960026726616
                  ]
                },
                {
                  "hovertemplate": "Country.Name=Suriname<br>PC1=%{x}<br>PC2=%{y}<br>PC3=%{z}<extra></extra>",
                  "legendgroup": "Suriname",
                  "marker": {
                    "color": "#FECB52",
                    "opacity": 0.5,
                    "symbol": "cross"
                  },
                  "mode": "markers",
                  "name": "Suriname",
                  "scene": "scene",
                  "showlegend": true,
                  "type": "scatter3d",
                  "x": [
                    0.6621479437459505
                  ],
                  "y": [
                    0.5343297771911444
                  ],
                  "z": [
                    -0.9540172647568441
                  ]
                },
                {
                  "hovertemplate": "Country.Name=Slovak Republic<br>PC1=%{x}<br>PC2=%{y}<br>PC3=%{z}<extra></extra>",
                  "legendgroup": "Slovak Republic",
                  "marker": {
                    "color": "#636efa",
                    "opacity": 0.5,
                    "symbol": "circle"
                  },
                  "mode": "markers",
                  "name": "Slovak Republic",
                  "scene": "scene",
                  "showlegend": true,
                  "type": "scatter3d",
                  "x": [
                    2.8279475282578255
                  ],
                  "y": [
                    0.34972736119169756
                  ],
                  "z": [
                    -1.1262380157678855
                  ]
                },
                {
                  "hovertemplate": "Country.Name=Slovenia<br>PC1=%{x}<br>PC2=%{y}<br>PC3=%{z}<extra></extra>",
                  "legendgroup": "Slovenia",
                  "marker": {
                    "color": "#EF553B",
                    "opacity": 0.5,
                    "symbol": "diamond"
                  },
                  "mode": "markers",
                  "name": "Slovenia",
                  "scene": "scene",
                  "showlegend": true,
                  "type": "scatter3d",
                  "x": [
                    3.338599410175761
                  ],
                  "y": [
                    -1.0984168746685794
                  ],
                  "z": [
                    1.5454932610730148
                  ]
                },
                {
                  "hovertemplate": "Country.Name=Sweden<br>PC1=%{x}<br>PC2=%{y}<br>PC3=%{z}<extra></extra>",
                  "legendgroup": "Sweden",
                  "marker": {
                    "color": "#00cc96",
                    "opacity": 0.5,
                    "symbol": "square"
                  },
                  "mode": "markers",
                  "name": "Sweden",
                  "scene": "scene",
                  "showlegend": true,
                  "type": "scatter3d",
                  "x": [
                    5.028123784191447
                  ],
                  "y": [
                    -1.2751851513219272
                  ],
                  "z": [
                    4.004483772202707
                  ]
                },
                {
                  "hovertemplate": "Country.Name=Eswatini<br>PC1=%{x}<br>PC2=%{y}<br>PC3=%{z}<extra></extra>",
                  "legendgroup": "Eswatini",
                  "marker": {
                    "color": "#ab63fa",
                    "opacity": 0.5,
                    "symbol": "x"
                  },
                  "mode": "markers",
                  "name": "Eswatini",
                  "scene": "scene",
                  "showlegend": true,
                  "type": "scatter3d",
                  "x": [
                    -1.2904444896774685
                  ],
                  "y": [
                    -1.4299411901129333
                  ],
                  "z": [
                    -1.5033461883165633
                  ]
                },
                {
                  "hovertemplate": "Country.Name=Sint Maarten (Dutch part)<br>PC1=%{x}<br>PC2=%{y}<br>PC3=%{z}<extra></extra>",
                  "legendgroup": "Sint Maarten (Dutch part)",
                  "marker": {
                    "color": "#FFA15A",
                    "opacity": 0.5,
                    "symbol": "cross"
                  },
                  "mode": "markers",
                  "name": "Sint Maarten (Dutch part)",
                  "scene": "scene",
                  "showlegend": true,
                  "type": "scatter3d",
                  "x": [
                    2.112397433319343
                  ],
                  "y": [
                    -1.148136914846772
                  ],
                  "z": [
                    -0.16559435023028335
                  ]
                },
                {
                  "hovertemplate": "Country.Name=Seychelles<br>PC1=%{x}<br>PC2=%{y}<br>PC3=%{z}<extra></extra>",
                  "legendgroup": "Seychelles",
                  "marker": {
                    "color": "#19d3f3",
                    "opacity": 0.5,
                    "symbol": "circle"
                  },
                  "mode": "markers",
                  "name": "Seychelles",
                  "scene": "scene",
                  "showlegend": true,
                  "type": "scatter3d",
                  "x": [
                    2.3417943360208873
                  ],
                  "y": [
                    -1.0618593708807016
                  ],
                  "z": [
                    1.1598939657021043
                  ]
                },
                {
                  "hovertemplate": "Country.Name=Syrian Arab Republic<br>PC1=%{x}<br>PC2=%{y}<br>PC3=%{z}<extra></extra>",
                  "legendgroup": "Syrian Arab Republic",
                  "marker": {
                    "color": "#FF6692",
                    "opacity": 0.5,
                    "symbol": "diamond"
                  },
                  "mode": "markers",
                  "name": "Syrian Arab Republic",
                  "scene": "scene",
                  "showlegend": true,
                  "type": "scatter3d",
                  "x": [
                    -1.954521739182549
                  ],
                  "y": [
                    -1.4049641866361042
                  ],
                  "z": [
                    -2.6609182718597926
                  ]
                },
                {
                  "hovertemplate": "Country.Name=Turks and Caicos Islands<br>PC1=%{x}<br>PC2=%{y}<br>PC3=%{z}<extra></extra>",
                  "legendgroup": "Turks and Caicos Islands",
                  "marker": {
                    "color": "#B6E880",
                    "opacity": 0.5,
                    "symbol": "square"
                  },
                  "mode": "markers",
                  "name": "Turks and Caicos Islands",
                  "scene": "scene",
                  "showlegend": true,
                  "type": "scatter3d",
                  "x": [
                    0.5859001173369717
                  ],
                  "y": [
                    -0.790199505359948
                  ],
                  "z": [
                    0.018824159861780765
                  ]
                },
                {
                  "hovertemplate": "Country.Name=Chad<br>PC1=%{x}<br>PC2=%{y}<br>PC3=%{z}<extra></extra>",
                  "legendgroup": "Chad",
                  "marker": {
                    "color": "#FF97FF",
                    "opacity": 0.5,
                    "symbol": "x"
                  },
                  "mode": "markers",
                  "name": "Chad",
                  "scene": "scene",
                  "showlegend": true,
                  "type": "scatter3d",
                  "x": [
                    -7.095310606005451
                  ],
                  "y": [
                    0.1969938595149292
                  ],
                  "z": [
                    1.3557083791859572
                  ]
                },
                {
                  "hovertemplate": "Country.Name=Togo<br>PC1=%{x}<br>PC2=%{y}<br>PC3=%{z}<extra></extra>",
                  "legendgroup": "Togo",
                  "marker": {
                    "color": "#FECB52",
                    "opacity": 0.5,
                    "symbol": "cross"
                  },
                  "mode": "markers",
                  "name": "Togo",
                  "scene": "scene",
                  "showlegend": true,
                  "type": "scatter3d",
                  "x": [
                    -4.991336494477002
                  ],
                  "y": [
                    0.6791821677838074
                  ],
                  "z": [
                    1.2133338240705367
                  ]
                },
                {
                  "hovertemplate": "Country.Name=Thailand<br>PC1=%{x}<br>PC2=%{y}<br>PC3=%{z}<extra></extra>",
                  "legendgroup": "Thailand",
                  "marker": {
                    "color": "#636efa",
                    "opacity": 0.5,
                    "symbol": "circle"
                  },
                  "mode": "markers",
                  "name": "Thailand",
                  "scene": "scene",
                  "showlegend": true,
                  "type": "scatter3d",
                  "x": [
                    0.21870158503782577
                  ],
                  "y": [
                    1.6140568304938798
                  ],
                  "z": [
                    0.27782595192772075
                  ]
                },
                {
                  "hovertemplate": "Country.Name=Tajikistan<br>PC1=%{x}<br>PC2=%{y}<br>PC3=%{z}<extra></extra>",
                  "legendgroup": "Tajikistan",
                  "marker": {
                    "color": "#EF553B",
                    "opacity": 0.5,
                    "symbol": "diamond"
                  },
                  "mode": "markers",
                  "name": "Tajikistan",
                  "scene": "scene",
                  "showlegend": true,
                  "type": "scatter3d",
                  "x": [
                    -1.7468075600241333
                  ],
                  "y": [
                    2.354378303770614
                  ],
                  "z": [
                    -0.2053261118508366
                  ]
                },
                {
                  "hovertemplate": "Country.Name=Turkmenistan<br>PC1=%{x}<br>PC2=%{y}<br>PC3=%{z}<extra></extra>",
                  "legendgroup": "Turkmenistan",
                  "marker": {
                    "color": "#00cc96",
                    "opacity": 0.5,
                    "symbol": "square"
                  },
                  "mode": "markers",
                  "name": "Turkmenistan",
                  "scene": "scene",
                  "showlegend": true,
                  "type": "scatter3d",
                  "x": [
                    -1.2202060923257798
                  ],
                  "y": [
                    2.7060343364515407
                  ],
                  "z": [
                    -1.7364373470746297
                  ]
                },
                {
                  "hovertemplate": "Country.Name=Timor-Leste<br>PC1=%{x}<br>PC2=%{y}<br>PC3=%{z}<extra></extra>",
                  "legendgroup": "Timor-Leste",
                  "marker": {
                    "color": "#ab63fa",
                    "opacity": 0.5,
                    "symbol": "x"
                  },
                  "mode": "markers",
                  "name": "Timor-Leste",
                  "scene": "scene",
                  "showlegend": true,
                  "type": "scatter3d",
                  "x": [
                    -3.551926446500872
                  ],
                  "y": [
                    3.9323609477783
                  ],
                  "z": [
                    2.0625207597342237
                  ]
                },
                {
                  "hovertemplate": "Country.Name=Tonga<br>PC1=%{x}<br>PC2=%{y}<br>PC3=%{z}<extra></extra>",
                  "legendgroup": "Tonga",
                  "marker": {
                    "color": "#FFA15A",
                    "opacity": 0.5,
                    "symbol": "cross"
                  },
                  "mode": "markers",
                  "name": "Tonga",
                  "scene": "scene",
                  "showlegend": true,
                  "type": "scatter3d",
                  "x": [
                    -1.4282564861888736
                  ],
                  "y": [
                    -0.694961913972886
                  ],
                  "z": [
                    -1.323892118204075
                  ]
                },
                {
                  "hovertemplate": "Country.Name=Trinidad and Tobago<br>PC1=%{x}<br>PC2=%{y}<br>PC3=%{z}<extra></extra>",
                  "legendgroup": "Trinidad and Tobago",
                  "marker": {
                    "color": "#19d3f3",
                    "opacity": 0.5,
                    "symbol": "circle"
                  },
                  "mode": "markers",
                  "name": "Trinidad and Tobago",
                  "scene": "scene",
                  "showlegend": true,
                  "type": "scatter3d",
                  "x": [
                    1.533540226092787
                  ],
                  "y": [
                    0.7762002636485454
                  ],
                  "z": [
                    -0.6897389035486747
                  ]
                },
                {
                  "hovertemplate": "Country.Name=Tunisia<br>PC1=%{x}<br>PC2=%{y}<br>PC3=%{z}<extra></extra>",
                  "legendgroup": "Tunisia",
                  "marker": {
                    "color": "#FF6692",
                    "opacity": 0.5,
                    "symbol": "diamond"
                  },
                  "mode": "markers",
                  "name": "Tunisia",
                  "scene": "scene",
                  "showlegend": true,
                  "type": "scatter3d",
                  "x": [
                    0.6616881764239573
                  ],
                  "y": [
                    -0.5014084489029151
                  ],
                  "z": [
                    -1.4416266330230807
                  ]
                },
                {
                  "hovertemplate": "Country.Name=Turkiye<br>PC1=%{x}<br>PC2=%{y}<br>PC3=%{z}<extra></extra>",
                  "legendgroup": "Turkiye",
                  "marker": {
                    "color": "#B6E880",
                    "opacity": 0.5,
                    "symbol": "square"
                  },
                  "mode": "markers",
                  "name": "Turkiye",
                  "scene": "scene",
                  "showlegend": true,
                  "type": "scatter3d",
                  "x": [
                    0.7255505514623922
                  ],
                  "y": [
                    1.045445927531621
                  ],
                  "z": [
                    -1.2939691614032092
                  ]
                },
                {
                  "hovertemplate": "Country.Name=Tuvalu<br>PC1=%{x}<br>PC2=%{y}<br>PC3=%{z}<extra></extra>",
                  "legendgroup": "Tuvalu",
                  "marker": {
                    "color": "#FF97FF",
                    "opacity": 0.5,
                    "symbol": "x"
                  },
                  "mode": "markers",
                  "name": "Tuvalu",
                  "scene": "scene",
                  "showlegend": true,
                  "type": "scatter3d",
                  "x": [
                    -0.6710029788964095
                  ],
                  "y": [
                    -0.8434975186484722
                  ],
                  "z": [
                    -0.3243421582689747
                  ]
                },
                {
                  "hovertemplate": "Country.Name=Tanzania<br>PC1=%{x}<br>PC2=%{y}<br>PC3=%{z}<extra></extra>",
                  "legendgroup": "Tanzania",
                  "marker": {
                    "color": "#FECB52",
                    "opacity": 0.5,
                    "symbol": "cross"
                  },
                  "mode": "markers",
                  "name": "Tanzania",
                  "scene": "scene",
                  "showlegend": true,
                  "type": "scatter3d",
                  "x": [
                    -4.914185756490338
                  ],
                  "y": [
                    0.5192766773641503
                  ],
                  "z": [
                    3.4751736655954537
                  ]
                },
                {
                  "hovertemplate": "Country.Name=Uganda<br>PC1=%{x}<br>PC2=%{y}<br>PC3=%{z}<extra></extra>",
                  "legendgroup": "Uganda",
                  "marker": {
                    "color": "#636efa",
                    "opacity": 0.5,
                    "symbol": "circle"
                  },
                  "mode": "markers",
                  "name": "Uganda",
                  "scene": "scene",
                  "showlegend": true,
                  "type": "scatter3d",
                  "x": [
                    -5.349787431756281
                  ],
                  "y": [
                    -0.5020009954685879
                  ],
                  "z": [
                    2.2190377865845727
                  ]
                },
                {
                  "hovertemplate": "Country.Name=Ukraine<br>PC1=%{x}<br>PC2=%{y}<br>PC3=%{z}<extra></extra>",
                  "legendgroup": "Ukraine",
                  "marker": {
                    "color": "#EF553B",
                    "opacity": 0.5,
                    "symbol": "diamond"
                  },
                  "mode": "markers",
                  "name": "Ukraine",
                  "scene": "scene",
                  "showlegend": true,
                  "type": "scatter3d",
                  "x": [
                    0.5755402902365658
                  ],
                  "y": [
                    0.003907653975765117
                  ],
                  "z": [
                    -2.584911441727667
                  ]
                },
                {
                  "hovertemplate": "Country.Name=Uruguay<br>PC1=%{x}<br>PC2=%{y}<br>PC3=%{z}<extra></extra>",
                  "legendgroup": "Uruguay",
                  "marker": {
                    "color": "#00cc96",
                    "opacity": 0.5,
                    "symbol": "square"
                  },
                  "mode": "markers",
                  "name": "Uruguay",
                  "scene": "scene",
                  "showlegend": true,
                  "type": "scatter3d",
                  "x": [
                    2.234696019051332
                  ],
                  "y": [
                    -0.520661755179514
                  ],
                  "z": [
                    -0.8505719179754324
                  ]
                },
                {
                  "hovertemplate": "Country.Name=United States<br>PC1=%{x}<br>PC2=%{y}<br>PC3=%{z}<extra></extra>",
                  "legendgroup": "United States",
                  "marker": {
                    "color": "#ab63fa",
                    "opacity": 0.5,
                    "symbol": "x"
                  },
                  "mode": "markers",
                  "name": "United States",
                  "scene": "scene",
                  "showlegend": true,
                  "type": "scatter3d",
                  "x": [
                    4.690713721253605
                  ],
                  "y": [
                    0.2677825006579996
                  ],
                  "z": [
                    1.252000253389749
                  ]
                },
                {
                  "hovertemplate": "Country.Name=Uzbekistan<br>PC1=%{x}<br>PC2=%{y}<br>PC3=%{z}<extra></extra>",
                  "legendgroup": "Uzbekistan",
                  "marker": {
                    "color": "#FFA15A",
                    "opacity": 0.5,
                    "symbol": "cross"
                  },
                  "mode": "markers",
                  "name": "Uzbekistan",
                  "scene": "scene",
                  "showlegend": true,
                  "type": "scatter3d",
                  "x": [
                    -2.090054992200642
                  ],
                  "y": [
                    0.7440117087436292
                  ],
                  "z": [
                    -0.8124241629380089
                  ]
                },
                {
                  "hovertemplate": "Country.Name=St. Vincent and the Grenadines<br>PC1=%{x}<br>PC2=%{y}<br>PC3=%{z}<extra></extra>",
                  "legendgroup": "St. Vincent and the Grenadines",
                  "marker": {
                    "color": "#19d3f3",
                    "opacity": 0.5,
                    "symbol": "circle"
                  },
                  "mode": "markers",
                  "name": "St. Vincent and the Grenadines",
                  "scene": "scene",
                  "showlegend": true,
                  "type": "scatter3d",
                  "x": [
                    1.272867072888668
                  ],
                  "y": [
                    -0.7407506664780311
                  ],
                  "z": [
                    -1.3831164688881634
                  ]
                },
                {
                  "hovertemplate": "Country.Name=Venezuela, RB<br>PC1=%{x}<br>PC2=%{y}<br>PC3=%{z}<extra></extra>",
                  "legendgroup": "Venezuela, RB",
                  "marker": {
                    "color": "#FF6692",
                    "opacity": 0.5,
                    "symbol": "diamond"
                  },
                  "mode": "markers",
                  "name": "Venezuela, RB",
                  "scene": "scene",
                  "showlegend": true,
                  "type": "scatter3d",
                  "x": [
                    0.27214905006654166
                  ],
                  "y": [
                    -0.005949258748810675
                  ],
                  "z": [
                    -0.7617048668543173
                  ]
                },
                {
                  "hovertemplate": "Country.Name=British Virgin Islands<br>PC1=%{x}<br>PC2=%{y}<br>PC3=%{z}<extra></extra>",
                  "legendgroup": "British Virgin Islands",
                  "marker": {
                    "color": "#B6E880",
                    "opacity": 0.5,
                    "symbol": "square"
                  },
                  "mode": "markers",
                  "name": "British Virgin Islands",
                  "scene": "scene",
                  "showlegend": true,
                  "type": "scatter3d",
                  "x": [
                    0.4713091391014281
                  ],
                  "y": [
                    0.29748964790873145
                  ],
                  "z": [
                    -0.24296692286446972
                  ]
                },
                {
                  "hovertemplate": "Country.Name=Virgin Islands (U.S.)<br>PC1=%{x}<br>PC2=%{y}<br>PC3=%{z}<extra></extra>",
                  "legendgroup": "Virgin Islands (U.S.)",
                  "marker": {
                    "color": "#FF97FF",
                    "opacity": 0.5,
                    "symbol": "x"
                  },
                  "mode": "markers",
                  "name": "Virgin Islands (U.S.)",
                  "scene": "scene",
                  "showlegend": true,
                  "type": "scatter3d",
                  "x": [
                    2.0421199406191572
                  ],
                  "y": [
                    -0.9260777072011601
                  ],
                  "z": [
                    -0.9425962337373569
                  ]
                },
                {
                  "hovertemplate": "Country.Name=Vietnam<br>PC1=%{x}<br>PC2=%{y}<br>PC3=%{z}<extra></extra>",
                  "legendgroup": "Vietnam",
                  "marker": {
                    "color": "#FECB52",
                    "opacity": 0.5,
                    "symbol": "cross"
                  },
                  "mode": "markers",
                  "name": "Vietnam",
                  "scene": "scene",
                  "showlegend": true,
                  "type": "scatter3d",
                  "x": [
                    -1.1828303459933345
                  ],
                  "y": [
                    1.6194989959758954
                  ],
                  "z": [
                    0.017402030560459542
                  ]
                },
                {
                  "hovertemplate": "Country.Name=Vanuatu<br>PC1=%{x}<br>PC2=%{y}<br>PC3=%{z}<extra></extra>",
                  "legendgroup": "Vanuatu",
                  "marker": {
                    "color": "#636efa",
                    "opacity": 0.5,
                    "symbol": "circle"
                  },
                  "mode": "markers",
                  "name": "Vanuatu",
                  "scene": "scene",
                  "showlegend": true,
                  "type": "scatter3d",
                  "x": [
                    -3.165166558298947
                  ],
                  "y": [
                    0.0625381665165217
                  ],
                  "z": [
                    0.573979041961535
                  ]
                },
                {
                  "hovertemplate": "Country.Name=Samoa<br>PC1=%{x}<br>PC2=%{y}<br>PC3=%{z}<extra></extra>",
                  "legendgroup": "Samoa",
                  "marker": {
                    "color": "#EF553B",
                    "opacity": 0.5,
                    "symbol": "diamond"
                  },
                  "mode": "markers",
                  "name": "Samoa",
                  "scene": "scene",
                  "showlegend": true,
                  "type": "scatter3d",
                  "x": [
                    -0.4124339388883169
                  ],
                  "y": [
                    -0.1452888120216976
                  ],
                  "z": [
                    -0.04240435567389378
                  ]
                },
                {
                  "hovertemplate": "Country.Name=Kosovo<br>PC1=%{x}<br>PC2=%{y}<br>PC3=%{z}<extra></extra>",
                  "legendgroup": "Kosovo",
                  "marker": {
                    "color": "#00cc96",
                    "opacity": 0.5,
                    "symbol": "square"
                  },
                  "mode": "markers",
                  "name": "Kosovo",
                  "scene": "scene",
                  "showlegend": true,
                  "type": "scatter3d",
                  "x": [
                    -0.6279448970779933
                  ],
                  "y": [
                    0.32174901528093924
                  ],
                  "z": [
                    -0.1781835581633926
                  ]
                },
                {
                  "hovertemplate": "Country.Name=Yemen, Rep.<br>PC1=%{x}<br>PC2=%{y}<br>PC3=%{z}<extra></extra>",
                  "legendgroup": "Yemen, Rep.",
                  "marker": {
                    "color": "#ab63fa",
                    "opacity": 0.5,
                    "symbol": "x"
                  },
                  "mode": "markers",
                  "name": "Yemen, Rep.",
                  "scene": "scene",
                  "showlegend": true,
                  "type": "scatter3d",
                  "x": [
                    -3.545423900059451
                  ],
                  "y": [
                    0.8726854538239708
                  ],
                  "z": [
                    -1.7422740822775955
                  ]
                },
                {
                  "hovertemplate": "Country.Name=South Africa<br>PC1=%{x}<br>PC2=%{y}<br>PC3=%{z}<extra></extra>",
                  "legendgroup": "South Africa",
                  "marker": {
                    "color": "#FFA15A",
                    "opacity": 0.5,
                    "symbol": "cross"
                  },
                  "mode": "markers",
                  "name": "South Africa",
                  "scene": "scene",
                  "showlegend": true,
                  "type": "scatter3d",
                  "x": [
                    1.9023585541559305
                  ],
                  "y": [
                    -1.4478867184826496
                  ],
                  "z": [
                    0.7222599526432449
                  ]
                },
                {
                  "hovertemplate": "Country.Name=Zambia<br>PC1=%{x}<br>PC2=%{y}<br>PC3=%{z}<extra></extra>",
                  "legendgroup": "Zambia",
                  "marker": {
                    "color": "#19d3f3",
                    "opacity": 0.5,
                    "symbol": "circle"
                  },
                  "mode": "markers",
                  "name": "Zambia",
                  "scene": "scene",
                  "showlegend": true,
                  "type": "scatter3d",
                  "x": [
                    -3.0730598777934652
                  ],
                  "y": [
                    1.8696981882327064
                  ],
                  "z": [
                    1.8844725972877054
                  ]
                },
                {
                  "hovertemplate": "Country.Name=Zimbabwe<br>PC1=%{x}<br>PC2=%{y}<br>PC3=%{z}<extra></extra>",
                  "legendgroup": "Zimbabwe",
                  "marker": {
                    "color": "#FF6692",
                    "opacity": 0.5,
                    "symbol": "diamond"
                  },
                  "mode": "markers",
                  "name": "Zimbabwe",
                  "scene": "scene",
                  "showlegend": true,
                  "type": "scatter3d",
                  "x": [
                    -3.483121681657889
                  ],
                  "y": [
                    -2.8638276389379307
                  ],
                  "z": [
                    -1.184268406874524
                  ]
                }
              ],
              "layout": {
                "legend": {
                  "title": {
                    "text": "Country.Name"
                  },
                  "tracegroupgap": 0
                },
                "margin": {
                  "b": 0,
                  "l": 0,
                  "r": 0,
                  "t": 0
                },
                "scene": {
                  "domain": {
                    "x": [
                      0,
                      1
                    ],
                    "y": [
                      0,
                      1
                    ]
                  },
                  "xaxis": {
                    "title": {
                      "text": "PC1"
                    }
                  },
                  "yaxis": {
                    "title": {
                      "text": "PC2"
                    }
                  },
                  "zaxis": {
                    "title": {
                      "text": "PC3"
                    }
                  }
                },
                "template": {
                  "data": {
                    "bar": [
                      {
                        "error_x": {
                          "color": "#2a3f5f"
                        },
                        "error_y": {
                          "color": "#2a3f5f"
                        },
                        "marker": {
                          "line": {
                            "color": "#E5ECF6",
                            "width": 0.5
                          },
                          "pattern": {
                            "fillmode": "overlay",
                            "size": 10,
                            "solidity": 0.2
                          }
                        },
                        "type": "bar"
                      }
                    ],
                    "barpolar": [
                      {
                        "marker": {
                          "line": {
                            "color": "#E5ECF6",
                            "width": 0.5
                          },
                          "pattern": {
                            "fillmode": "overlay",
                            "size": 10,
                            "solidity": 0.2
                          }
                        },
                        "type": "barpolar"
                      }
                    ],
                    "carpet": [
                      {
                        "aaxis": {
                          "endlinecolor": "#2a3f5f",
                          "gridcolor": "white",
                          "linecolor": "white",
                          "minorgridcolor": "white",
                          "startlinecolor": "#2a3f5f"
                        },
                        "baxis": {
                          "endlinecolor": "#2a3f5f",
                          "gridcolor": "white",
                          "linecolor": "white",
                          "minorgridcolor": "white",
                          "startlinecolor": "#2a3f5f"
                        },
                        "type": "carpet"
                      }
                    ],
                    "choropleth": [
                      {
                        "colorbar": {
                          "outlinewidth": 0,
                          "ticks": ""
                        },
                        "type": "choropleth"
                      }
                    ],
                    "contour": [
                      {
                        "colorbar": {
                          "outlinewidth": 0,
                          "ticks": ""
                        },
                        "colorscale": [
                          [
                            0,
                            "#0d0887"
                          ],
                          [
                            0.1111111111111111,
                            "#46039f"
                          ],
                          [
                            0.2222222222222222,
                            "#7201a8"
                          ],
                          [
                            0.3333333333333333,
                            "#9c179e"
                          ],
                          [
                            0.4444444444444444,
                            "#bd3786"
                          ],
                          [
                            0.5555555555555556,
                            "#d8576b"
                          ],
                          [
                            0.6666666666666666,
                            "#ed7953"
                          ],
                          [
                            0.7777777777777778,
                            "#fb9f3a"
                          ],
                          [
                            0.8888888888888888,
                            "#fdca26"
                          ],
                          [
                            1,
                            "#f0f921"
                          ]
                        ],
                        "type": "contour"
                      }
                    ],
                    "contourcarpet": [
                      {
                        "colorbar": {
                          "outlinewidth": 0,
                          "ticks": ""
                        },
                        "type": "contourcarpet"
                      }
                    ],
                    "heatmap": [
                      {
                        "colorbar": {
                          "outlinewidth": 0,
                          "ticks": ""
                        },
                        "colorscale": [
                          [
                            0,
                            "#0d0887"
                          ],
                          [
                            0.1111111111111111,
                            "#46039f"
                          ],
                          [
                            0.2222222222222222,
                            "#7201a8"
                          ],
                          [
                            0.3333333333333333,
                            "#9c179e"
                          ],
                          [
                            0.4444444444444444,
                            "#bd3786"
                          ],
                          [
                            0.5555555555555556,
                            "#d8576b"
                          ],
                          [
                            0.6666666666666666,
                            "#ed7953"
                          ],
                          [
                            0.7777777777777778,
                            "#fb9f3a"
                          ],
                          [
                            0.8888888888888888,
                            "#fdca26"
                          ],
                          [
                            1,
                            "#f0f921"
                          ]
                        ],
                        "type": "heatmap"
                      }
                    ],
                    "heatmapgl": [
                      {
                        "colorbar": {
                          "outlinewidth": 0,
                          "ticks": ""
                        },
                        "colorscale": [
                          [
                            0,
                            "#0d0887"
                          ],
                          [
                            0.1111111111111111,
                            "#46039f"
                          ],
                          [
                            0.2222222222222222,
                            "#7201a8"
                          ],
                          [
                            0.3333333333333333,
                            "#9c179e"
                          ],
                          [
                            0.4444444444444444,
                            "#bd3786"
                          ],
                          [
                            0.5555555555555556,
                            "#d8576b"
                          ],
                          [
                            0.6666666666666666,
                            "#ed7953"
                          ],
                          [
                            0.7777777777777778,
                            "#fb9f3a"
                          ],
                          [
                            0.8888888888888888,
                            "#fdca26"
                          ],
                          [
                            1,
                            "#f0f921"
                          ]
                        ],
                        "type": "heatmapgl"
                      }
                    ],
                    "histogram": [
                      {
                        "marker": {
                          "pattern": {
                            "fillmode": "overlay",
                            "size": 10,
                            "solidity": 0.2
                          }
                        },
                        "type": "histogram"
                      }
                    ],
                    "histogram2d": [
                      {
                        "colorbar": {
                          "outlinewidth": 0,
                          "ticks": ""
                        },
                        "colorscale": [
                          [
                            0,
                            "#0d0887"
                          ],
                          [
                            0.1111111111111111,
                            "#46039f"
                          ],
                          [
                            0.2222222222222222,
                            "#7201a8"
                          ],
                          [
                            0.3333333333333333,
                            "#9c179e"
                          ],
                          [
                            0.4444444444444444,
                            "#bd3786"
                          ],
                          [
                            0.5555555555555556,
                            "#d8576b"
                          ],
                          [
                            0.6666666666666666,
                            "#ed7953"
                          ],
                          [
                            0.7777777777777778,
                            "#fb9f3a"
                          ],
                          [
                            0.8888888888888888,
                            "#fdca26"
                          ],
                          [
                            1,
                            "#f0f921"
                          ]
                        ],
                        "type": "histogram2d"
                      }
                    ],
                    "histogram2dcontour": [
                      {
                        "colorbar": {
                          "outlinewidth": 0,
                          "ticks": ""
                        },
                        "colorscale": [
                          [
                            0,
                            "#0d0887"
                          ],
                          [
                            0.1111111111111111,
                            "#46039f"
                          ],
                          [
                            0.2222222222222222,
                            "#7201a8"
                          ],
                          [
                            0.3333333333333333,
                            "#9c179e"
                          ],
                          [
                            0.4444444444444444,
                            "#bd3786"
                          ],
                          [
                            0.5555555555555556,
                            "#d8576b"
                          ],
                          [
                            0.6666666666666666,
                            "#ed7953"
                          ],
                          [
                            0.7777777777777778,
                            "#fb9f3a"
                          ],
                          [
                            0.8888888888888888,
                            "#fdca26"
                          ],
                          [
                            1,
                            "#f0f921"
                          ]
                        ],
                        "type": "histogram2dcontour"
                      }
                    ],
                    "mesh3d": [
                      {
                        "colorbar": {
                          "outlinewidth": 0,
                          "ticks": ""
                        },
                        "type": "mesh3d"
                      }
                    ],
                    "parcoords": [
                      {
                        "line": {
                          "colorbar": {
                            "outlinewidth": 0,
                            "ticks": ""
                          }
                        },
                        "type": "parcoords"
                      }
                    ],
                    "pie": [
                      {
                        "automargin": true,
                        "type": "pie"
                      }
                    ],
                    "scatter": [
                      {
                        "fillpattern": {
                          "fillmode": "overlay",
                          "size": 10,
                          "solidity": 0.2
                        },
                        "type": "scatter"
                      }
                    ],
                    "scatter3d": [
                      {
                        "line": {
                          "colorbar": {
                            "outlinewidth": 0,
                            "ticks": ""
                          }
                        },
                        "marker": {
                          "colorbar": {
                            "outlinewidth": 0,
                            "ticks": ""
                          }
                        },
                        "type": "scatter3d"
                      }
                    ],
                    "scattercarpet": [
                      {
                        "marker": {
                          "colorbar": {
                            "outlinewidth": 0,
                            "ticks": ""
                          }
                        },
                        "type": "scattercarpet"
                      }
                    ],
                    "scattergeo": [
                      {
                        "marker": {
                          "colorbar": {
                            "outlinewidth": 0,
                            "ticks": ""
                          }
                        },
                        "type": "scattergeo"
                      }
                    ],
                    "scattergl": [
                      {
                        "marker": {
                          "colorbar": {
                            "outlinewidth": 0,
                            "ticks": ""
                          }
                        },
                        "type": "scattergl"
                      }
                    ],
                    "scattermapbox": [
                      {
                        "marker": {
                          "colorbar": {
                            "outlinewidth": 0,
                            "ticks": ""
                          }
                        },
                        "type": "scattermapbox"
                      }
                    ],
                    "scatterpolar": [
                      {
                        "marker": {
                          "colorbar": {
                            "outlinewidth": 0,
                            "ticks": ""
                          }
                        },
                        "type": "scatterpolar"
                      }
                    ],
                    "scatterpolargl": [
                      {
                        "marker": {
                          "colorbar": {
                            "outlinewidth": 0,
                            "ticks": ""
                          }
                        },
                        "type": "scatterpolargl"
                      }
                    ],
                    "scatterternary": [
                      {
                        "marker": {
                          "colorbar": {
                            "outlinewidth": 0,
                            "ticks": ""
                          }
                        },
                        "type": "scatterternary"
                      }
                    ],
                    "surface": [
                      {
                        "colorbar": {
                          "outlinewidth": 0,
                          "ticks": ""
                        },
                        "colorscale": [
                          [
                            0,
                            "#0d0887"
                          ],
                          [
                            0.1111111111111111,
                            "#46039f"
                          ],
                          [
                            0.2222222222222222,
                            "#7201a8"
                          ],
                          [
                            0.3333333333333333,
                            "#9c179e"
                          ],
                          [
                            0.4444444444444444,
                            "#bd3786"
                          ],
                          [
                            0.5555555555555556,
                            "#d8576b"
                          ],
                          [
                            0.6666666666666666,
                            "#ed7953"
                          ],
                          [
                            0.7777777777777778,
                            "#fb9f3a"
                          ],
                          [
                            0.8888888888888888,
                            "#fdca26"
                          ],
                          [
                            1,
                            "#f0f921"
                          ]
                        ],
                        "type": "surface"
                      }
                    ],
                    "table": [
                      {
                        "cells": {
                          "fill": {
                            "color": "#EBF0F8"
                          },
                          "line": {
                            "color": "white"
                          }
                        },
                        "header": {
                          "fill": {
                            "color": "#C8D4E3"
                          },
                          "line": {
                            "color": "white"
                          }
                        },
                        "type": "table"
                      }
                    ]
                  },
                  "layout": {
                    "annotationdefaults": {
                      "arrowcolor": "#2a3f5f",
                      "arrowhead": 0,
                      "arrowwidth": 1
                    },
                    "autotypenumbers": "strict",
                    "coloraxis": {
                      "colorbar": {
                        "outlinewidth": 0,
                        "ticks": ""
                      }
                    },
                    "colorscale": {
                      "diverging": [
                        [
                          0,
                          "#8e0152"
                        ],
                        [
                          0.1,
                          "#c51b7d"
                        ],
                        [
                          0.2,
                          "#de77ae"
                        ],
                        [
                          0.3,
                          "#f1b6da"
                        ],
                        [
                          0.4,
                          "#fde0ef"
                        ],
                        [
                          0.5,
                          "#f7f7f7"
                        ],
                        [
                          0.6,
                          "#e6f5d0"
                        ],
                        [
                          0.7,
                          "#b8e186"
                        ],
                        [
                          0.8,
                          "#7fbc41"
                        ],
                        [
                          0.9,
                          "#4d9221"
                        ],
                        [
                          1,
                          "#276419"
                        ]
                      ],
                      "sequential": [
                        [
                          0,
                          "#0d0887"
                        ],
                        [
                          0.1111111111111111,
                          "#46039f"
                        ],
                        [
                          0.2222222222222222,
                          "#7201a8"
                        ],
                        [
                          0.3333333333333333,
                          "#9c179e"
                        ],
                        [
                          0.4444444444444444,
                          "#bd3786"
                        ],
                        [
                          0.5555555555555556,
                          "#d8576b"
                        ],
                        [
                          0.6666666666666666,
                          "#ed7953"
                        ],
                        [
                          0.7777777777777778,
                          "#fb9f3a"
                        ],
                        [
                          0.8888888888888888,
                          "#fdca26"
                        ],
                        [
                          1,
                          "#f0f921"
                        ]
                      ],
                      "sequentialminus": [
                        [
                          0,
                          "#0d0887"
                        ],
                        [
                          0.1111111111111111,
                          "#46039f"
                        ],
                        [
                          0.2222222222222222,
                          "#7201a8"
                        ],
                        [
                          0.3333333333333333,
                          "#9c179e"
                        ],
                        [
                          0.4444444444444444,
                          "#bd3786"
                        ],
                        [
                          0.5555555555555556,
                          "#d8576b"
                        ],
                        [
                          0.6666666666666666,
                          "#ed7953"
                        ],
                        [
                          0.7777777777777778,
                          "#fb9f3a"
                        ],
                        [
                          0.8888888888888888,
                          "#fdca26"
                        ],
                        [
                          1,
                          "#f0f921"
                        ]
                      ]
                    },
                    "colorway": [
                      "#636efa",
                      "#EF553B",
                      "#00cc96",
                      "#ab63fa",
                      "#FFA15A",
                      "#19d3f3",
                      "#FF6692",
                      "#B6E880",
                      "#FF97FF",
                      "#FECB52"
                    ],
                    "font": {
                      "color": "#2a3f5f"
                    },
                    "geo": {
                      "bgcolor": "white",
                      "lakecolor": "white",
                      "landcolor": "#E5ECF6",
                      "showlakes": true,
                      "showland": true,
                      "subunitcolor": "white"
                    },
                    "hoverlabel": {
                      "align": "left"
                    },
                    "hovermode": "closest",
                    "mapbox": {
                      "style": "light"
                    },
                    "paper_bgcolor": "white",
                    "plot_bgcolor": "#E5ECF6",
                    "polar": {
                      "angularaxis": {
                        "gridcolor": "white",
                        "linecolor": "white",
                        "ticks": ""
                      },
                      "bgcolor": "#E5ECF6",
                      "radialaxis": {
                        "gridcolor": "white",
                        "linecolor": "white",
                        "ticks": ""
                      }
                    },
                    "scene": {
                      "xaxis": {
                        "backgroundcolor": "#E5ECF6",
                        "gridcolor": "white",
                        "gridwidth": 2,
                        "linecolor": "white",
                        "showbackground": true,
                        "ticks": "",
                        "zerolinecolor": "white"
                      },
                      "yaxis": {
                        "backgroundcolor": "#E5ECF6",
                        "gridcolor": "white",
                        "gridwidth": 2,
                        "linecolor": "white",
                        "showbackground": true,
                        "ticks": "",
                        "zerolinecolor": "white"
                      },
                      "zaxis": {
                        "backgroundcolor": "#E5ECF6",
                        "gridcolor": "white",
                        "gridwidth": 2,
                        "linecolor": "white",
                        "showbackground": true,
                        "ticks": "",
                        "zerolinecolor": "white"
                      }
                    },
                    "shapedefaults": {
                      "line": {
                        "color": "#2a3f5f"
                      }
                    },
                    "ternary": {
                      "aaxis": {
                        "gridcolor": "white",
                        "linecolor": "white",
                        "ticks": ""
                      },
                      "baxis": {
                        "gridcolor": "white",
                        "linecolor": "white",
                        "ticks": ""
                      },
                      "bgcolor": "#E5ECF6",
                      "caxis": {
                        "gridcolor": "white",
                        "linecolor": "white",
                        "ticks": ""
                      }
                    },
                    "title": {
                      "x": 0.05
                    },
                    "xaxis": {
                      "automargin": true,
                      "gridcolor": "white",
                      "linecolor": "white",
                      "ticks": "",
                      "title": {
                        "standoff": 15
                      },
                      "zerolinecolor": "white",
                      "zerolinewidth": 2
                    },
                    "yaxis": {
                      "automargin": true,
                      "gridcolor": "white",
                      "linecolor": "white",
                      "ticks": "",
                      "title": {
                        "standoff": 15
                      },
                      "zerolinecolor": "white",
                      "zerolinewidth": 2
                    }
                  }
                }
              }
            }
          },
          "metadata": {},
          "output_type": "display_data"
        }
      ],
      "source": [
        "fig = px.scatter_3d(df_scores, x='PC1', y='PC2', z='PC3',\n",
        "              color='Country.Name',\n",
        "              symbol='Country.Name',\n",
        "              opacity=0.5)\n",
        "\n",
        "# tight layout\n",
        "fig.update_layout(margin=dict(l=0, r=0, b=0, t=0))\n",
        "\n",
        "# https://plotly.com/python/templates/\n",
        "#fig.update_layout(template='plotly_white') # \"plotly\", \"plotly_white\", \"plotly_dark\", \"ggplot2\", \"seaborn\", \"simple_white\", \"none\""
      ]
    },
    {
      "attachments": {},
      "cell_type": "markdown",
      "metadata": {
        "colab_type": "text",
        "id": "ZtIDXw_AfOwW"
      },
      "source": [
        "## **5. Loadings Plot**"
      ]
    },
    {
      "cell_type": "code",
      "execution_count": 28,
      "metadata": {
        "colab": {
          "base_uri": "https://localhost:8080/",
          "height": 542
        },
        "colab_type": "code",
        "id": "zLT3HjU0fRj3",
        "outputId": "bd99a07c-8fb8-43d4-b185-93b9a8f8c3a4"
      },
      "outputs": [
        {
          "data": {
            "application/vnd.plotly.v1+json": {
              "config": {
                "plotlyServerURL": "https://plot.ly"
              },
              "data": [
                {
                  "hovertemplate": "PC1=%{x}<br>PC2=%{y}<br>PC3=%{z}<br>index=%{text}<extra></extra>",
                  "legendgroup": "",
                  "marker": {
                    "color": "#636efa",
                    "symbol": "circle"
                  },
                  "mode": "markers+text",
                  "name": "",
                  "scene": "scene",
                  "showlegend": false,
                  "text": [
                    "agriculture",
                    "femalemanager",
                    "femaleminister",
                    "femaleparliament",
                    "carework",
                    "cleanfuel",
                    "corruption",
                    "electricity",
                    "exports",
                    "fdi",
                    "fossil",
                    "gdppercap",
                    "gnipercap",
                    "goveffectiveness",
                    "grosscapital",
                    "grosscapitalprivate",
                    "industry",
                    "internet",
                    "militaryexpenditure",
                    "mobilecellular",
                    "netmigration",
                    "outofpocket",
                    "outofschool",
                    "research",
                    "resourcerents",
                    "savings",
                    "selfemployed",
                    "services",
                    "trade",
                    "transportquality",
                    "unemployed",
                    "urbanlevel",
                    "urbanrate",
                    "wageworker"
                  ],
                  "type": "scatter3d",
                  "x": [
                    -0.2537989009763988,
                    0.03438680499299614,
                    0.07832600824392073,
                    0.05400375394289667,
                    -0.008363294332407066,
                    0.26575968826067214,
                    0.2507435369597604,
                    0.2525997906425372,
                    0.167621170351303,
                    0.03496865677031954,
                    -0.01545337166759446,
                    0.25671881299134836,
                    0.24376073043934712,
                    0.27662859437598825,
                    -0.03275961389147807,
                    0.011720422508863852,
                    0.006505532640419321,
                    0.29176423539139734,
                    0.010904317020087246,
                    0.20470636537510425,
                    0.08799647012841595,
                    -0.13578423646616264,
                    -0.1452283907098603,
                    0,
                    -0.10942343626211619,
                    0.0626582558164993,
                    -0.28730301986875095,
                    0.20678668781772716,
                    0.14191120723685674,
                    0,
                    0.03918669755411898,
                    0.2258961168957841,
                    -0.1563484164765173,
                    0.2873030130758274
                  ],
                  "y": [
                    -0.06061912808375582,
                    0.052363533365418304,
                    -0.2371781727076822,
                    -0.13709330780786852,
                    -0.054752503898324374,
                    0.063854734805573,
                    -0.09232338435126436,
                    0.04853196769435655,
                    -0.0003162303880504722,
                    -0.059815592469951426,
                    0.06032244674543258,
                    0.07008459688687234,
                    0.05817375204476298,
                    -0.019441634085810174,
                    0.4240833626522346,
                    0.29567228533490314,
                    0.4362964615479423,
                    -0.003506401787960131,
                    0.25227648976524525,
                    0.11936257694865145,
                    0.09995707299640313,
                    -0.01001533813788153,
                    -0.06281986545477962,
                    -3.944304526105059e-31,
                    0.3118445810328576,
                    0.34628610258072623,
                    -0.04732436660389933,
                    -0.23250709200686429,
                    -0.008057873636973552,
                    0,
                    -0.11105324947979704,
                    0.05450430283538789,
                    0.20989838949881034,
                    0.04732459687903403
                  ],
                  "z": [
                    0.113085945455801,
                    -0.10727443247571536,
                    0.43047936174800594,
                    0.3207671869882544,
                    -0.12895035964735657,
                    -0.17546363122953146,
                    0.2615572442162361,
                    -0.21542241266654844,
                    -0.00844688834070822,
                    0.10969183465168642,
                    -0.2189816293993959,
                    0.11792827610242398,
                    0.11064771812434195,
                    0.19131030151228964,
                    0.24883929904953592,
                    0.21505547899913577,
                    -0.10092395082953132,
                    -0.005039372150626539,
                    -0.21887438887735938,
                    -0.07674391973987353,
                    0.14191188274457942,
                    -0.22083248527453866,
                    -0.028613032498158476,
                    4.1359030627651384e-25,
                    0.03185092716424619,
                    0.19909255312772137,
                    0.13155025491224054,
                    -0.006372747183655375,
                    -0.0008799393895679939,
                    -1.5777218104420236e-30,
                    -0.21379386111458284,
                    -0.0680767108171191,
                    0.18684420801201568,
                    -0.13154993916423352
                  ]
                }
              ],
              "layout": {
                "legend": {
                  "tracegroupgap": 0
                },
                "margin": {
                  "t": 60
                },
                "scene": {
                  "domain": {
                    "x": [
                      0,
                      1
                    ],
                    "y": [
                      0,
                      1
                    ]
                  },
                  "xaxis": {
                    "title": {
                      "text": "PC1"
                    }
                  },
                  "yaxis": {
                    "title": {
                      "text": "PC2"
                    }
                  },
                  "zaxis": {
                    "title": {
                      "text": "PC3"
                    }
                  }
                },
                "template": {
                  "data": {
                    "bar": [
                      {
                        "error_x": {
                          "color": "#2a3f5f"
                        },
                        "error_y": {
                          "color": "#2a3f5f"
                        },
                        "marker": {
                          "line": {
                            "color": "#E5ECF6",
                            "width": 0.5
                          },
                          "pattern": {
                            "fillmode": "overlay",
                            "size": 10,
                            "solidity": 0.2
                          }
                        },
                        "type": "bar"
                      }
                    ],
                    "barpolar": [
                      {
                        "marker": {
                          "line": {
                            "color": "#E5ECF6",
                            "width": 0.5
                          },
                          "pattern": {
                            "fillmode": "overlay",
                            "size": 10,
                            "solidity": 0.2
                          }
                        },
                        "type": "barpolar"
                      }
                    ],
                    "carpet": [
                      {
                        "aaxis": {
                          "endlinecolor": "#2a3f5f",
                          "gridcolor": "white",
                          "linecolor": "white",
                          "minorgridcolor": "white",
                          "startlinecolor": "#2a3f5f"
                        },
                        "baxis": {
                          "endlinecolor": "#2a3f5f",
                          "gridcolor": "white",
                          "linecolor": "white",
                          "minorgridcolor": "white",
                          "startlinecolor": "#2a3f5f"
                        },
                        "type": "carpet"
                      }
                    ],
                    "choropleth": [
                      {
                        "colorbar": {
                          "outlinewidth": 0,
                          "ticks": ""
                        },
                        "type": "choropleth"
                      }
                    ],
                    "contour": [
                      {
                        "colorbar": {
                          "outlinewidth": 0,
                          "ticks": ""
                        },
                        "colorscale": [
                          [
                            0,
                            "#0d0887"
                          ],
                          [
                            0.1111111111111111,
                            "#46039f"
                          ],
                          [
                            0.2222222222222222,
                            "#7201a8"
                          ],
                          [
                            0.3333333333333333,
                            "#9c179e"
                          ],
                          [
                            0.4444444444444444,
                            "#bd3786"
                          ],
                          [
                            0.5555555555555556,
                            "#d8576b"
                          ],
                          [
                            0.6666666666666666,
                            "#ed7953"
                          ],
                          [
                            0.7777777777777778,
                            "#fb9f3a"
                          ],
                          [
                            0.8888888888888888,
                            "#fdca26"
                          ],
                          [
                            1,
                            "#f0f921"
                          ]
                        ],
                        "type": "contour"
                      }
                    ],
                    "contourcarpet": [
                      {
                        "colorbar": {
                          "outlinewidth": 0,
                          "ticks": ""
                        },
                        "type": "contourcarpet"
                      }
                    ],
                    "heatmap": [
                      {
                        "colorbar": {
                          "outlinewidth": 0,
                          "ticks": ""
                        },
                        "colorscale": [
                          [
                            0,
                            "#0d0887"
                          ],
                          [
                            0.1111111111111111,
                            "#46039f"
                          ],
                          [
                            0.2222222222222222,
                            "#7201a8"
                          ],
                          [
                            0.3333333333333333,
                            "#9c179e"
                          ],
                          [
                            0.4444444444444444,
                            "#bd3786"
                          ],
                          [
                            0.5555555555555556,
                            "#d8576b"
                          ],
                          [
                            0.6666666666666666,
                            "#ed7953"
                          ],
                          [
                            0.7777777777777778,
                            "#fb9f3a"
                          ],
                          [
                            0.8888888888888888,
                            "#fdca26"
                          ],
                          [
                            1,
                            "#f0f921"
                          ]
                        ],
                        "type": "heatmap"
                      }
                    ],
                    "heatmapgl": [
                      {
                        "colorbar": {
                          "outlinewidth": 0,
                          "ticks": ""
                        },
                        "colorscale": [
                          [
                            0,
                            "#0d0887"
                          ],
                          [
                            0.1111111111111111,
                            "#46039f"
                          ],
                          [
                            0.2222222222222222,
                            "#7201a8"
                          ],
                          [
                            0.3333333333333333,
                            "#9c179e"
                          ],
                          [
                            0.4444444444444444,
                            "#bd3786"
                          ],
                          [
                            0.5555555555555556,
                            "#d8576b"
                          ],
                          [
                            0.6666666666666666,
                            "#ed7953"
                          ],
                          [
                            0.7777777777777778,
                            "#fb9f3a"
                          ],
                          [
                            0.8888888888888888,
                            "#fdca26"
                          ],
                          [
                            1,
                            "#f0f921"
                          ]
                        ],
                        "type": "heatmapgl"
                      }
                    ],
                    "histogram": [
                      {
                        "marker": {
                          "pattern": {
                            "fillmode": "overlay",
                            "size": 10,
                            "solidity": 0.2
                          }
                        },
                        "type": "histogram"
                      }
                    ],
                    "histogram2d": [
                      {
                        "colorbar": {
                          "outlinewidth": 0,
                          "ticks": ""
                        },
                        "colorscale": [
                          [
                            0,
                            "#0d0887"
                          ],
                          [
                            0.1111111111111111,
                            "#46039f"
                          ],
                          [
                            0.2222222222222222,
                            "#7201a8"
                          ],
                          [
                            0.3333333333333333,
                            "#9c179e"
                          ],
                          [
                            0.4444444444444444,
                            "#bd3786"
                          ],
                          [
                            0.5555555555555556,
                            "#d8576b"
                          ],
                          [
                            0.6666666666666666,
                            "#ed7953"
                          ],
                          [
                            0.7777777777777778,
                            "#fb9f3a"
                          ],
                          [
                            0.8888888888888888,
                            "#fdca26"
                          ],
                          [
                            1,
                            "#f0f921"
                          ]
                        ],
                        "type": "histogram2d"
                      }
                    ],
                    "histogram2dcontour": [
                      {
                        "colorbar": {
                          "outlinewidth": 0,
                          "ticks": ""
                        },
                        "colorscale": [
                          [
                            0,
                            "#0d0887"
                          ],
                          [
                            0.1111111111111111,
                            "#46039f"
                          ],
                          [
                            0.2222222222222222,
                            "#7201a8"
                          ],
                          [
                            0.3333333333333333,
                            "#9c179e"
                          ],
                          [
                            0.4444444444444444,
                            "#bd3786"
                          ],
                          [
                            0.5555555555555556,
                            "#d8576b"
                          ],
                          [
                            0.6666666666666666,
                            "#ed7953"
                          ],
                          [
                            0.7777777777777778,
                            "#fb9f3a"
                          ],
                          [
                            0.8888888888888888,
                            "#fdca26"
                          ],
                          [
                            1,
                            "#f0f921"
                          ]
                        ],
                        "type": "histogram2dcontour"
                      }
                    ],
                    "mesh3d": [
                      {
                        "colorbar": {
                          "outlinewidth": 0,
                          "ticks": ""
                        },
                        "type": "mesh3d"
                      }
                    ],
                    "parcoords": [
                      {
                        "line": {
                          "colorbar": {
                            "outlinewidth": 0,
                            "ticks": ""
                          }
                        },
                        "type": "parcoords"
                      }
                    ],
                    "pie": [
                      {
                        "automargin": true,
                        "type": "pie"
                      }
                    ],
                    "scatter": [
                      {
                        "fillpattern": {
                          "fillmode": "overlay",
                          "size": 10,
                          "solidity": 0.2
                        },
                        "type": "scatter"
                      }
                    ],
                    "scatter3d": [
                      {
                        "line": {
                          "colorbar": {
                            "outlinewidth": 0,
                            "ticks": ""
                          }
                        },
                        "marker": {
                          "colorbar": {
                            "outlinewidth": 0,
                            "ticks": ""
                          }
                        },
                        "type": "scatter3d"
                      }
                    ],
                    "scattercarpet": [
                      {
                        "marker": {
                          "colorbar": {
                            "outlinewidth": 0,
                            "ticks": ""
                          }
                        },
                        "type": "scattercarpet"
                      }
                    ],
                    "scattergeo": [
                      {
                        "marker": {
                          "colorbar": {
                            "outlinewidth": 0,
                            "ticks": ""
                          }
                        },
                        "type": "scattergeo"
                      }
                    ],
                    "scattergl": [
                      {
                        "marker": {
                          "colorbar": {
                            "outlinewidth": 0,
                            "ticks": ""
                          }
                        },
                        "type": "scattergl"
                      }
                    ],
                    "scattermapbox": [
                      {
                        "marker": {
                          "colorbar": {
                            "outlinewidth": 0,
                            "ticks": ""
                          }
                        },
                        "type": "scattermapbox"
                      }
                    ],
                    "scatterpolar": [
                      {
                        "marker": {
                          "colorbar": {
                            "outlinewidth": 0,
                            "ticks": ""
                          }
                        },
                        "type": "scatterpolar"
                      }
                    ],
                    "scatterpolargl": [
                      {
                        "marker": {
                          "colorbar": {
                            "outlinewidth": 0,
                            "ticks": ""
                          }
                        },
                        "type": "scatterpolargl"
                      }
                    ],
                    "scatterternary": [
                      {
                        "marker": {
                          "colorbar": {
                            "outlinewidth": 0,
                            "ticks": ""
                          }
                        },
                        "type": "scatterternary"
                      }
                    ],
                    "surface": [
                      {
                        "colorbar": {
                          "outlinewidth": 0,
                          "ticks": ""
                        },
                        "colorscale": [
                          [
                            0,
                            "#0d0887"
                          ],
                          [
                            0.1111111111111111,
                            "#46039f"
                          ],
                          [
                            0.2222222222222222,
                            "#7201a8"
                          ],
                          [
                            0.3333333333333333,
                            "#9c179e"
                          ],
                          [
                            0.4444444444444444,
                            "#bd3786"
                          ],
                          [
                            0.5555555555555556,
                            "#d8576b"
                          ],
                          [
                            0.6666666666666666,
                            "#ed7953"
                          ],
                          [
                            0.7777777777777778,
                            "#fb9f3a"
                          ],
                          [
                            0.8888888888888888,
                            "#fdca26"
                          ],
                          [
                            1,
                            "#f0f921"
                          ]
                        ],
                        "type": "surface"
                      }
                    ],
                    "table": [
                      {
                        "cells": {
                          "fill": {
                            "color": "#EBF0F8"
                          },
                          "line": {
                            "color": "white"
                          }
                        },
                        "header": {
                          "fill": {
                            "color": "#C8D4E3"
                          },
                          "line": {
                            "color": "white"
                          }
                        },
                        "type": "table"
                      }
                    ]
                  },
                  "layout": {
                    "annotationdefaults": {
                      "arrowcolor": "#2a3f5f",
                      "arrowhead": 0,
                      "arrowwidth": 1
                    },
                    "autotypenumbers": "strict",
                    "coloraxis": {
                      "colorbar": {
                        "outlinewidth": 0,
                        "ticks": ""
                      }
                    },
                    "colorscale": {
                      "diverging": [
                        [
                          0,
                          "#8e0152"
                        ],
                        [
                          0.1,
                          "#c51b7d"
                        ],
                        [
                          0.2,
                          "#de77ae"
                        ],
                        [
                          0.3,
                          "#f1b6da"
                        ],
                        [
                          0.4,
                          "#fde0ef"
                        ],
                        [
                          0.5,
                          "#f7f7f7"
                        ],
                        [
                          0.6,
                          "#e6f5d0"
                        ],
                        [
                          0.7,
                          "#b8e186"
                        ],
                        [
                          0.8,
                          "#7fbc41"
                        ],
                        [
                          0.9,
                          "#4d9221"
                        ],
                        [
                          1,
                          "#276419"
                        ]
                      ],
                      "sequential": [
                        [
                          0,
                          "#0d0887"
                        ],
                        [
                          0.1111111111111111,
                          "#46039f"
                        ],
                        [
                          0.2222222222222222,
                          "#7201a8"
                        ],
                        [
                          0.3333333333333333,
                          "#9c179e"
                        ],
                        [
                          0.4444444444444444,
                          "#bd3786"
                        ],
                        [
                          0.5555555555555556,
                          "#d8576b"
                        ],
                        [
                          0.6666666666666666,
                          "#ed7953"
                        ],
                        [
                          0.7777777777777778,
                          "#fb9f3a"
                        ],
                        [
                          0.8888888888888888,
                          "#fdca26"
                        ],
                        [
                          1,
                          "#f0f921"
                        ]
                      ],
                      "sequentialminus": [
                        [
                          0,
                          "#0d0887"
                        ],
                        [
                          0.1111111111111111,
                          "#46039f"
                        ],
                        [
                          0.2222222222222222,
                          "#7201a8"
                        ],
                        [
                          0.3333333333333333,
                          "#9c179e"
                        ],
                        [
                          0.4444444444444444,
                          "#bd3786"
                        ],
                        [
                          0.5555555555555556,
                          "#d8576b"
                        ],
                        [
                          0.6666666666666666,
                          "#ed7953"
                        ],
                        [
                          0.7777777777777778,
                          "#fb9f3a"
                        ],
                        [
                          0.8888888888888888,
                          "#fdca26"
                        ],
                        [
                          1,
                          "#f0f921"
                        ]
                      ]
                    },
                    "colorway": [
                      "#636efa",
                      "#EF553B",
                      "#00cc96",
                      "#ab63fa",
                      "#FFA15A",
                      "#19d3f3",
                      "#FF6692",
                      "#B6E880",
                      "#FF97FF",
                      "#FECB52"
                    ],
                    "font": {
                      "color": "#2a3f5f"
                    },
                    "geo": {
                      "bgcolor": "white",
                      "lakecolor": "white",
                      "landcolor": "#E5ECF6",
                      "showlakes": true,
                      "showland": true,
                      "subunitcolor": "white"
                    },
                    "hoverlabel": {
                      "align": "left"
                    },
                    "hovermode": "closest",
                    "mapbox": {
                      "style": "light"
                    },
                    "paper_bgcolor": "white",
                    "plot_bgcolor": "#E5ECF6",
                    "polar": {
                      "angularaxis": {
                        "gridcolor": "white",
                        "linecolor": "white",
                        "ticks": ""
                      },
                      "bgcolor": "#E5ECF6",
                      "radialaxis": {
                        "gridcolor": "white",
                        "linecolor": "white",
                        "ticks": ""
                      }
                    },
                    "scene": {
                      "xaxis": {
                        "backgroundcolor": "#E5ECF6",
                        "gridcolor": "white",
                        "gridwidth": 2,
                        "linecolor": "white",
                        "showbackground": true,
                        "ticks": "",
                        "zerolinecolor": "white"
                      },
                      "yaxis": {
                        "backgroundcolor": "#E5ECF6",
                        "gridcolor": "white",
                        "gridwidth": 2,
                        "linecolor": "white",
                        "showbackground": true,
                        "ticks": "",
                        "zerolinecolor": "white"
                      },
                      "zaxis": {
                        "backgroundcolor": "#E5ECF6",
                        "gridcolor": "white",
                        "gridwidth": 2,
                        "linecolor": "white",
                        "showbackground": true,
                        "ticks": "",
                        "zerolinecolor": "white"
                      }
                    },
                    "shapedefaults": {
                      "line": {
                        "color": "#2a3f5f"
                      }
                    },
                    "ternary": {
                      "aaxis": {
                        "gridcolor": "white",
                        "linecolor": "white",
                        "ticks": ""
                      },
                      "baxis": {
                        "gridcolor": "white",
                        "linecolor": "white",
                        "ticks": ""
                      },
                      "bgcolor": "#E5ECF6",
                      "caxis": {
                        "gridcolor": "white",
                        "linecolor": "white",
                        "ticks": ""
                      }
                    },
                    "title": {
                      "x": 0.05
                    },
                    "xaxis": {
                      "automargin": true,
                      "gridcolor": "white",
                      "linecolor": "white",
                      "ticks": "",
                      "title": {
                        "standoff": 15
                      },
                      "zerolinecolor": "white",
                      "zerolinewidth": 2
                    },
                    "yaxis": {
                      "automargin": true,
                      "gridcolor": "white",
                      "linecolor": "white",
                      "ticks": "",
                      "title": {
                        "standoff": 15
                      },
                      "zerolinecolor": "white",
                      "zerolinewidth": 2
                    }
                  }
                }
              }
            }
          },
          "metadata": {},
          "output_type": "display_data"
        }
      ],
      "source": [
        "loadings_label = df_loadings.index\n",
        "\n",
        "fig = px.scatter_3d(df_loadings, x='PC1', y='PC2', z='PC3',\n",
        "                    text = loadings_label)\n",
        "\n",
        "fig.show()"
      ]
    },
    {
      "cell_type": "code",
      "execution_count": 29,
      "metadata": {},
      "outputs": [
        {
          "data": {
            "application/vnd.plotly.v1+json": {
              "config": {
                "plotlyServerURL": "https://plot.ly"
              },
              "data": [
                {
                  "marker": {
                    "size": 3
                  },
                  "mode": "markers+text",
                  "name": "markers",
                  "text": [
                    "agriculture",
                    "femalemanager",
                    "femaleminister",
                    "femaleparliament",
                    "carework",
                    "cleanfuel",
                    "corruption",
                    "electricity",
                    "exports",
                    "fdi",
                    "fossil",
                    "gdppercap",
                    "gnipercap",
                    "goveffectiveness",
                    "grosscapital",
                    "grosscapitalprivate",
                    "industry",
                    "internet",
                    "militaryexpenditure",
                    "mobilecellular",
                    "netmigration",
                    "outofpocket",
                    "outofschool",
                    "research",
                    "resourcerents",
                    "savings",
                    "selfemployed",
                    "services",
                    "trade",
                    "transportquality",
                    "unemployed",
                    "urbanlevel",
                    "urbanrate",
                    "wageworker"
                  ],
                  "textposition": "top center",
                  "type": "scatter3d",
                  "x": [
                    -0.2537989009763988,
                    0.03438680499299614,
                    0.07832600824392073,
                    0.05400375394289667,
                    -0.008363294332407066,
                    0.26575968826067214,
                    0.2507435369597604,
                    0.2525997906425372,
                    0.167621170351303,
                    0.03496865677031954,
                    -0.01545337166759446,
                    0.25671881299134836,
                    0.24376073043934712,
                    0.27662859437598825,
                    -0.03275961389147807,
                    0.011720422508863852,
                    0.006505532640419321,
                    0.29176423539139734,
                    0.010904317020087246,
                    0.20470636537510425,
                    0.08799647012841595,
                    -0.13578423646616264,
                    -0.1452283907098603,
                    0,
                    -0.10942343626211619,
                    0.0626582558164993,
                    -0.28730301986875095,
                    0.20678668781772716,
                    0.14191120723685674,
                    0,
                    0.03918669755411898,
                    0.2258961168957841,
                    -0.1563484164765173,
                    0.2873030130758274
                  ],
                  "y": [
                    -0.06061912808375582,
                    0.052363533365418304,
                    -0.2371781727076822,
                    -0.13709330780786852,
                    -0.054752503898324374,
                    0.063854734805573,
                    -0.09232338435126436,
                    0.04853196769435655,
                    -0.0003162303880504722,
                    -0.059815592469951426,
                    0.06032244674543258,
                    0.07008459688687234,
                    0.05817375204476298,
                    -0.019441634085810174,
                    0.4240833626522346,
                    0.29567228533490314,
                    0.4362964615479423,
                    -0.003506401787960131,
                    0.25227648976524525,
                    0.11936257694865145,
                    0.09995707299640313,
                    -0.01001533813788153,
                    -0.06281986545477962,
                    -3.944304526105059e-31,
                    0.3118445810328576,
                    0.34628610258072623,
                    -0.04732436660389933,
                    -0.23250709200686429,
                    -0.008057873636973552,
                    0,
                    -0.11105324947979704,
                    0.05450430283538789,
                    0.20989838949881034,
                    0.04732459687903403
                  ],
                  "z": [
                    0.113085945455801,
                    -0.10727443247571536,
                    0.43047936174800594,
                    0.3207671869882544,
                    -0.12895035964735657,
                    -0.17546363122953146,
                    0.2615572442162361,
                    -0.21542241266654844,
                    -0.00844688834070822,
                    0.10969183465168642,
                    -0.2189816293993959,
                    0.11792827610242398,
                    0.11064771812434195,
                    0.19131030151228964,
                    0.24883929904953592,
                    0.21505547899913577,
                    -0.10092395082953132,
                    -0.005039372150626539,
                    -0.21887438887735938,
                    -0.07674391973987353,
                    0.14191188274457942,
                    -0.22083248527453866,
                    -0.028613032498158476,
                    4.1359030627651384e-25,
                    0.03185092716424619,
                    0.19909255312772137,
                    0.13155025491224054,
                    -0.006372747183655375,
                    -0.0008799393895679939,
                    -1.5777218104420236e-30,
                    -0.21379386111458284,
                    -0.0680767108171191,
                    0.18684420801201568,
                    -0.13154993916423352
                  ]
                },
                {
                  "line": {
                    "color": "red",
                    "width": 1
                  },
                  "marker": {
                    "size": 3
                  },
                  "mode": "lines",
                  "type": "scatter3d",
                  "x": [
                    0,
                    -0.2537989009763988
                  ],
                  "y": [
                    0,
                    -0.06061912808375582
                  ],
                  "z": [
                    0,
                    0.113085945455801
                  ]
                },
                {
                  "line": {
                    "color": "red",
                    "width": 1
                  },
                  "marker": {
                    "size": 3
                  },
                  "mode": "lines",
                  "type": "scatter3d",
                  "x": [
                    0,
                    0.03438680499299614
                  ],
                  "y": [
                    0,
                    0.052363533365418304
                  ],
                  "z": [
                    0,
                    -0.10727443247571536
                  ]
                },
                {
                  "line": {
                    "color": "red",
                    "width": 1
                  },
                  "marker": {
                    "size": 3
                  },
                  "mode": "lines",
                  "type": "scatter3d",
                  "x": [
                    0,
                    0.07832600824392073
                  ],
                  "y": [
                    0,
                    -0.2371781727076822
                  ],
                  "z": [
                    0,
                    0.43047936174800594
                  ]
                },
                {
                  "line": {
                    "color": "red",
                    "width": 1
                  },
                  "marker": {
                    "size": 3
                  },
                  "mode": "lines",
                  "type": "scatter3d",
                  "x": [
                    0,
                    0.05400375394289667
                  ],
                  "y": [
                    0,
                    -0.13709330780786852
                  ],
                  "z": [
                    0,
                    0.3207671869882544
                  ]
                },
                {
                  "line": {
                    "color": "red",
                    "width": 1
                  },
                  "marker": {
                    "size": 3
                  },
                  "mode": "lines",
                  "type": "scatter3d",
                  "x": [
                    0,
                    -0.008363294332407066
                  ],
                  "y": [
                    0,
                    -0.054752503898324374
                  ],
                  "z": [
                    0,
                    -0.12895035964735657
                  ]
                },
                {
                  "line": {
                    "color": "red",
                    "width": 1
                  },
                  "marker": {
                    "size": 3
                  },
                  "mode": "lines",
                  "type": "scatter3d",
                  "x": [
                    0,
                    0.26575968826067214
                  ],
                  "y": [
                    0,
                    0.063854734805573
                  ],
                  "z": [
                    0,
                    -0.17546363122953146
                  ]
                },
                {
                  "line": {
                    "color": "red",
                    "width": 1
                  },
                  "marker": {
                    "size": 3
                  },
                  "mode": "lines",
                  "type": "scatter3d",
                  "x": [
                    0,
                    0.2507435369597604
                  ],
                  "y": [
                    0,
                    -0.09232338435126436
                  ],
                  "z": [
                    0,
                    0.2615572442162361
                  ]
                },
                {
                  "line": {
                    "color": "red",
                    "width": 1
                  },
                  "marker": {
                    "size": 3
                  },
                  "mode": "lines",
                  "type": "scatter3d",
                  "x": [
                    0,
                    0.2525997906425372
                  ],
                  "y": [
                    0,
                    0.04853196769435655
                  ],
                  "z": [
                    0,
                    -0.21542241266654844
                  ]
                },
                {
                  "line": {
                    "color": "red",
                    "width": 1
                  },
                  "marker": {
                    "size": 3
                  },
                  "mode": "lines",
                  "type": "scatter3d",
                  "x": [
                    0,
                    0.167621170351303
                  ],
                  "y": [
                    0,
                    -0.0003162303880504722
                  ],
                  "z": [
                    0,
                    -0.00844688834070822
                  ]
                },
                {
                  "line": {
                    "color": "red",
                    "width": 1
                  },
                  "marker": {
                    "size": 3
                  },
                  "mode": "lines",
                  "type": "scatter3d",
                  "x": [
                    0,
                    0.03496865677031954
                  ],
                  "y": [
                    0,
                    -0.059815592469951426
                  ],
                  "z": [
                    0,
                    0.10969183465168642
                  ]
                },
                {
                  "line": {
                    "color": "red",
                    "width": 1
                  },
                  "marker": {
                    "size": 3
                  },
                  "mode": "lines",
                  "type": "scatter3d",
                  "x": [
                    0,
                    -0.01545337166759446
                  ],
                  "y": [
                    0,
                    0.06032244674543258
                  ],
                  "z": [
                    0,
                    -0.2189816293993959
                  ]
                },
                {
                  "line": {
                    "color": "red",
                    "width": 1
                  },
                  "marker": {
                    "size": 3
                  },
                  "mode": "lines",
                  "type": "scatter3d",
                  "x": [
                    0,
                    0.25671881299134836
                  ],
                  "y": [
                    0,
                    0.07008459688687234
                  ],
                  "z": [
                    0,
                    0.11792827610242398
                  ]
                },
                {
                  "line": {
                    "color": "red",
                    "width": 1
                  },
                  "marker": {
                    "size": 3
                  },
                  "mode": "lines",
                  "type": "scatter3d",
                  "x": [
                    0,
                    0.24376073043934712
                  ],
                  "y": [
                    0,
                    0.05817375204476298
                  ],
                  "z": [
                    0,
                    0.11064771812434195
                  ]
                },
                {
                  "line": {
                    "color": "red",
                    "width": 1
                  },
                  "marker": {
                    "size": 3
                  },
                  "mode": "lines",
                  "type": "scatter3d",
                  "x": [
                    0,
                    0.27662859437598825
                  ],
                  "y": [
                    0,
                    -0.019441634085810174
                  ],
                  "z": [
                    0,
                    0.19131030151228964
                  ]
                },
                {
                  "line": {
                    "color": "red",
                    "width": 1
                  },
                  "marker": {
                    "size": 3
                  },
                  "mode": "lines",
                  "type": "scatter3d",
                  "x": [
                    0,
                    -0.03275961389147807
                  ],
                  "y": [
                    0,
                    0.4240833626522346
                  ],
                  "z": [
                    0,
                    0.24883929904953592
                  ]
                },
                {
                  "line": {
                    "color": "red",
                    "width": 1
                  },
                  "marker": {
                    "size": 3
                  },
                  "mode": "lines",
                  "type": "scatter3d",
                  "x": [
                    0,
                    0.011720422508863852
                  ],
                  "y": [
                    0,
                    0.29567228533490314
                  ],
                  "z": [
                    0,
                    0.21505547899913577
                  ]
                },
                {
                  "line": {
                    "color": "red",
                    "width": 1
                  },
                  "marker": {
                    "size": 3
                  },
                  "mode": "lines",
                  "type": "scatter3d",
                  "x": [
                    0,
                    0.006505532640419321
                  ],
                  "y": [
                    0,
                    0.4362964615479423
                  ],
                  "z": [
                    0,
                    -0.10092395082953132
                  ]
                },
                {
                  "line": {
                    "color": "red",
                    "width": 1
                  },
                  "marker": {
                    "size": 3
                  },
                  "mode": "lines",
                  "type": "scatter3d",
                  "x": [
                    0,
                    0.29176423539139734
                  ],
                  "y": [
                    0,
                    -0.003506401787960131
                  ],
                  "z": [
                    0,
                    -0.005039372150626539
                  ]
                },
                {
                  "line": {
                    "color": "red",
                    "width": 1
                  },
                  "marker": {
                    "size": 3
                  },
                  "mode": "lines",
                  "type": "scatter3d",
                  "x": [
                    0,
                    0.010904317020087246
                  ],
                  "y": [
                    0,
                    0.25227648976524525
                  ],
                  "z": [
                    0,
                    -0.21887438887735938
                  ]
                },
                {
                  "line": {
                    "color": "red",
                    "width": 1
                  },
                  "marker": {
                    "size": 3
                  },
                  "mode": "lines",
                  "type": "scatter3d",
                  "x": [
                    0,
                    0.20470636537510425
                  ],
                  "y": [
                    0,
                    0.11936257694865145
                  ],
                  "z": [
                    0,
                    -0.07674391973987353
                  ]
                },
                {
                  "line": {
                    "color": "red",
                    "width": 1
                  },
                  "marker": {
                    "size": 3
                  },
                  "mode": "lines",
                  "type": "scatter3d",
                  "x": [
                    0,
                    0.08799647012841595
                  ],
                  "y": [
                    0,
                    0.09995707299640313
                  ],
                  "z": [
                    0,
                    0.14191188274457942
                  ]
                },
                {
                  "line": {
                    "color": "red",
                    "width": 1
                  },
                  "marker": {
                    "size": 3
                  },
                  "mode": "lines",
                  "type": "scatter3d",
                  "x": [
                    0,
                    -0.13578423646616264
                  ],
                  "y": [
                    0,
                    -0.01001533813788153
                  ],
                  "z": [
                    0,
                    -0.22083248527453866
                  ]
                },
                {
                  "line": {
                    "color": "red",
                    "width": 1
                  },
                  "marker": {
                    "size": 3
                  },
                  "mode": "lines",
                  "type": "scatter3d",
                  "x": [
                    0,
                    -0.1452283907098603
                  ],
                  "y": [
                    0,
                    -0.06281986545477962
                  ],
                  "z": [
                    0,
                    -0.028613032498158476
                  ]
                },
                {
                  "line": {
                    "color": "red",
                    "width": 1
                  },
                  "marker": {
                    "size": 3
                  },
                  "mode": "lines",
                  "type": "scatter3d",
                  "x": [
                    0,
                    0
                  ],
                  "y": [
                    0,
                    -3.944304526105059e-31
                  ],
                  "z": [
                    0,
                    4.1359030627651384e-25
                  ]
                },
                {
                  "line": {
                    "color": "red",
                    "width": 1
                  },
                  "marker": {
                    "size": 3
                  },
                  "mode": "lines",
                  "type": "scatter3d",
                  "x": [
                    0,
                    -0.10942343626211619
                  ],
                  "y": [
                    0,
                    0.3118445810328576
                  ],
                  "z": [
                    0,
                    0.03185092716424619
                  ]
                },
                {
                  "line": {
                    "color": "red",
                    "width": 1
                  },
                  "marker": {
                    "size": 3
                  },
                  "mode": "lines",
                  "type": "scatter3d",
                  "x": [
                    0,
                    0.0626582558164993
                  ],
                  "y": [
                    0,
                    0.34628610258072623
                  ],
                  "z": [
                    0,
                    0.19909255312772137
                  ]
                },
                {
                  "line": {
                    "color": "red",
                    "width": 1
                  },
                  "marker": {
                    "size": 3
                  },
                  "mode": "lines",
                  "type": "scatter3d",
                  "x": [
                    0,
                    -0.28730301986875095
                  ],
                  "y": [
                    0,
                    -0.04732436660389933
                  ],
                  "z": [
                    0,
                    0.13155025491224054
                  ]
                },
                {
                  "line": {
                    "color": "red",
                    "width": 1
                  },
                  "marker": {
                    "size": 3
                  },
                  "mode": "lines",
                  "type": "scatter3d",
                  "x": [
                    0,
                    0.20678668781772716
                  ],
                  "y": [
                    0,
                    -0.23250709200686429
                  ],
                  "z": [
                    0,
                    -0.006372747183655375
                  ]
                },
                {
                  "line": {
                    "color": "red",
                    "width": 1
                  },
                  "marker": {
                    "size": 3
                  },
                  "mode": "lines",
                  "type": "scatter3d",
                  "x": [
                    0,
                    0.14191120723685674
                  ],
                  "y": [
                    0,
                    -0.008057873636973552
                  ],
                  "z": [
                    0,
                    -0.0008799393895679939
                  ]
                },
                {
                  "line": {
                    "color": "red",
                    "width": 1
                  },
                  "marker": {
                    "size": 3
                  },
                  "mode": "lines",
                  "type": "scatter3d",
                  "x": [
                    0,
                    0
                  ],
                  "y": [
                    0,
                    0
                  ],
                  "z": [
                    0,
                    -1.5777218104420236e-30
                  ]
                },
                {
                  "line": {
                    "color": "red",
                    "width": 1
                  },
                  "marker": {
                    "size": 3
                  },
                  "mode": "lines",
                  "type": "scatter3d",
                  "x": [
                    0,
                    0.03918669755411898
                  ],
                  "y": [
                    0,
                    -0.11105324947979704
                  ],
                  "z": [
                    0,
                    -0.21379386111458284
                  ]
                },
                {
                  "line": {
                    "color": "red",
                    "width": 1
                  },
                  "marker": {
                    "size": 3
                  },
                  "mode": "lines",
                  "type": "scatter3d",
                  "x": [
                    0,
                    0.2258961168957841
                  ],
                  "y": [
                    0,
                    0.05450430283538789
                  ],
                  "z": [
                    0,
                    -0.0680767108171191
                  ]
                },
                {
                  "line": {
                    "color": "red",
                    "width": 1
                  },
                  "marker": {
                    "size": 3
                  },
                  "mode": "lines",
                  "type": "scatter3d",
                  "x": [
                    0,
                    -0.1563484164765173
                  ],
                  "y": [
                    0,
                    0.20989838949881034
                  ],
                  "z": [
                    0,
                    0.18684420801201568
                  ]
                },
                {
                  "line": {
                    "color": "red",
                    "width": 1
                  },
                  "marker": {
                    "size": 3
                  },
                  "mode": "lines",
                  "type": "scatter3d",
                  "x": [
                    0,
                    0.2873030130758274
                  ],
                  "y": [
                    0,
                    0.04732459687903403
                  ],
                  "z": [
                    0,
                    -0.13154993916423352
                  ]
                }
              ],
              "layout": {
                "scene": {
                  "xaxis": {
                    "title": {
                      "text": "PC1"
                    }
                  },
                  "yaxis": {
                    "title": {
                      "text": "PC2"
                    }
                  },
                  "zaxis": {
                    "title": {
                      "text": "PC3"
                    }
                  }
                },
                "showlegend": false,
                "template": {
                  "data": {
                    "bar": [
                      {
                        "error_x": {
                          "color": "#2a3f5f"
                        },
                        "error_y": {
                          "color": "#2a3f5f"
                        },
                        "marker": {
                          "line": {
                            "color": "#E5ECF6",
                            "width": 0.5
                          },
                          "pattern": {
                            "fillmode": "overlay",
                            "size": 10,
                            "solidity": 0.2
                          }
                        },
                        "type": "bar"
                      }
                    ],
                    "barpolar": [
                      {
                        "marker": {
                          "line": {
                            "color": "#E5ECF6",
                            "width": 0.5
                          },
                          "pattern": {
                            "fillmode": "overlay",
                            "size": 10,
                            "solidity": 0.2
                          }
                        },
                        "type": "barpolar"
                      }
                    ],
                    "carpet": [
                      {
                        "aaxis": {
                          "endlinecolor": "#2a3f5f",
                          "gridcolor": "white",
                          "linecolor": "white",
                          "minorgridcolor": "white",
                          "startlinecolor": "#2a3f5f"
                        },
                        "baxis": {
                          "endlinecolor": "#2a3f5f",
                          "gridcolor": "white",
                          "linecolor": "white",
                          "minorgridcolor": "white",
                          "startlinecolor": "#2a3f5f"
                        },
                        "type": "carpet"
                      }
                    ],
                    "choropleth": [
                      {
                        "colorbar": {
                          "outlinewidth": 0,
                          "ticks": ""
                        },
                        "type": "choropleth"
                      }
                    ],
                    "contour": [
                      {
                        "colorbar": {
                          "outlinewidth": 0,
                          "ticks": ""
                        },
                        "colorscale": [
                          [
                            0,
                            "#0d0887"
                          ],
                          [
                            0.1111111111111111,
                            "#46039f"
                          ],
                          [
                            0.2222222222222222,
                            "#7201a8"
                          ],
                          [
                            0.3333333333333333,
                            "#9c179e"
                          ],
                          [
                            0.4444444444444444,
                            "#bd3786"
                          ],
                          [
                            0.5555555555555556,
                            "#d8576b"
                          ],
                          [
                            0.6666666666666666,
                            "#ed7953"
                          ],
                          [
                            0.7777777777777778,
                            "#fb9f3a"
                          ],
                          [
                            0.8888888888888888,
                            "#fdca26"
                          ],
                          [
                            1,
                            "#f0f921"
                          ]
                        ],
                        "type": "contour"
                      }
                    ],
                    "contourcarpet": [
                      {
                        "colorbar": {
                          "outlinewidth": 0,
                          "ticks": ""
                        },
                        "type": "contourcarpet"
                      }
                    ],
                    "heatmap": [
                      {
                        "colorbar": {
                          "outlinewidth": 0,
                          "ticks": ""
                        },
                        "colorscale": [
                          [
                            0,
                            "#0d0887"
                          ],
                          [
                            0.1111111111111111,
                            "#46039f"
                          ],
                          [
                            0.2222222222222222,
                            "#7201a8"
                          ],
                          [
                            0.3333333333333333,
                            "#9c179e"
                          ],
                          [
                            0.4444444444444444,
                            "#bd3786"
                          ],
                          [
                            0.5555555555555556,
                            "#d8576b"
                          ],
                          [
                            0.6666666666666666,
                            "#ed7953"
                          ],
                          [
                            0.7777777777777778,
                            "#fb9f3a"
                          ],
                          [
                            0.8888888888888888,
                            "#fdca26"
                          ],
                          [
                            1,
                            "#f0f921"
                          ]
                        ],
                        "type": "heatmap"
                      }
                    ],
                    "heatmapgl": [
                      {
                        "colorbar": {
                          "outlinewidth": 0,
                          "ticks": ""
                        },
                        "colorscale": [
                          [
                            0,
                            "#0d0887"
                          ],
                          [
                            0.1111111111111111,
                            "#46039f"
                          ],
                          [
                            0.2222222222222222,
                            "#7201a8"
                          ],
                          [
                            0.3333333333333333,
                            "#9c179e"
                          ],
                          [
                            0.4444444444444444,
                            "#bd3786"
                          ],
                          [
                            0.5555555555555556,
                            "#d8576b"
                          ],
                          [
                            0.6666666666666666,
                            "#ed7953"
                          ],
                          [
                            0.7777777777777778,
                            "#fb9f3a"
                          ],
                          [
                            0.8888888888888888,
                            "#fdca26"
                          ],
                          [
                            1,
                            "#f0f921"
                          ]
                        ],
                        "type": "heatmapgl"
                      }
                    ],
                    "histogram": [
                      {
                        "marker": {
                          "pattern": {
                            "fillmode": "overlay",
                            "size": 10,
                            "solidity": 0.2
                          }
                        },
                        "type": "histogram"
                      }
                    ],
                    "histogram2d": [
                      {
                        "colorbar": {
                          "outlinewidth": 0,
                          "ticks": ""
                        },
                        "colorscale": [
                          [
                            0,
                            "#0d0887"
                          ],
                          [
                            0.1111111111111111,
                            "#46039f"
                          ],
                          [
                            0.2222222222222222,
                            "#7201a8"
                          ],
                          [
                            0.3333333333333333,
                            "#9c179e"
                          ],
                          [
                            0.4444444444444444,
                            "#bd3786"
                          ],
                          [
                            0.5555555555555556,
                            "#d8576b"
                          ],
                          [
                            0.6666666666666666,
                            "#ed7953"
                          ],
                          [
                            0.7777777777777778,
                            "#fb9f3a"
                          ],
                          [
                            0.8888888888888888,
                            "#fdca26"
                          ],
                          [
                            1,
                            "#f0f921"
                          ]
                        ],
                        "type": "histogram2d"
                      }
                    ],
                    "histogram2dcontour": [
                      {
                        "colorbar": {
                          "outlinewidth": 0,
                          "ticks": ""
                        },
                        "colorscale": [
                          [
                            0,
                            "#0d0887"
                          ],
                          [
                            0.1111111111111111,
                            "#46039f"
                          ],
                          [
                            0.2222222222222222,
                            "#7201a8"
                          ],
                          [
                            0.3333333333333333,
                            "#9c179e"
                          ],
                          [
                            0.4444444444444444,
                            "#bd3786"
                          ],
                          [
                            0.5555555555555556,
                            "#d8576b"
                          ],
                          [
                            0.6666666666666666,
                            "#ed7953"
                          ],
                          [
                            0.7777777777777778,
                            "#fb9f3a"
                          ],
                          [
                            0.8888888888888888,
                            "#fdca26"
                          ],
                          [
                            1,
                            "#f0f921"
                          ]
                        ],
                        "type": "histogram2dcontour"
                      }
                    ],
                    "mesh3d": [
                      {
                        "colorbar": {
                          "outlinewidth": 0,
                          "ticks": ""
                        },
                        "type": "mesh3d"
                      }
                    ],
                    "parcoords": [
                      {
                        "line": {
                          "colorbar": {
                            "outlinewidth": 0,
                            "ticks": ""
                          }
                        },
                        "type": "parcoords"
                      }
                    ],
                    "pie": [
                      {
                        "automargin": true,
                        "type": "pie"
                      }
                    ],
                    "scatter": [
                      {
                        "fillpattern": {
                          "fillmode": "overlay",
                          "size": 10,
                          "solidity": 0.2
                        },
                        "type": "scatter"
                      }
                    ],
                    "scatter3d": [
                      {
                        "line": {
                          "colorbar": {
                            "outlinewidth": 0,
                            "ticks": ""
                          }
                        },
                        "marker": {
                          "colorbar": {
                            "outlinewidth": 0,
                            "ticks": ""
                          }
                        },
                        "type": "scatter3d"
                      }
                    ],
                    "scattercarpet": [
                      {
                        "marker": {
                          "colorbar": {
                            "outlinewidth": 0,
                            "ticks": ""
                          }
                        },
                        "type": "scattercarpet"
                      }
                    ],
                    "scattergeo": [
                      {
                        "marker": {
                          "colorbar": {
                            "outlinewidth": 0,
                            "ticks": ""
                          }
                        },
                        "type": "scattergeo"
                      }
                    ],
                    "scattergl": [
                      {
                        "marker": {
                          "colorbar": {
                            "outlinewidth": 0,
                            "ticks": ""
                          }
                        },
                        "type": "scattergl"
                      }
                    ],
                    "scattermapbox": [
                      {
                        "marker": {
                          "colorbar": {
                            "outlinewidth": 0,
                            "ticks": ""
                          }
                        },
                        "type": "scattermapbox"
                      }
                    ],
                    "scatterpolar": [
                      {
                        "marker": {
                          "colorbar": {
                            "outlinewidth": 0,
                            "ticks": ""
                          }
                        },
                        "type": "scatterpolar"
                      }
                    ],
                    "scatterpolargl": [
                      {
                        "marker": {
                          "colorbar": {
                            "outlinewidth": 0,
                            "ticks": ""
                          }
                        },
                        "type": "scatterpolargl"
                      }
                    ],
                    "scatterternary": [
                      {
                        "marker": {
                          "colorbar": {
                            "outlinewidth": 0,
                            "ticks": ""
                          }
                        },
                        "type": "scatterternary"
                      }
                    ],
                    "surface": [
                      {
                        "colorbar": {
                          "outlinewidth": 0,
                          "ticks": ""
                        },
                        "colorscale": [
                          [
                            0,
                            "#0d0887"
                          ],
                          [
                            0.1111111111111111,
                            "#46039f"
                          ],
                          [
                            0.2222222222222222,
                            "#7201a8"
                          ],
                          [
                            0.3333333333333333,
                            "#9c179e"
                          ],
                          [
                            0.4444444444444444,
                            "#bd3786"
                          ],
                          [
                            0.5555555555555556,
                            "#d8576b"
                          ],
                          [
                            0.6666666666666666,
                            "#ed7953"
                          ],
                          [
                            0.7777777777777778,
                            "#fb9f3a"
                          ],
                          [
                            0.8888888888888888,
                            "#fdca26"
                          ],
                          [
                            1,
                            "#f0f921"
                          ]
                        ],
                        "type": "surface"
                      }
                    ],
                    "table": [
                      {
                        "cells": {
                          "fill": {
                            "color": "#EBF0F8"
                          },
                          "line": {
                            "color": "white"
                          }
                        },
                        "header": {
                          "fill": {
                            "color": "#C8D4E3"
                          },
                          "line": {
                            "color": "white"
                          }
                        },
                        "type": "table"
                      }
                    ]
                  },
                  "layout": {
                    "annotationdefaults": {
                      "arrowcolor": "#2a3f5f",
                      "arrowhead": 0,
                      "arrowwidth": 1
                    },
                    "autotypenumbers": "strict",
                    "coloraxis": {
                      "colorbar": {
                        "outlinewidth": 0,
                        "ticks": ""
                      }
                    },
                    "colorscale": {
                      "diverging": [
                        [
                          0,
                          "#8e0152"
                        ],
                        [
                          0.1,
                          "#c51b7d"
                        ],
                        [
                          0.2,
                          "#de77ae"
                        ],
                        [
                          0.3,
                          "#f1b6da"
                        ],
                        [
                          0.4,
                          "#fde0ef"
                        ],
                        [
                          0.5,
                          "#f7f7f7"
                        ],
                        [
                          0.6,
                          "#e6f5d0"
                        ],
                        [
                          0.7,
                          "#b8e186"
                        ],
                        [
                          0.8,
                          "#7fbc41"
                        ],
                        [
                          0.9,
                          "#4d9221"
                        ],
                        [
                          1,
                          "#276419"
                        ]
                      ],
                      "sequential": [
                        [
                          0,
                          "#0d0887"
                        ],
                        [
                          0.1111111111111111,
                          "#46039f"
                        ],
                        [
                          0.2222222222222222,
                          "#7201a8"
                        ],
                        [
                          0.3333333333333333,
                          "#9c179e"
                        ],
                        [
                          0.4444444444444444,
                          "#bd3786"
                        ],
                        [
                          0.5555555555555556,
                          "#d8576b"
                        ],
                        [
                          0.6666666666666666,
                          "#ed7953"
                        ],
                        [
                          0.7777777777777778,
                          "#fb9f3a"
                        ],
                        [
                          0.8888888888888888,
                          "#fdca26"
                        ],
                        [
                          1,
                          "#f0f921"
                        ]
                      ],
                      "sequentialminus": [
                        [
                          0,
                          "#0d0887"
                        ],
                        [
                          0.1111111111111111,
                          "#46039f"
                        ],
                        [
                          0.2222222222222222,
                          "#7201a8"
                        ],
                        [
                          0.3333333333333333,
                          "#9c179e"
                        ],
                        [
                          0.4444444444444444,
                          "#bd3786"
                        ],
                        [
                          0.5555555555555556,
                          "#d8576b"
                        ],
                        [
                          0.6666666666666666,
                          "#ed7953"
                        ],
                        [
                          0.7777777777777778,
                          "#fb9f3a"
                        ],
                        [
                          0.8888888888888888,
                          "#fdca26"
                        ],
                        [
                          1,
                          "#f0f921"
                        ]
                      ]
                    },
                    "colorway": [
                      "#636efa",
                      "#EF553B",
                      "#00cc96",
                      "#ab63fa",
                      "#FFA15A",
                      "#19d3f3",
                      "#FF6692",
                      "#B6E880",
                      "#FF97FF",
                      "#FECB52"
                    ],
                    "font": {
                      "color": "#2a3f5f"
                    },
                    "geo": {
                      "bgcolor": "white",
                      "lakecolor": "white",
                      "landcolor": "#E5ECF6",
                      "showlakes": true,
                      "showland": true,
                      "subunitcolor": "white"
                    },
                    "hoverlabel": {
                      "align": "left"
                    },
                    "hovermode": "closest",
                    "mapbox": {
                      "style": "light"
                    },
                    "paper_bgcolor": "white",
                    "plot_bgcolor": "#E5ECF6",
                    "polar": {
                      "angularaxis": {
                        "gridcolor": "white",
                        "linecolor": "white",
                        "ticks": ""
                      },
                      "bgcolor": "#E5ECF6",
                      "radialaxis": {
                        "gridcolor": "white",
                        "linecolor": "white",
                        "ticks": ""
                      }
                    },
                    "scene": {
                      "xaxis": {
                        "backgroundcolor": "#E5ECF6",
                        "gridcolor": "white",
                        "gridwidth": 2,
                        "linecolor": "white",
                        "showbackground": true,
                        "ticks": "",
                        "zerolinecolor": "white"
                      },
                      "yaxis": {
                        "backgroundcolor": "#E5ECF6",
                        "gridcolor": "white",
                        "gridwidth": 2,
                        "linecolor": "white",
                        "showbackground": true,
                        "ticks": "",
                        "zerolinecolor": "white"
                      },
                      "zaxis": {
                        "backgroundcolor": "#E5ECF6",
                        "gridcolor": "white",
                        "gridwidth": 2,
                        "linecolor": "white",
                        "showbackground": true,
                        "ticks": "",
                        "zerolinecolor": "white"
                      }
                    },
                    "shapedefaults": {
                      "line": {
                        "color": "#2a3f5f"
                      }
                    },
                    "ternary": {
                      "aaxis": {
                        "gridcolor": "white",
                        "linecolor": "white",
                        "ticks": ""
                      },
                      "baxis": {
                        "gridcolor": "white",
                        "linecolor": "white",
                        "ticks": ""
                      },
                      "bgcolor": "#E5ECF6",
                      "caxis": {
                        "gridcolor": "white",
                        "linecolor": "white",
                        "ticks": ""
                      }
                    },
                    "title": {
                      "x": 0.05
                    },
                    "xaxis": {
                      "automargin": true,
                      "gridcolor": "white",
                      "linecolor": "white",
                      "ticks": "",
                      "title": {
                        "standoff": 15
                      },
                      "zerolinecolor": "white",
                      "zerolinewidth": 2
                    },
                    "yaxis": {
                      "automargin": true,
                      "gridcolor": "white",
                      "linecolor": "white",
                      "ticks": "",
                      "title": {
                        "standoff": 15
                      },
                      "zerolinecolor": "white",
                      "zerolinewidth": 2
                    }
                  }
                }
              }
            }
          },
          "metadata": {},
          "output_type": "display_data"
        }
      ],
      "source": [
        "import plotly.graph_objs as go\n",
        "\n",
        "# Create the scatter plot\n",
        "scatter = go.Scatter3d(x=df_loadings['PC1'], y=df_loadings['PC2'], z=df_loadings['PC3'], mode='markers+text',\n",
        "                       text=df_loadings.index, name='markers', textposition='top center')\n",
        "\n",
        "# Create arrows\n",
        "lines = []\n",
        "line_marker = dict(color='red', width=1)  # adjust as needed\n",
        "\n",
        "# Create a line (arrow) for each point, from the origin to the point\n",
        "for i in range(len(df_loadings)):\n",
        "    lines.append(go.Scatter3d(x=[0, df_loadings['PC1'][i]], \n",
        "                              y=[0, df_loadings['PC2'][i]], \n",
        "                              z=[0, df_loadings['PC3'][i]], \n",
        "                              mode='lines', \n",
        "                              line=line_marker))\n",
        "\n",
        "layout = go.Layout(showlegend=False)\n",
        "\n",
        "# Add all the arrows to the plot\n",
        "fig = go.Figure(data=[scatter] + lines, layout=layout)\n",
        "\n",
        "# Scale size and update axes\n",
        "fig.update_traces(marker=dict(size=3))  # adjust as needed\n",
        "fig.update_layout(scene=dict(xaxis=dict(title='PC1'), yaxis=dict(title='PC2'), zaxis=dict(title='PC3')))\n",
        "\n",
        "fig.show()\n",
        "\n"
      ]
    },
    {
      "attachments": {},
      "cell_type": "markdown",
      "metadata": {
        "colab_type": "text",
        "id": "zKCQCAE7pADa"
      },
      "source": [
        "---"
      ]
    }
  ],
  "metadata": {
    "colab": {
      "collapsed_sections": [
        "993wzT_Qu6ld",
        "zIEVV6ilwmd-",
        "epeccObO2_mi",
        "OB_LvOxNW5Wx",
        "ZtIDXw_AfOwW"
      ],
      "name": "PCA-analysis.ipynb",
      "provenance": []
    },
    "kernelspec": {
      "display_name": "Python 3",
      "language": "python",
      "name": "python3"
    },
    "language_info": {
      "codemirror_mode": {
        "name": "ipython",
        "version": 3
      },
      "file_extension": ".py",
      "mimetype": "text/x-python",
      "name": "python",
      "nbconvert_exporter": "python",
      "pygments_lexer": "ipython3",
      "version": "3.11.3"
    }
  },
  "nbformat": 4,
  "nbformat_minor": 0
}
